{
 "cells": [
  {
   "cell_type": "code",
   "execution_count": 0,
   "metadata": {
    "application/vnd.databricks.v1+cell": {
     "cellMetadata": {
      "byteLimit": 2048000,
      "rowLimit": 10000
     },
     "inputWidgets": {},
     "nuid": "e45f1607-4eaf-4020-9337-573b3bb09540",
     "showTitle": false,
     "title": ""
    }
   },
   "outputs": [
    {
     "output_type": "stream",
     "name": "stdout",
     "output_type": "stream",
     "text": [
      "Out[2]: True"
     ]
    }
   ],
   "source": [
    "dbutils.fs.mkdirs(\"dbfs:/FileStore/source\")\n",
    "dbutils.fs.mkdirs(\"dbfs:/FileStore/target\")"
   ]
  },
  {
   "cell_type": "code",
   "execution_count": 0,
   "metadata": {
    "application/vnd.databricks.v1+cell": {
     "cellMetadata": {
      "byteLimit": 2048000,
      "rowLimit": 10000
     },
     "inputWidgets": {},
     "nuid": "afd0f5da-813a-486d-b4e7-e63ae8d88bd3",
     "showTitle": false,
     "title": ""
    }
   },
   "outputs": [],
   "source": [
    "source_df = spark.read.option(\"inferSchema\", \"true\").csv(\"dbfs:/FileStore/source/growth_morhpho_scd-1.csv\", header=True)"
   ]
  },
  {
   "cell_type": "code",
   "execution_count": 0,
   "metadata": {
    "application/vnd.databricks.v1+cell": {
     "cellMetadata": {
      "byteLimit": 2048000,
      "rowLimit": 10000
     },
     "inputWidgets": {},
     "nuid": "e07fd9d2-0cfd-4cce-ab53-dfe05ca84f13",
     "showTitle": false,
     "title": ""
    }
   },
   "outputs": [
    {
     "output_type": "display_data",
     "data": {
      "text/html": [
       "<style scoped>\n",
       "  .table-result-container {\n",
       "    max-height: 300px;\n",
       "    overflow: auto;\n",
       "  }\n",
       "  table, th, td {\n",
       "    border: 1px solid black;\n",
       "    border-collapse: collapse;\n",
       "  }\n",
       "  th, td {\n",
       "    padding: 5px;\n",
       "  }\n",
       "  th {\n",
       "    text-align: left;\n",
       "  }\n",
       "</style><div class='table-result-container'><table class='table-result'><thead style='background-color: white'><tr><th>GenotypeName</th><th>StemAnthocyanin</th><th>AnthocyaninIntensity</th><th>StemPubescence</th><th>StemPubescenceIntensity</th><th>LeafBladeColour</th><th>LeafBladeColourIntensity</th><th>ColourOfVein</th><th>IntensityOfColour8</th><th>SpineonLeaf</th><th>FlowerColour</th><th>FruitingPattern</th><th>FruitColour</th><th>IntensityofColour13</th><th>Stripes</th><th>StripesDensity</th><th>FruitPatches</th><th>SpinesInCalyx</th><th>DensityOfSpininess</th><th>FruitShape</th></tr></thead><tbody><tr><td>101</td><td>Absent</td><td>Absent</td><td>Present</td><td>Medium</td><td>Green</td><td>Dark</td><td>Green</td><td>Medium</td><td>Absent</td><td>Purple</td><td>Cluster</td><td>Purple</td><td>Medium</td><td>Present</td><td>Sparse</td><td>Present</td><td>Absent</td><td>Absent</td><td>Globular</td></tr><tr><td>102</td><td>Present</td><td>Medium</td><td>Present</td><td>Medium</td><td>Green</td><td>Medium</td><td>Purple</td><td>Medium</td><td>Absent</td><td>Purple</td><td>Solitary</td><td>Purple</td><td>Dark</td><td>Present</td><td>Sparse</td><td>Absent</td><td>Absent</td><td>Absent</td><td>Globular</td></tr><tr><td>104</td><td>Absent</td><td>Absent</td><td>Present</td><td>Medium</td><td>Green</td><td>Dark</td><td>Green</td><td>Medium</td><td>Absent</td><td>Greenish_White</td><td>Solitary</td><td>Green</td><td>Med ium</td><td>Absent</td><td>Absent</td><td>Absent</td><td>Present</td><td>Absent</td><td>Club</td></tr><tr><td>105</td><td>Present</td><td>Weak</td><td>Present</td><td>Medium</td><td>Green</td><td>Medium</td><td>Purple</td><td>Light</td><td>Absent</td><td>Light_Purple</td><td>Solitary</td><td>Purple</td><td>Dark</td><td>Absent</td><td>Absent</td><td>Absent</td><td>Absent</td><td>Absent</td><td>Obovate</td></tr><tr><td>106</td><td>Present</td><td>Medium</td><td>Present</td><td>Weak</td><td>Green</td><td>Medium</td><td>Green</td><td>Medium</td><td>Absent</td><td>Light_Purple</td><td>Cluster</td><td>Green</td><td>Medium</td><td>Absent</td><td>Absent</td><td>Absent</td><td>Present</td><td>Medium</td><td>Club</td></tr><tr><td>108</td><td>Present</td><td>Strong</td><td>Present</td><td>Medium</td><td>Green</td><td>Light</td><td>Purple</td><td>Medium</td><td>Absent</td><td>Light_Purple</td><td>Solitary</td><td>Purple</td><td>Dark</td><td>Absent</td><td>Absent</td><td>Present</td><td>Present</td><td>Medium</td><td>Club</td></tr><tr><td>109</td><td>Present</td><td>Medium</td><td>Present</td><td>Medium</td><td>Green</td><td>Dark</td><td>Purple</td><td>Medium</td><td>Absent</td><td>Light_Purple</td><td>Solitary</td><td>Purple</td><td>Dark</td><td>Absent</td><td>Absent</td><td>Absent</td><td>Absent</td><td>Absent</td><td>Obovate</td></tr><tr><td>110</td><td>Absent</td><td>Absent</td><td>Present</td><td>Strong</td><td>Green</td><td>Medium</td><td>Green</td><td>Medium</td><td>Absent</td><td>Purple</td><td>Solitary</td><td>Green</td><td>Medium</td><td>Absent</td><td>Absent</td><td>Present</td><td>Absent</td><td>Absent</td><td>Globular</td></tr><tr><td>111</td><td>Present</td><td>Weak</td><td>Present</td><td>Medium</td><td>Green</td><td>Medium</td><td>Green</td><td>Medium</td><td>Absent</td><td>Purple</td><td>Solitary</td><td>Purple</td><td>Medium</td><td>Present</td><td>Strong</td><td>Absent</td><td>Present</td><td>Medium</td><td>Ovoid</td></tr><tr><td>112</td><td>Absent</td><td>Absent</td><td>Present</td><td>Medium</td><td>Green</td><td>Medium</td><td>Green</td><td>Medium</td><td>Absent</td><td>Light_Purple</td><td>Cluster</td><td>Green</td><td>Medium</td><td>Present</td><td>Sparse</td><td>Present</td><td>Absent</td><td>Absent</td><td>Obovate</td></tr></tbody></table></div>"
      ]
     },
     "metadata": {
      "application/vnd.databricks.v1+output": {
       "addedWidgets": {},
       "aggData": [],
       "aggError": "",
       "aggOverflow": false,
       "aggSchema": [],
       "aggSeriesLimitReached": false,
       "aggType": "",
       "arguments": {},
       "columnCustomDisplayInfos": {},
       "data": [
        [
         101,
         "Absent",
         "Absent",
         "Present",
         "Medium",
         "Green",
         "Dark",
         "Green",
         "Medium",
         "Absent",
         "Purple",
         "Cluster",
         "Purple",
         "Medium",
         "Present",
         "Sparse",
         "Present",
         "Absent",
         "Absent",
         "Globular"
        ],
        [
         102,
         "Present",
         "Medium",
         "Present",
         "Medium",
         "Green",
         "Medium",
         "Purple",
         "Medium",
         "Absent",
         "Purple",
         "Solitary",
         "Purple",
         "Dark",
         "Present",
         "Sparse",
         "Absent",
         "Absent",
         "Absent",
         "Globular"
        ],
        [
         104,
         "Absent",
         "Absent",
         "Present",
         "Medium",
         "Green",
         "Dark",
         "Green",
         "Medium",
         "Absent",
         "Greenish_White",
         "Solitary",
         "Green",
         "Med ium",
         "Absent",
         "Absent",
         "Absent",
         "Present",
         "Absent",
         "Club"
        ],
        [
         105,
         "Present",
         "Weak",
         "Present",
         "Medium",
         "Green",
         "Medium",
         "Purple",
         "Light",
         "Absent",
         "Light_Purple",
         "Solitary",
         "Purple",
         "Dark",
         "Absent",
         "Absent",
         "Absent",
         "Absent",
         "Absent",
         "Obovate"
        ],
        [
         106,
         "Present",
         "Medium",
         "Present",
         "Weak",
         "Green",
         "Medium",
         "Green",
         "Medium",
         "Absent",
         "Light_Purple",
         "Cluster",
         "Green",
         "Medium",
         "Absent",
         "Absent",
         "Absent",
         "Present",
         "Medium",
         "Club"
        ],
        [
         108,
         "Present",
         "Strong",
         "Present",
         "Medium",
         "Green",
         "Light",
         "Purple",
         "Medium",
         "Absent",
         "Light_Purple",
         "Solitary",
         "Purple",
         "Dark",
         "Absent",
         "Absent",
         "Present",
         "Present",
         "Medium",
         "Club"
        ],
        [
         109,
         "Present",
         "Medium",
         "Present",
         "Medium",
         "Green",
         "Dark",
         "Purple",
         "Medium",
         "Absent",
         "Light_Purple",
         "Solitary",
         "Purple",
         "Dark",
         "Absent",
         "Absent",
         "Absent",
         "Absent",
         "Absent",
         "Obovate"
        ],
        [
         110,
         "Absent",
         "Absent",
         "Present",
         "Strong",
         "Green",
         "Medium",
         "Green",
         "Medium",
         "Absent",
         "Purple",
         "Solitary",
         "Green",
         "Medium",
         "Absent",
         "Absent",
         "Present",
         "Absent",
         "Absent",
         "Globular"
        ],
        [
         111,
         "Present",
         "Weak",
         "Present",
         "Medium",
         "Green",
         "Medium",
         "Green",
         "Medium",
         "Absent",
         "Purple",
         "Solitary",
         "Purple",
         "Medium",
         "Present",
         "Strong",
         "Absent",
         "Present",
         "Medium",
         "Ovoid"
        ],
        [
         112,
         "Absent",
         "Absent",
         "Present",
         "Medium",
         "Green",
         "Medium",
         "Green",
         "Medium",
         "Absent",
         "Light_Purple",
         "Cluster",
         "Green",
         "Medium",
         "Present",
         "Sparse",
         "Present",
         "Absent",
         "Absent",
         "Obovate"
        ]
       ],
       "datasetInfos": [],
       "dbfsResultPath": null,
       "isJsonSchema": true,
       "metadata": {},
       "overflow": false,
       "plotOptions": {
        "customPlotOptions": {},
        "displayType": "table",
        "pivotAggregation": null,
        "pivotColumns": null,
        "xColumns": null,
        "yColumns": null
       },
       "removedWidgets": [],
       "schema": [
        {
         "metadata": "{}",
         "name": "GenotypeName",
         "type": "\"integer\""
        },
        {
         "metadata": "{}",
         "name": "StemAnthocyanin",
         "type": "\"string\""
        },
        {
         "metadata": "{}",
         "name": "AnthocyaninIntensity",
         "type": "\"string\""
        },
        {
         "metadata": "{}",
         "name": "StemPubescence",
         "type": "\"string\""
        },
        {
         "metadata": "{}",
         "name": "StemPubescenceIntensity",
         "type": "\"string\""
        },
        {
         "metadata": "{}",
         "name": "LeafBladeColour",
         "type": "\"string\""
        },
        {
         "metadata": "{}",
         "name": "LeafBladeColourIntensity",
         "type": "\"string\""
        },
        {
         "metadata": "{}",
         "name": "ColourOfVein",
         "type": "\"string\""
        },
        {
         "metadata": "{}",
         "name": "IntensityOfColour8",
         "type": "\"string\""
        },
        {
         "metadata": "{}",
         "name": "SpineonLeaf",
         "type": "\"string\""
        },
        {
         "metadata": "{}",
         "name": "FlowerColour",
         "type": "\"string\""
        },
        {
         "metadata": "{}",
         "name": "FruitingPattern",
         "type": "\"string\""
        },
        {
         "metadata": "{}",
         "name": "FruitColour",
         "type": "\"string\""
        },
        {
         "metadata": "{}",
         "name": "IntensityofColour13",
         "type": "\"string\""
        },
        {
         "metadata": "{}",
         "name": "Stripes",
         "type": "\"string\""
        },
        {
         "metadata": "{}",
         "name": "StripesDensity",
         "type": "\"string\""
        },
        {
         "metadata": "{}",
         "name": "FruitPatches",
         "type": "\"string\""
        },
        {
         "metadata": "{}",
         "name": "SpinesInCalyx",
         "type": "\"string\""
        },
        {
         "metadata": "{}",
         "name": "DensityOfSpininess",
         "type": "\"string\""
        },
        {
         "metadata": "{}",
         "name": "FruitShape",
         "type": "\"string\""
        }
       ],
       "type": "table"
      }
     },
     "output_type": "display_data"
    }
   ],
   "source": [
    "display(source_df)"
   ]
  },
  {
   "cell_type": "code",
   "execution_count": 0,
   "metadata": {
    "application/vnd.databricks.v1+cell": {
     "cellMetadata": {
      "byteLimit": 2048000,
      "rowLimit": 10000
     },
     "inputWidgets": {},
     "nuid": "816eba20-ff54-4564-a929-e138a0439478",
     "showTitle": false,
     "title": ""
    }
   },
   "outputs": [],
   "source": [
    "DATE_FORMAT = \"yyyy-MM-dd\"\n",
    "future_date = \"9999-12-31\"\n",
    "source_url = \"dbfs:/FileStore/source/growth_morhpho_scd.csv\"\n",
    "destination_url = \"dbfs:/FileStore/target/\"\n",
    "primary_key = [\"GenotypeName\"]\n",
    "slowly_changing_cols = [ \"FruitShape\",\"StemAnthocyanin\",\"StemPubescence\"]\n",
    "implementation_cols = [\"effective_date\",\"end_date\",\"active_flag\"]"
   ]
  },
  {
   "cell_type": "code",
   "execution_count": 0,
   "metadata": {
    "application/vnd.databricks.v1+cell": {
     "cellMetadata": {
      "byteLimit": 2048000,
      "rowLimit": 10000
     },
     "inputWidgets": {},
     "nuid": "62cb7228-6e9b-41d3-b76c-78722ad7fad1",
     "showTitle": false,
     "title": ""
    }
   },
   "outputs": [],
   "source": [
    "from pyspark.sql.window import Window"
   ]
  },
  {
   "cell_type": "code",
   "execution_count": 0,
   "metadata": {
    "application/vnd.databricks.v1+cell": {
     "cellMetadata": {
      "byteLimit": 2048000,
      "rowLimit": 10000
     },
     "inputWidgets": {},
     "nuid": "9828b738-ab75-4d3c-a13a-083f9b4a33f9",
     "showTitle": false,
     "title": ""
    }
   },
   "outputs": [],
   "source": [
    "window_spec = Window.orderBy(\"GenotypeName\")"
   ]
  },
  {
   "cell_type": "code",
   "execution_count": 0,
   "metadata": {
    "application/vnd.databricks.v1+cell": {
     "cellMetadata": {
      "byteLimit": 2048000,
      "rowLimit": 10000
     },
     "inputWidgets": {},
     "nuid": "940ba3c5-2893-42d5-b24e-20811dbb135c",
     "showTitle": false,
     "title": ""
    }
   },
   "outputs": [],
   "source": [
    "from pyspark.sql.functions import *\n",
    "enhanced_growth_df = source_df \\\n",
    ".withColumn(\"surrogate_key\",row_number().over(window_spec)) \\\n",
    ".withColumn(\"effective_date\",date_format(current_date(), DATE_FORMAT)) \\\n",
    ".withColumn(\"end_date\",date_format(lit(future_date), DATE_FORMAT)) \\\n",
    ".withColumn(\"active_flag\", lit(True))"
   ]
  },
  {
   "cell_type": "code",
   "execution_count": 0,
   "metadata": {
    "application/vnd.databricks.v1+cell": {
     "cellMetadata": {
      "byteLimit": 2048000,
      "rowLimit": 10000
     },
     "inputWidgets": {},
     "nuid": "3a6db6bd-c3ad-4ec1-8cf7-f881f0133c51",
     "showTitle": false,
     "title": ""
    }
   },
   "outputs": [
    {
     "output_type": "display_data",
     "data": {
      "text/html": [
       "<style scoped>\n",
       "  .table-result-container {\n",
       "    max-height: 300px;\n",
       "    overflow: auto;\n",
       "  }\n",
       "  table, th, td {\n",
       "    border: 1px solid black;\n",
       "    border-collapse: collapse;\n",
       "  }\n",
       "  th, td {\n",
       "    padding: 5px;\n",
       "  }\n",
       "  th {\n",
       "    text-align: left;\n",
       "  }\n",
       "</style><div class='table-result-container'><table class='table-result'><thead style='background-color: white'><tr><th>GenotypeName</th><th>StemAnthocyanin</th><th>AnthocyaninIntensity</th><th>StemPubescence</th><th>StemPubescenceIntensity</th><th>LeafBladeColour</th><th>LeafBladeColourIntensity</th><th>ColourOfVein</th><th>IntensityOfColour8</th><th>SpineonLeaf</th><th>FlowerColour</th><th>FruitingPattern</th><th>FruitColour</th><th>IntensityofColour13</th><th>Stripes</th><th>StripesDensity</th><th>FruitPatches</th><th>SpinesInCalyx</th><th>DensityOfSpininess</th><th>FruitShape</th><th>surrogate_key</th><th>effective_date</th><th>end_date</th><th>active_flag</th></tr></thead><tbody><tr><td>101</td><td>Absent</td><td>Absent</td><td>Present</td><td>Medium</td><td>Green</td><td>Dark</td><td>Green</td><td>Medium</td><td>Absent</td><td>Purple</td><td>Cluster</td><td>Purple</td><td>Medium</td><td>Present</td><td>Sparse</td><td>Present</td><td>Absent</td><td>Absent</td><td>Obovate</td><td>1</td><td>2024-08-13</td><td>9999-12-31</td><td>true</td></tr><tr><td>102</td><td>Present</td><td>Medium</td><td>Present</td><td>Medium</td><td>Green</td><td>Medium</td><td>Purple</td><td>Medium</td><td>Absent</td><td>Purple</td><td>Solitary</td><td>Purple</td><td>Dark</td><td>Present</td><td>Sparse</td><td>Absent</td><td>Absent</td><td>Absent</td><td>Globular</td><td>2</td><td>2024-08-13</td><td>9999-12-31</td><td>true</td></tr><tr><td>103</td><td>Absent</td><td>Absent</td><td>Present</td><td>Medium</td><td>Green</td><td>Medium</td><td>Green</td><td>Medium</td><td>Absent</td><td>Light_Purple</td><td>Cluster</td><td>Green</td><td>Medium</td><td>Present</td><td>Sparse</td><td>Present</td><td>Absent</td><td>Absent</td><td>Obovate</td><td>3</td><td>2024-08-13</td><td>9999-12-31</td><td>true</td></tr><tr><td>104</td><td>Absent</td><td>Absent</td><td>Present</td><td>Medium</td><td>Green</td><td>Dark</td><td>Green</td><td>Medium</td><td>Absent</td><td>Greenish_White</td><td>Solitary</td><td>Green</td><td>Med ium</td><td>Absent</td><td>Absent</td><td>Absent</td><td>Present</td><td>Absent</td><td>Club</td><td>4</td><td>2024-08-13</td><td>9999-12-31</td><td>true</td></tr><tr><td>105</td><td>Present</td><td>Weak</td><td>Present</td><td>Medium</td><td>Green</td><td>Medium</td><td>Purple</td><td>Light</td><td>Absent</td><td>Light_Purple</td><td>Solitary</td><td>Purple</td><td>Dark</td><td>Absent</td><td>Absent</td><td>Absent</td><td>Absent</td><td>Absent</td><td>Obovate</td><td>5</td><td>2024-08-13</td><td>9999-12-31</td><td>true</td></tr><tr><td>106</td><td>Present</td><td>Medium</td><td>Present</td><td>Weak</td><td>Green</td><td>Medium</td><td>Green</td><td>Medium</td><td>Absent</td><td>Light_Purple</td><td>Cluster</td><td>Green</td><td>Medium</td><td>Absent</td><td>Absent</td><td>Absent</td><td>Present</td><td>Medium</td><td>Club</td><td>6</td><td>2024-08-13</td><td>9999-12-31</td><td>true</td></tr><tr><td>107</td><td>Present</td><td>Weak</td><td>Present</td><td>Medium</td><td>Green</td><td>Medium</td><td>Green</td><td>Medium</td><td>Absent</td><td>Purple</td><td>Solitary</td><td>Purple</td><td>Medium</td><td>Present</td><td>Strong</td><td>Absent</td><td>Present</td><td>Medium</td><td>Ovoid</td><td>7</td><td>2024-08-13</td><td>9999-12-31</td><td>true</td></tr><tr><td>108</td><td>Present</td><td>Strong</td><td>Present</td><td>Medium</td><td>Green</td><td>Light</td><td>Purple</td><td>Medium</td><td>Absent</td><td>Light_Purple</td><td>Solitary</td><td>Purple</td><td>Dark</td><td>Absent</td><td>Absent</td><td>Present</td><td>Present</td><td>Medium</td><td>Ovoid</td><td>8</td><td>2024-08-13</td><td>9999-12-31</td><td>true</td></tr><tr><td>109</td><td>Present</td><td>Medium</td><td>Present</td><td>Medium</td><td>Green</td><td>Dark</td><td>Purple</td><td>Medium</td><td>Absent</td><td>Light_Purple</td><td>Solitary</td><td>Purple</td><td>Dark</td><td>Absent</td><td>Absent</td><td>Absent</td><td>Absent</td><td>Absent</td><td>Obovate</td><td>9</td><td>2024-08-13</td><td>9999-12-31</td><td>true</td></tr><tr><td>110</td><td>Absent</td><td>Absent</td><td>Present</td><td>Strong</td><td>Green</td><td>Medium</td><td>Green</td><td>Medium</td><td>Absent</td><td>Purple</td><td>Solitary</td><td>Green</td><td>Medium</td><td>Absent</td><td>Absent</td><td>Present</td><td>Absent</td><td>Absent</td><td>Globular</td><td>10</td><td>2024-08-13</td><td>9999-12-31</td><td>true</td></tr></tbody></table></div>"
      ]
     },
     "metadata": {
      "application/vnd.databricks.v1+output": {
       "addedWidgets": {},
       "aggData": [],
       "aggError": "",
       "aggOverflow": false,
       "aggSchema": [],
       "aggSeriesLimitReached": false,
       "aggType": "",
       "arguments": {},
       "columnCustomDisplayInfos": {},
       "data": [
        [
         101,
         "Absent",
         "Absent",
         "Present",
         "Medium",
         "Green",
         "Dark",
         "Green",
         "Medium",
         "Absent",
         "Purple",
         "Cluster",
         "Purple",
         "Medium",
         "Present",
         "Sparse",
         "Present",
         "Absent",
         "Absent",
         "Obovate",
         1,
         "2024-08-13",
         "9999-12-31",
         true
        ],
        [
         102,
         "Present",
         "Medium",
         "Present",
         "Medium",
         "Green",
         "Medium",
         "Purple",
         "Medium",
         "Absent",
         "Purple",
         "Solitary",
         "Purple",
         "Dark",
         "Present",
         "Sparse",
         "Absent",
         "Absent",
         "Absent",
         "Globular",
         2,
         "2024-08-13",
         "9999-12-31",
         true
        ],
        [
         103,
         "Absent",
         "Absent",
         "Present",
         "Medium",
         "Green",
         "Medium",
         "Green",
         "Medium",
         "Absent",
         "Light_Purple",
         "Cluster",
         "Green",
         "Medium",
         "Present",
         "Sparse",
         "Present",
         "Absent",
         "Absent",
         "Obovate",
         3,
         "2024-08-13",
         "9999-12-31",
         true
        ],
        [
         104,
         "Absent",
         "Absent",
         "Present",
         "Medium",
         "Green",
         "Dark",
         "Green",
         "Medium",
         "Absent",
         "Greenish_White",
         "Solitary",
         "Green",
         "Med ium",
         "Absent",
         "Absent",
         "Absent",
         "Present",
         "Absent",
         "Club",
         4,
         "2024-08-13",
         "9999-12-31",
         true
        ],
        [
         105,
         "Present",
         "Weak",
         "Present",
         "Medium",
         "Green",
         "Medium",
         "Purple",
         "Light",
         "Absent",
         "Light_Purple",
         "Solitary",
         "Purple",
         "Dark",
         "Absent",
         "Absent",
         "Absent",
         "Absent",
         "Absent",
         "Obovate",
         5,
         "2024-08-13",
         "9999-12-31",
         true
        ],
        [
         106,
         "Present",
         "Medium",
         "Present",
         "Weak",
         "Green",
         "Medium",
         "Green",
         "Medium",
         "Absent",
         "Light_Purple",
         "Cluster",
         "Green",
         "Medium",
         "Absent",
         "Absent",
         "Absent",
         "Present",
         "Medium",
         "Club",
         6,
         "2024-08-13",
         "9999-12-31",
         true
        ],
        [
         107,
         "Present",
         "Weak",
         "Present",
         "Medium",
         "Green",
         "Medium",
         "Green",
         "Medium",
         "Absent",
         "Purple",
         "Solitary",
         "Purple",
         "Medium",
         "Present",
         "Strong",
         "Absent",
         "Present",
         "Medium",
         "Ovoid",
         7,
         "2024-08-13",
         "9999-12-31",
         true
        ],
        [
         108,
         "Present",
         "Strong",
         "Present",
         "Medium",
         "Green",
         "Light",
         "Purple",
         "Medium",
         "Absent",
         "Light_Purple",
         "Solitary",
         "Purple",
         "Dark",
         "Absent",
         "Absent",
         "Present",
         "Present",
         "Medium",
         "Ovoid",
         8,
         "2024-08-13",
         "9999-12-31",
         true
        ],
        [
         109,
         "Present",
         "Medium",
         "Present",
         "Medium",
         "Green",
         "Dark",
         "Purple",
         "Medium",
         "Absent",
         "Light_Purple",
         "Solitary",
         "Purple",
         "Dark",
         "Absent",
         "Absent",
         "Absent",
         "Absent",
         "Absent",
         "Obovate",
         9,
         "2024-08-13",
         "9999-12-31",
         true
        ],
        [
         110,
         "Absent",
         "Absent",
         "Present",
         "Strong",
         "Green",
         "Medium",
         "Green",
         "Medium",
         "Absent",
         "Purple",
         "Solitary",
         "Green",
         "Medium",
         "Absent",
         "Absent",
         "Present",
         "Absent",
         "Absent",
         "Globular",
         10,
         "2024-08-13",
         "9999-12-31",
         true
        ]
       ],
       "datasetInfos": [],
       "dbfsResultPath": null,
       "isJsonSchema": true,
       "metadata": {},
       "overflow": false,
       "plotOptions": {
        "customPlotOptions": {},
        "displayType": "table",
        "pivotAggregation": null,
        "pivotColumns": null,
        "xColumns": null,
        "yColumns": null
       },
       "removedWidgets": [],
       "schema": [
        {
         "metadata": "{}",
         "name": "GenotypeName",
         "type": "\"integer\""
        },
        {
         "metadata": "{}",
         "name": "StemAnthocyanin",
         "type": "\"string\""
        },
        {
         "metadata": "{}",
         "name": "AnthocyaninIntensity",
         "type": "\"string\""
        },
        {
         "metadata": "{}",
         "name": "StemPubescence",
         "type": "\"string\""
        },
        {
         "metadata": "{}",
         "name": "StemPubescenceIntensity",
         "type": "\"string\""
        },
        {
         "metadata": "{}",
         "name": "LeafBladeColour",
         "type": "\"string\""
        },
        {
         "metadata": "{}",
         "name": "LeafBladeColourIntensity",
         "type": "\"string\""
        },
        {
         "metadata": "{}",
         "name": "ColourOfVein",
         "type": "\"string\""
        },
        {
         "metadata": "{}",
         "name": "IntensityOfColour8",
         "type": "\"string\""
        },
        {
         "metadata": "{}",
         "name": "SpineonLeaf",
         "type": "\"string\""
        },
        {
         "metadata": "{}",
         "name": "FlowerColour",
         "type": "\"string\""
        },
        {
         "metadata": "{}",
         "name": "FruitingPattern",
         "type": "\"string\""
        },
        {
         "metadata": "{}",
         "name": "FruitColour",
         "type": "\"string\""
        },
        {
         "metadata": "{}",
         "name": "IntensityofColour13",
         "type": "\"string\""
        },
        {
         "metadata": "{}",
         "name": "Stripes",
         "type": "\"string\""
        },
        {
         "metadata": "{}",
         "name": "StripesDensity",
         "type": "\"string\""
        },
        {
         "metadata": "{}",
         "name": "FruitPatches",
         "type": "\"string\""
        },
        {
         "metadata": "{}",
         "name": "SpinesInCalyx",
         "type": "\"string\""
        },
        {
         "metadata": "{}",
         "name": "DensityOfSpininess",
         "type": "\"string\""
        },
        {
         "metadata": "{}",
         "name": "FruitShape",
         "type": "\"string\""
        },
        {
         "metadata": "{}",
         "name": "surrogate_key",
         "type": "\"integer\""
        },
        {
         "metadata": "{}",
         "name": "effective_date",
         "type": "\"string\""
        },
        {
         "metadata": "{}",
         "name": "end_date",
         "type": "\"string\""
        },
        {
         "metadata": "{}",
         "name": "active_flag",
         "type": "\"boolean\""
        }
       ],
       "type": "table"
      }
     },
     "output_type": "display_data"
    }
   ],
   "source": [
    "display(enhanced_growth_df)"
   ]
  },
  {
   "cell_type": "code",
   "execution_count": 0,
   "metadata": {
    "application/vnd.databricks.v1+cell": {
     "cellMetadata": {
      "byteLimit": 2048000,
      "rowLimit": 10000
     },
     "inputWidgets": {},
     "nuid": "219c5b03-c036-495a-ae70-6b4a0691f93c",
     "showTitle": false,
     "title": ""
    }
   },
   "outputs": [],
   "source": [
    "enhanced_growth_df.repartition(1).write.mode(\"overwrite\").format(\"csv\").option(\"header\", \"true\").save(\"dbfs:/FileStore/target/\")"
   ]
  },
  {
   "cell_type": "code",
   "execution_count": 0,
   "metadata": {
    "application/vnd.databricks.v1+cell": {
     "cellMetadata": {
      "byteLimit": 2048000,
      "rowLimit": 10000
     },
     "inputWidgets": {},
     "nuid": "782b8b8b-03ae-4ebf-92fb-cd24b5feb60a",
     "showTitle": false,
     "title": ""
    }
   },
   "outputs": [
    {
     "output_type": "display_data",
     "data": {
      "text/html": [
       "<style scoped>\n",
       "  .table-result-container {\n",
       "    max-height: 300px;\n",
       "    overflow: auto;\n",
       "  }\n",
       "  table, th, td {\n",
       "    border: 1px solid black;\n",
       "    border-collapse: collapse;\n",
       "  }\n",
       "  th, td {\n",
       "    padding: 5px;\n",
       "  }\n",
       "  th {\n",
       "    text-align: left;\n",
       "  }\n",
       "</style><div class='table-result-container'><table class='table-result'><thead style='background-color: white'><tr><th>GenotypeName</th><th>StemAnthocyanin</th><th>AnthocyaninIntensity</th><th>StemPubescence</th><th>StemPubescenceIntensity</th><th>LeafBladeColour</th><th>LeafBladeColourIntensity</th><th>ColourOfVein</th><th>IntensityOfColour8</th><th>SpineonLeaf</th><th>FlowerColour</th><th>FruitingPattern</th><th>FruitColour</th><th>IntensityofColour13</th><th>Stripes</th><th>StripesDensity</th><th>FruitPatches</th><th>SpinesInCalyx</th><th>DensityOfSpininess</th><th>FruitShape</th><th>surrogate_key</th><th>effective_date</th><th>end_date</th><th>active_flag</th></tr></thead><tbody><tr><td>101</td><td>Absent</td><td>Absent</td><td>Present</td><td>Medium</td><td>Green</td><td>Dark</td><td>Green</td><td>Medium</td><td>Absent</td><td>Purple</td><td>Cluster</td><td>Purple</td><td>Medium</td><td>Present</td><td>Sparse</td><td>Present</td><td>Absent</td><td>Absent</td><td>Obovate</td><td>1</td><td>2024-08-13</td><td>9999-12-31</td><td>true</td></tr><tr><td>102</td><td>Present</td><td>Medium</td><td>Present</td><td>Medium</td><td>Green</td><td>Medium</td><td>Purple</td><td>Medium</td><td>Absent</td><td>Purple</td><td>Solitary</td><td>Purple</td><td>Dark</td><td>Present</td><td>Sparse</td><td>Absent</td><td>Absent</td><td>Absent</td><td>Globular</td><td>2</td><td>2024-08-13</td><td>9999-12-31</td><td>true</td></tr><tr><td>103</td><td>Absent</td><td>Absent</td><td>Present</td><td>Medium</td><td>Green</td><td>Medium</td><td>Green</td><td>Medium</td><td>Absent</td><td>Light_Purple</td><td>Cluster</td><td>Green</td><td>Medium</td><td>Present</td><td>Sparse</td><td>Present</td><td>Absent</td><td>Absent</td><td>Obovate</td><td>3</td><td>2024-08-13</td><td>9999-12-31</td><td>true</td></tr><tr><td>104</td><td>Absent</td><td>Absent</td><td>Present</td><td>Medium</td><td>Green</td><td>Dark</td><td>Green</td><td>Medium</td><td>Absent</td><td>Greenish_White</td><td>Solitary</td><td>Green</td><td>Med ium</td><td>Absent</td><td>Absent</td><td>Absent</td><td>Present</td><td>Absent</td><td>Club</td><td>4</td><td>2024-08-13</td><td>9999-12-31</td><td>true</td></tr><tr><td>105</td><td>Present</td><td>Weak</td><td>Present</td><td>Medium</td><td>Green</td><td>Medium</td><td>Purple</td><td>Light</td><td>Absent</td><td>Light_Purple</td><td>Solitary</td><td>Purple</td><td>Dark</td><td>Absent</td><td>Absent</td><td>Absent</td><td>Absent</td><td>Absent</td><td>Obovate</td><td>5</td><td>2024-08-13</td><td>9999-12-31</td><td>true</td></tr><tr><td>106</td><td>Present</td><td>Medium</td><td>Present</td><td>Weak</td><td>Green</td><td>Medium</td><td>Green</td><td>Medium</td><td>Absent</td><td>Light_Purple</td><td>Cluster</td><td>Green</td><td>Medium</td><td>Absent</td><td>Absent</td><td>Absent</td><td>Present</td><td>Medium</td><td>Club</td><td>6</td><td>2024-08-13</td><td>9999-12-31</td><td>true</td></tr><tr><td>107</td><td>Present</td><td>Weak</td><td>Present</td><td>Medium</td><td>Green</td><td>Medium</td><td>Green</td><td>Medium</td><td>Absent</td><td>Purple</td><td>Solitary</td><td>Purple</td><td>Medium</td><td>Present</td><td>Strong</td><td>Absent</td><td>Present</td><td>Medium</td><td>Ovoid</td><td>7</td><td>2024-08-13</td><td>9999-12-31</td><td>true</td></tr><tr><td>108</td><td>Present</td><td>Strong</td><td>Present</td><td>Medium</td><td>Green</td><td>Light</td><td>Purple</td><td>Medium</td><td>Absent</td><td>Light_Purple</td><td>Solitary</td><td>Purple</td><td>Dark</td><td>Absent</td><td>Absent</td><td>Present</td><td>Present</td><td>Medium</td><td>Ovoid</td><td>8</td><td>2024-08-13</td><td>9999-12-31</td><td>true</td></tr><tr><td>109</td><td>Present</td><td>Medium</td><td>Present</td><td>Medium</td><td>Green</td><td>Dark</td><td>Purple</td><td>Medium</td><td>Absent</td><td>Light_Purple</td><td>Solitary</td><td>Purple</td><td>Dark</td><td>Absent</td><td>Absent</td><td>Absent</td><td>Absent</td><td>Absent</td><td>Obovate</td><td>9</td><td>2024-08-13</td><td>9999-12-31</td><td>true</td></tr><tr><td>110</td><td>Absent</td><td>Absent</td><td>Present</td><td>Strong</td><td>Green</td><td>Medium</td><td>Green</td><td>Medium</td><td>Absent</td><td>Purple</td><td>Solitary</td><td>Green</td><td>Medium</td><td>Absent</td><td>Absent</td><td>Present</td><td>Absent</td><td>Absent</td><td>Globular</td><td>10</td><td>2024-08-13</td><td>9999-12-31</td><td>true</td></tr></tbody></table></div>"
      ]
     },
     "metadata": {
      "application/vnd.databricks.v1+output": {
       "addedWidgets": {},
       "aggData": [],
       "aggError": "",
       "aggOverflow": false,
       "aggSchema": [],
       "aggSeriesLimitReached": false,
       "aggType": "",
       "arguments": {},
       "columnCustomDisplayInfos": {},
       "data": [
        [
         101,
         "Absent",
         "Absent",
         "Present",
         "Medium",
         "Green",
         "Dark",
         "Green",
         "Medium",
         "Absent",
         "Purple",
         "Cluster",
         "Purple",
         "Medium",
         "Present",
         "Sparse",
         "Present",
         "Absent",
         "Absent",
         "Obovate",
         1,
         "2024-08-13",
         "9999-12-31",
         true
        ],
        [
         102,
         "Present",
         "Medium",
         "Present",
         "Medium",
         "Green",
         "Medium",
         "Purple",
         "Medium",
         "Absent",
         "Purple",
         "Solitary",
         "Purple",
         "Dark",
         "Present",
         "Sparse",
         "Absent",
         "Absent",
         "Absent",
         "Globular",
         2,
         "2024-08-13",
         "9999-12-31",
         true
        ],
        [
         103,
         "Absent",
         "Absent",
         "Present",
         "Medium",
         "Green",
         "Medium",
         "Green",
         "Medium",
         "Absent",
         "Light_Purple",
         "Cluster",
         "Green",
         "Medium",
         "Present",
         "Sparse",
         "Present",
         "Absent",
         "Absent",
         "Obovate",
         3,
         "2024-08-13",
         "9999-12-31",
         true
        ],
        [
         104,
         "Absent",
         "Absent",
         "Present",
         "Medium",
         "Green",
         "Dark",
         "Green",
         "Medium",
         "Absent",
         "Greenish_White",
         "Solitary",
         "Green",
         "Med ium",
         "Absent",
         "Absent",
         "Absent",
         "Present",
         "Absent",
         "Club",
         4,
         "2024-08-13",
         "9999-12-31",
         true
        ],
        [
         105,
         "Present",
         "Weak",
         "Present",
         "Medium",
         "Green",
         "Medium",
         "Purple",
         "Light",
         "Absent",
         "Light_Purple",
         "Solitary",
         "Purple",
         "Dark",
         "Absent",
         "Absent",
         "Absent",
         "Absent",
         "Absent",
         "Obovate",
         5,
         "2024-08-13",
         "9999-12-31",
         true
        ],
        [
         106,
         "Present",
         "Medium",
         "Present",
         "Weak",
         "Green",
         "Medium",
         "Green",
         "Medium",
         "Absent",
         "Light_Purple",
         "Cluster",
         "Green",
         "Medium",
         "Absent",
         "Absent",
         "Absent",
         "Present",
         "Medium",
         "Club",
         6,
         "2024-08-13",
         "9999-12-31",
         true
        ],
        [
         107,
         "Present",
         "Weak",
         "Present",
         "Medium",
         "Green",
         "Medium",
         "Green",
         "Medium",
         "Absent",
         "Purple",
         "Solitary",
         "Purple",
         "Medium",
         "Present",
         "Strong",
         "Absent",
         "Present",
         "Medium",
         "Ovoid",
         7,
         "2024-08-13",
         "9999-12-31",
         true
        ],
        [
         108,
         "Present",
         "Strong",
         "Present",
         "Medium",
         "Green",
         "Light",
         "Purple",
         "Medium",
         "Absent",
         "Light_Purple",
         "Solitary",
         "Purple",
         "Dark",
         "Absent",
         "Absent",
         "Present",
         "Present",
         "Medium",
         "Ovoid",
         8,
         "2024-08-13",
         "9999-12-31",
         true
        ],
        [
         109,
         "Present",
         "Medium",
         "Present",
         "Medium",
         "Green",
         "Dark",
         "Purple",
         "Medium",
         "Absent",
         "Light_Purple",
         "Solitary",
         "Purple",
         "Dark",
         "Absent",
         "Absent",
         "Absent",
         "Absent",
         "Absent",
         "Obovate",
         9,
         "2024-08-13",
         "9999-12-31",
         true
        ],
        [
         110,
         "Absent",
         "Absent",
         "Present",
         "Strong",
         "Green",
         "Medium",
         "Green",
         "Medium",
         "Absent",
         "Purple",
         "Solitary",
         "Green",
         "Medium",
         "Absent",
         "Absent",
         "Present",
         "Absent",
         "Absent",
         "Globular",
         10,
         "2024-08-13",
         "9999-12-31",
         true
        ]
       ],
       "datasetInfos": [],
       "dbfsResultPath": null,
       "isJsonSchema": true,
       "metadata": {},
       "overflow": false,
       "plotOptions": {
        "customPlotOptions": {},
        "displayType": "table",
        "pivotAggregation": null,
        "pivotColumns": null,
        "xColumns": null,
        "yColumns": null
       },
       "removedWidgets": [],
       "schema": [
        {
         "metadata": "{}",
         "name": "GenotypeName",
         "type": "\"integer\""
        },
        {
         "metadata": "{}",
         "name": "StemAnthocyanin",
         "type": "\"string\""
        },
        {
         "metadata": "{}",
         "name": "AnthocyaninIntensity",
         "type": "\"string\""
        },
        {
         "metadata": "{}",
         "name": "StemPubescence",
         "type": "\"string\""
        },
        {
         "metadata": "{}",
         "name": "StemPubescenceIntensity",
         "type": "\"string\""
        },
        {
         "metadata": "{}",
         "name": "LeafBladeColour",
         "type": "\"string\""
        },
        {
         "metadata": "{}",
         "name": "LeafBladeColourIntensity",
         "type": "\"string\""
        },
        {
         "metadata": "{}",
         "name": "ColourOfVein",
         "type": "\"string\""
        },
        {
         "metadata": "{}",
         "name": "IntensityOfColour8",
         "type": "\"string\""
        },
        {
         "metadata": "{}",
         "name": "SpineonLeaf",
         "type": "\"string\""
        },
        {
         "metadata": "{}",
         "name": "FlowerColour",
         "type": "\"string\""
        },
        {
         "metadata": "{}",
         "name": "FruitingPattern",
         "type": "\"string\""
        },
        {
         "metadata": "{}",
         "name": "FruitColour",
         "type": "\"string\""
        },
        {
         "metadata": "{}",
         "name": "IntensityofColour13",
         "type": "\"string\""
        },
        {
         "metadata": "{}",
         "name": "Stripes",
         "type": "\"string\""
        },
        {
         "metadata": "{}",
         "name": "StripesDensity",
         "type": "\"string\""
        },
        {
         "metadata": "{}",
         "name": "FruitPatches",
         "type": "\"string\""
        },
        {
         "metadata": "{}",
         "name": "SpinesInCalyx",
         "type": "\"string\""
        },
        {
         "metadata": "{}",
         "name": "DensityOfSpininess",
         "type": "\"string\""
        },
        {
         "metadata": "{}",
         "name": "FruitShape",
         "type": "\"string\""
        },
        {
         "metadata": "{}",
         "name": "surrogate_key",
         "type": "\"integer\""
        },
        {
         "metadata": "{\"__detected_date_formats\":\"yyyy-M-d\"}",
         "name": "effective_date",
         "type": "\"date\""
        },
        {
         "metadata": "{\"__detected_date_formats\":\"yyyy-M-d\"}",
         "name": "end_date",
         "type": "\"date\""
        },
        {
         "metadata": "{}",
         "name": "active_flag",
         "type": "\"boolean\""
        }
       ],
       "type": "table"
      }
     },
     "output_type": "display_data"
    }
   ],
   "source": [
    "target_df = spark.read.option(\"inferSchema\", \"true\").csv(\"dbfs:/FileStore/target/\", header= True)\n",
    "display(target_df)"
   ]
  },
  {
   "cell_type": "code",
   "execution_count": 0,
   "metadata": {
    "application/vnd.databricks.v1+cell": {
     "cellMetadata": {
      "byteLimit": 2048000,
      "rowLimit": 10000
     },
     "inputWidgets": {},
     "nuid": "f555106e-d60f-4d84-9c36-38dae08d2cfd",
     "showTitle": false,
     "title": ""
    }
   },
   "outputs": [
    {
     "output_type": "display_data",
     "data": {
      "text/html": [
       "<style scoped>\n",
       "  .table-result-container {\n",
       "    max-height: 300px;\n",
       "    overflow: auto;\n",
       "  }\n",
       "  table, th, td {\n",
       "    border: 1px solid black;\n",
       "    border-collapse: collapse;\n",
       "  }\n",
       "  th, td {\n",
       "    padding: 5px;\n",
       "  }\n",
       "  th {\n",
       "    text-align: left;\n",
       "  }\n",
       "</style><div class='table-result-container'><table class='table-result'><thead style='background-color: white'><tr><th>GenotypeName</th><th>StemAnthocyanin</th><th>AnthocyaninIntensity</th><th>StemPubescence</th><th>StemPubescenceIntensity</th><th>LeafBladeColour</th><th>LeafBladeColourIntensity</th><th>ColourOfVein</th><th>IntensityOfColour8</th><th>SpineonLeaf</th><th>FlowerColour</th><th>FruitingPattern</th><th>FruitColour</th><th>IntensityofColour13</th><th>Stripes</th><th>StripesDensity</th><th>FruitPatches</th><th>SpinesInCalyx</th><th>DensityOfSpininess</th><th>FruitShape</th></tr></thead><tbody><tr><td>101</td><td>Absent</td><td>Absent</td><td>Present</td><td>Medium</td><td>Green</td><td>Dark</td><td>Green</td><td>Medium</td><td>Absent</td><td>Purple</td><td>Cluster</td><td>Purple</td><td>Medium</td><td>Present</td><td>Sparse</td><td>Present</td><td>Absent</td><td>Absent</td><td>Globular</td></tr><tr><td>102</td><td>Present</td><td>Medium</td><td>Present</td><td>Medium</td><td>Green</td><td>Medium</td><td>Purple</td><td>Medium</td><td>Absent</td><td>Purple</td><td>Solitary</td><td>Purple</td><td>Dark</td><td>Present</td><td>Sparse</td><td>Absent</td><td>Absent</td><td>Absent</td><td>Globular</td></tr><tr><td>104</td><td>Absent</td><td>Absent</td><td>Present</td><td>Medium</td><td>Green</td><td>Dark</td><td>Green</td><td>Medium</td><td>Absent</td><td>Greenish_White</td><td>Solitary</td><td>Green</td><td>Med ium</td><td>Absent</td><td>Absent</td><td>Absent</td><td>Present</td><td>Absent</td><td>Club</td></tr><tr><td>105</td><td>Present</td><td>Weak</td><td>Present</td><td>Medium</td><td>Green</td><td>Medium</td><td>Purple</td><td>Light</td><td>Absent</td><td>Light_Purple</td><td>Solitary</td><td>Purple</td><td>Dark</td><td>Absent</td><td>Absent</td><td>Absent</td><td>Absent</td><td>Absent</td><td>Obovate</td></tr><tr><td>106</td><td>Present</td><td>Medium</td><td>Present</td><td>Weak</td><td>Green</td><td>Medium</td><td>Green</td><td>Medium</td><td>Absent</td><td>Light_Purple</td><td>Cluster</td><td>Green</td><td>Medium</td><td>Absent</td><td>Absent</td><td>Absent</td><td>Present</td><td>Medium</td><td>Club</td></tr><tr><td>108</td><td>Present</td><td>Strong</td><td>Present</td><td>Medium</td><td>Green</td><td>Light</td><td>Purple</td><td>Medium</td><td>Absent</td><td>Light_Purple</td><td>Solitary</td><td>Purple</td><td>Dark</td><td>Absent</td><td>Absent</td><td>Present</td><td>Present</td><td>Medium</td><td>Club</td></tr><tr><td>109</td><td>Present</td><td>Medium</td><td>Present</td><td>Medium</td><td>Green</td><td>Dark</td><td>Purple</td><td>Medium</td><td>Absent</td><td>Light_Purple</td><td>Solitary</td><td>Purple</td><td>Dark</td><td>Absent</td><td>Absent</td><td>Absent</td><td>Absent</td><td>Absent</td><td>Obovate</td></tr><tr><td>110</td><td>Absent</td><td>Absent</td><td>Present</td><td>Strong</td><td>Green</td><td>Medium</td><td>Green</td><td>Medium</td><td>Absent</td><td>Purple</td><td>Solitary</td><td>Green</td><td>Medium</td><td>Absent</td><td>Absent</td><td>Present</td><td>Absent</td><td>Absent</td><td>Globular</td></tr><tr><td>111</td><td>Present</td><td>Weak</td><td>Present</td><td>Medium</td><td>Green</td><td>Medium</td><td>Green</td><td>Medium</td><td>Absent</td><td>Purple</td><td>Solitary</td><td>Purple</td><td>Medium</td><td>Present</td><td>Strong</td><td>Absent</td><td>Present</td><td>Medium</td><td>Ovoid</td></tr><tr><td>112</td><td>Absent</td><td>Absent</td><td>Present</td><td>Medium</td><td>Green</td><td>Medium</td><td>Green</td><td>Medium</td><td>Absent</td><td>Light_Purple</td><td>Cluster</td><td>Green</td><td>Medium</td><td>Present</td><td>Sparse</td><td>Present</td><td>Absent</td><td>Absent</td><td>Obovate</td></tr></tbody></table></div>"
      ]
     },
     "metadata": {
      "application/vnd.databricks.v1+output": {
       "addedWidgets": {},
       "aggData": [],
       "aggError": "",
       "aggOverflow": false,
       "aggSchema": [],
       "aggSeriesLimitReached": false,
       "aggType": "",
       "arguments": {},
       "columnCustomDisplayInfos": {},
       "data": [
        [
         101,
         "Absent",
         "Absent",
         "Present",
         "Medium",
         "Green",
         "Dark",
         "Green",
         "Medium",
         "Absent",
         "Purple",
         "Cluster",
         "Purple",
         "Medium",
         "Present",
         "Sparse",
         "Present",
         "Absent",
         "Absent",
         "Globular"
        ],
        [
         102,
         "Present",
         "Medium",
         "Present",
         "Medium",
         "Green",
         "Medium",
         "Purple",
         "Medium",
         "Absent",
         "Purple",
         "Solitary",
         "Purple",
         "Dark",
         "Present",
         "Sparse",
         "Absent",
         "Absent",
         "Absent",
         "Globular"
        ],
        [
         104,
         "Absent",
         "Absent",
         "Present",
         "Medium",
         "Green",
         "Dark",
         "Green",
         "Medium",
         "Absent",
         "Greenish_White",
         "Solitary",
         "Green",
         "Med ium",
         "Absent",
         "Absent",
         "Absent",
         "Present",
         "Absent",
         "Club"
        ],
        [
         105,
         "Present",
         "Weak",
         "Present",
         "Medium",
         "Green",
         "Medium",
         "Purple",
         "Light",
         "Absent",
         "Light_Purple",
         "Solitary",
         "Purple",
         "Dark",
         "Absent",
         "Absent",
         "Absent",
         "Absent",
         "Absent",
         "Obovate"
        ],
        [
         106,
         "Present",
         "Medium",
         "Present",
         "Weak",
         "Green",
         "Medium",
         "Green",
         "Medium",
         "Absent",
         "Light_Purple",
         "Cluster",
         "Green",
         "Medium",
         "Absent",
         "Absent",
         "Absent",
         "Present",
         "Medium",
         "Club"
        ],
        [
         108,
         "Present",
         "Strong",
         "Present",
         "Medium",
         "Green",
         "Light",
         "Purple",
         "Medium",
         "Absent",
         "Light_Purple",
         "Solitary",
         "Purple",
         "Dark",
         "Absent",
         "Absent",
         "Present",
         "Present",
         "Medium",
         "Club"
        ],
        [
         109,
         "Present",
         "Medium",
         "Present",
         "Medium",
         "Green",
         "Dark",
         "Purple",
         "Medium",
         "Absent",
         "Light_Purple",
         "Solitary",
         "Purple",
         "Dark",
         "Absent",
         "Absent",
         "Absent",
         "Absent",
         "Absent",
         "Obovate"
        ],
        [
         110,
         "Absent",
         "Absent",
         "Present",
         "Strong",
         "Green",
         "Medium",
         "Green",
         "Medium",
         "Absent",
         "Purple",
         "Solitary",
         "Green",
         "Medium",
         "Absent",
         "Absent",
         "Present",
         "Absent",
         "Absent",
         "Globular"
        ],
        [
         111,
         "Present",
         "Weak",
         "Present",
         "Medium",
         "Green",
         "Medium",
         "Green",
         "Medium",
         "Absent",
         "Purple",
         "Solitary",
         "Purple",
         "Medium",
         "Present",
         "Strong",
         "Absent",
         "Present",
         "Medium",
         "Ovoid"
        ],
        [
         112,
         "Absent",
         "Absent",
         "Present",
         "Medium",
         "Green",
         "Medium",
         "Green",
         "Medium",
         "Absent",
         "Light_Purple",
         "Cluster",
         "Green",
         "Medium",
         "Present",
         "Sparse",
         "Present",
         "Absent",
         "Absent",
         "Obovate"
        ]
       ],
       "datasetInfos": [],
       "dbfsResultPath": null,
       "isJsonSchema": true,
       "metadata": {},
       "overflow": false,
       "plotOptions": {
        "customPlotOptions": {},
        "displayType": "table",
        "pivotAggregation": null,
        "pivotColumns": null,
        "xColumns": null,
        "yColumns": null
       },
       "removedWidgets": [],
       "schema": [
        {
         "metadata": "{}",
         "name": "GenotypeName",
         "type": "\"integer\""
        },
        {
         "metadata": "{}",
         "name": "StemAnthocyanin",
         "type": "\"string\""
        },
        {
         "metadata": "{}",
         "name": "AnthocyaninIntensity",
         "type": "\"string\""
        },
        {
         "metadata": "{}",
         "name": "StemPubescence",
         "type": "\"string\""
        },
        {
         "metadata": "{}",
         "name": "StemPubescenceIntensity",
         "type": "\"string\""
        },
        {
         "metadata": "{}",
         "name": "LeafBladeColour",
         "type": "\"string\""
        },
        {
         "metadata": "{}",
         "name": "LeafBladeColourIntensity",
         "type": "\"string\""
        },
        {
         "metadata": "{}",
         "name": "ColourOfVein",
         "type": "\"string\""
        },
        {
         "metadata": "{}",
         "name": "IntensityOfColour8",
         "type": "\"string\""
        },
        {
         "metadata": "{}",
         "name": "SpineonLeaf",
         "type": "\"string\""
        },
        {
         "metadata": "{}",
         "name": "FlowerColour",
         "type": "\"string\""
        },
        {
         "metadata": "{}",
         "name": "FruitingPattern",
         "type": "\"string\""
        },
        {
         "metadata": "{}",
         "name": "FruitColour",
         "type": "\"string\""
        },
        {
         "metadata": "{}",
         "name": "IntensityofColour13",
         "type": "\"string\""
        },
        {
         "metadata": "{}",
         "name": "Stripes",
         "type": "\"string\""
        },
        {
         "metadata": "{}",
         "name": "StripesDensity",
         "type": "\"string\""
        },
        {
         "metadata": "{}",
         "name": "FruitPatches",
         "type": "\"string\""
        },
        {
         "metadata": "{}",
         "name": "SpinesInCalyx",
         "type": "\"string\""
        },
        {
         "metadata": "{}",
         "name": "DensityOfSpininess",
         "type": "\"string\""
        },
        {
         "metadata": "{}",
         "name": "FruitShape",
         "type": "\"string\""
        }
       ],
       "type": "table"
      }
     },
     "output_type": "display_data"
    }
   ],
   "source": [
    "display(source_df)"
   ]
  },
  {
   "cell_type": "code",
   "execution_count": 0,
   "metadata": {
    "application/vnd.databricks.v1+cell": {
     "cellMetadata": {
      "byteLimit": 2048000,
      "rowLimit": 10000
     },
     "inputWidgets": {},
     "nuid": "874ae64f-4f31-4dfd-87d8-04d77a218e2d",
     "showTitle": false,
     "title": ""
    }
   },
   "outputs": [],
   "source": [
    "active_target_df = target_df.where(col(\"active_flag\")== True)"
   ]
  },
  {
   "cell_type": "code",
   "execution_count": 0,
   "metadata": {
    "application/vnd.databricks.v1+cell": {
     "cellMetadata": {
      "byteLimit": 2048000,
      "rowLimit": 10000
     },
     "inputWidgets": {},
     "nuid": "64850f55-9964-4c9d-9584-1ea087ddbb0e",
     "showTitle": false,
     "title": ""
    }
   },
   "outputs": [],
   "source": [
    "inactive_target_df = target_df.where(col(\"active_flag\")== False)"
   ]
  },
  {
   "cell_type": "code",
   "execution_count": 0,
   "metadata": {
    "application/vnd.databricks.v1+cell": {
     "cellMetadata": {
      "byteLimit": 2048000,
      "rowLimit": 10000
     },
     "inputWidgets": {},
     "nuid": "2a43318c-4cfc-4c64-8c6a-f8342e8d039f",
     "showTitle": false,
     "title": ""
    }
   },
   "outputs": [
    {
     "output_type": "display_data",
     "data": {
      "text/html": [
       "<style scoped>\n",
       "  .table-result-container {\n",
       "    max-height: 300px;\n",
       "    overflow: auto;\n",
       "  }\n",
       "  table, th, td {\n",
       "    border: 1px solid black;\n",
       "    border-collapse: collapse;\n",
       "  }\n",
       "  th, td {\n",
       "    padding: 5px;\n",
       "  }\n",
       "  th {\n",
       "    text-align: left;\n",
       "  }\n",
       "</style><div class='table-result-container'><table class='table-result'><thead style='background-color: white'><tr><th>GenotypeName</th><th>StemAnthocyanin</th><th>AnthocyaninIntensity</th><th>StemPubescence</th><th>StemPubescenceIntensity</th><th>LeafBladeColour</th><th>LeafBladeColourIntensity</th><th>ColourOfVein</th><th>IntensityOfColour8</th><th>SpineonLeaf</th><th>FlowerColour</th><th>FruitingPattern</th><th>FruitColour</th><th>IntensityofColour13</th><th>Stripes</th><th>StripesDensity</th><th>FruitPatches</th><th>SpinesInCalyx</th><th>DensityOfSpininess</th><th>FruitShape</th><th>surrogate_key</th><th>effective_date</th><th>end_date</th><th>active_flag</th></tr></thead><tbody><tr><td>101</td><td>Absent</td><td>Absent</td><td>Present</td><td>Medium</td><td>Green</td><td>Dark</td><td>Green</td><td>Medium</td><td>Absent</td><td>Purple</td><td>Cluster</td><td>Purple</td><td>Medium</td><td>Present</td><td>Sparse</td><td>Present</td><td>Absent</td><td>Absent</td><td>Obovate</td><td>1</td><td>2024-08-13</td><td>9999-12-31</td><td>true</td></tr><tr><td>102</td><td>Present</td><td>Medium</td><td>Present</td><td>Medium</td><td>Green</td><td>Medium</td><td>Purple</td><td>Medium</td><td>Absent</td><td>Purple</td><td>Solitary</td><td>Purple</td><td>Dark</td><td>Present</td><td>Sparse</td><td>Absent</td><td>Absent</td><td>Absent</td><td>Globular</td><td>2</td><td>2024-08-13</td><td>9999-12-31</td><td>true</td></tr><tr><td>103</td><td>Absent</td><td>Absent</td><td>Present</td><td>Medium</td><td>Green</td><td>Medium</td><td>Green</td><td>Medium</td><td>Absent</td><td>Light_Purple</td><td>Cluster</td><td>Green</td><td>Medium</td><td>Present</td><td>Sparse</td><td>Present</td><td>Absent</td><td>Absent</td><td>Obovate</td><td>3</td><td>2024-08-13</td><td>9999-12-31</td><td>true</td></tr><tr><td>104</td><td>Absent</td><td>Absent</td><td>Present</td><td>Medium</td><td>Green</td><td>Dark</td><td>Green</td><td>Medium</td><td>Absent</td><td>Greenish_White</td><td>Solitary</td><td>Green</td><td>Med ium</td><td>Absent</td><td>Absent</td><td>Absent</td><td>Present</td><td>Absent</td><td>Club</td><td>4</td><td>2024-08-13</td><td>9999-12-31</td><td>true</td></tr><tr><td>105</td><td>Present</td><td>Weak</td><td>Present</td><td>Medium</td><td>Green</td><td>Medium</td><td>Purple</td><td>Light</td><td>Absent</td><td>Light_Purple</td><td>Solitary</td><td>Purple</td><td>Dark</td><td>Absent</td><td>Absent</td><td>Absent</td><td>Absent</td><td>Absent</td><td>Obovate</td><td>5</td><td>2024-08-13</td><td>9999-12-31</td><td>true</td></tr><tr><td>106</td><td>Present</td><td>Medium</td><td>Present</td><td>Weak</td><td>Green</td><td>Medium</td><td>Green</td><td>Medium</td><td>Absent</td><td>Light_Purple</td><td>Cluster</td><td>Green</td><td>Medium</td><td>Absent</td><td>Absent</td><td>Absent</td><td>Present</td><td>Medium</td><td>Club</td><td>6</td><td>2024-08-13</td><td>9999-12-31</td><td>true</td></tr><tr><td>107</td><td>Present</td><td>Weak</td><td>Present</td><td>Medium</td><td>Green</td><td>Medium</td><td>Green</td><td>Medium</td><td>Absent</td><td>Purple</td><td>Solitary</td><td>Purple</td><td>Medium</td><td>Present</td><td>Strong</td><td>Absent</td><td>Present</td><td>Medium</td><td>Ovoid</td><td>7</td><td>2024-08-13</td><td>9999-12-31</td><td>true</td></tr><tr><td>108</td><td>Present</td><td>Strong</td><td>Present</td><td>Medium</td><td>Green</td><td>Light</td><td>Purple</td><td>Medium</td><td>Absent</td><td>Light_Purple</td><td>Solitary</td><td>Purple</td><td>Dark</td><td>Absent</td><td>Absent</td><td>Present</td><td>Present</td><td>Medium</td><td>Ovoid</td><td>8</td><td>2024-08-13</td><td>9999-12-31</td><td>true</td></tr><tr><td>109</td><td>Present</td><td>Medium</td><td>Present</td><td>Medium</td><td>Green</td><td>Dark</td><td>Purple</td><td>Medium</td><td>Absent</td><td>Light_Purple</td><td>Solitary</td><td>Purple</td><td>Dark</td><td>Absent</td><td>Absent</td><td>Absent</td><td>Absent</td><td>Absent</td><td>Obovate</td><td>9</td><td>2024-08-13</td><td>9999-12-31</td><td>true</td></tr><tr><td>110</td><td>Absent</td><td>Absent</td><td>Present</td><td>Strong</td><td>Green</td><td>Medium</td><td>Green</td><td>Medium</td><td>Absent</td><td>Purple</td><td>Solitary</td><td>Green</td><td>Medium</td><td>Absent</td><td>Absent</td><td>Present</td><td>Absent</td><td>Absent</td><td>Globular</td><td>10</td><td>2024-08-13</td><td>9999-12-31</td><td>true</td></tr></tbody></table></div>"
      ]
     },
     "metadata": {
      "application/vnd.databricks.v1+output": {
       "addedWidgets": {},
       "aggData": [],
       "aggError": "",
       "aggOverflow": false,
       "aggSchema": [],
       "aggSeriesLimitReached": false,
       "aggType": "",
       "arguments": {},
       "columnCustomDisplayInfos": {},
       "data": [
        [
         101,
         "Absent",
         "Absent",
         "Present",
         "Medium",
         "Green",
         "Dark",
         "Green",
         "Medium",
         "Absent",
         "Purple",
         "Cluster",
         "Purple",
         "Medium",
         "Present",
         "Sparse",
         "Present",
         "Absent",
         "Absent",
         "Obovate",
         1,
         "2024-08-13",
         "9999-12-31",
         true
        ],
        [
         102,
         "Present",
         "Medium",
         "Present",
         "Medium",
         "Green",
         "Medium",
         "Purple",
         "Medium",
         "Absent",
         "Purple",
         "Solitary",
         "Purple",
         "Dark",
         "Present",
         "Sparse",
         "Absent",
         "Absent",
         "Absent",
         "Globular",
         2,
         "2024-08-13",
         "9999-12-31",
         true
        ],
        [
         103,
         "Absent",
         "Absent",
         "Present",
         "Medium",
         "Green",
         "Medium",
         "Green",
         "Medium",
         "Absent",
         "Light_Purple",
         "Cluster",
         "Green",
         "Medium",
         "Present",
         "Sparse",
         "Present",
         "Absent",
         "Absent",
         "Obovate",
         3,
         "2024-08-13",
         "9999-12-31",
         true
        ],
        [
         104,
         "Absent",
         "Absent",
         "Present",
         "Medium",
         "Green",
         "Dark",
         "Green",
         "Medium",
         "Absent",
         "Greenish_White",
         "Solitary",
         "Green",
         "Med ium",
         "Absent",
         "Absent",
         "Absent",
         "Present",
         "Absent",
         "Club",
         4,
         "2024-08-13",
         "9999-12-31",
         true
        ],
        [
         105,
         "Present",
         "Weak",
         "Present",
         "Medium",
         "Green",
         "Medium",
         "Purple",
         "Light",
         "Absent",
         "Light_Purple",
         "Solitary",
         "Purple",
         "Dark",
         "Absent",
         "Absent",
         "Absent",
         "Absent",
         "Absent",
         "Obovate",
         5,
         "2024-08-13",
         "9999-12-31",
         true
        ],
        [
         106,
         "Present",
         "Medium",
         "Present",
         "Weak",
         "Green",
         "Medium",
         "Green",
         "Medium",
         "Absent",
         "Light_Purple",
         "Cluster",
         "Green",
         "Medium",
         "Absent",
         "Absent",
         "Absent",
         "Present",
         "Medium",
         "Club",
         6,
         "2024-08-13",
         "9999-12-31",
         true
        ],
        [
         107,
         "Present",
         "Weak",
         "Present",
         "Medium",
         "Green",
         "Medium",
         "Green",
         "Medium",
         "Absent",
         "Purple",
         "Solitary",
         "Purple",
         "Medium",
         "Present",
         "Strong",
         "Absent",
         "Present",
         "Medium",
         "Ovoid",
         7,
         "2024-08-13",
         "9999-12-31",
         true
        ],
        [
         108,
         "Present",
         "Strong",
         "Present",
         "Medium",
         "Green",
         "Light",
         "Purple",
         "Medium",
         "Absent",
         "Light_Purple",
         "Solitary",
         "Purple",
         "Dark",
         "Absent",
         "Absent",
         "Present",
         "Present",
         "Medium",
         "Ovoid",
         8,
         "2024-08-13",
         "9999-12-31",
         true
        ],
        [
         109,
         "Present",
         "Medium",
         "Present",
         "Medium",
         "Green",
         "Dark",
         "Purple",
         "Medium",
         "Absent",
         "Light_Purple",
         "Solitary",
         "Purple",
         "Dark",
         "Absent",
         "Absent",
         "Absent",
         "Absent",
         "Absent",
         "Obovate",
         9,
         "2024-08-13",
         "9999-12-31",
         true
        ],
        [
         110,
         "Absent",
         "Absent",
         "Present",
         "Strong",
         "Green",
         "Medium",
         "Green",
         "Medium",
         "Absent",
         "Purple",
         "Solitary",
         "Green",
         "Medium",
         "Absent",
         "Absent",
         "Present",
         "Absent",
         "Absent",
         "Globular",
         10,
         "2024-08-13",
         "9999-12-31",
         true
        ]
       ],
       "datasetInfos": [],
       "dbfsResultPath": null,
       "isJsonSchema": true,
       "metadata": {},
       "overflow": false,
       "plotOptions": {
        "customPlotOptions": {},
        "displayType": "table",
        "pivotAggregation": null,
        "pivotColumns": null,
        "xColumns": null,
        "yColumns": null
       },
       "removedWidgets": [],
       "schema": [
        {
         "metadata": "{}",
         "name": "GenotypeName",
         "type": "\"integer\""
        },
        {
         "metadata": "{}",
         "name": "StemAnthocyanin",
         "type": "\"string\""
        },
        {
         "metadata": "{}",
         "name": "AnthocyaninIntensity",
         "type": "\"string\""
        },
        {
         "metadata": "{}",
         "name": "StemPubescence",
         "type": "\"string\""
        },
        {
         "metadata": "{}",
         "name": "StemPubescenceIntensity",
         "type": "\"string\""
        },
        {
         "metadata": "{}",
         "name": "LeafBladeColour",
         "type": "\"string\""
        },
        {
         "metadata": "{}",
         "name": "LeafBladeColourIntensity",
         "type": "\"string\""
        },
        {
         "metadata": "{}",
         "name": "ColourOfVein",
         "type": "\"string\""
        },
        {
         "metadata": "{}",
         "name": "IntensityOfColour8",
         "type": "\"string\""
        },
        {
         "metadata": "{}",
         "name": "SpineonLeaf",
         "type": "\"string\""
        },
        {
         "metadata": "{}",
         "name": "FlowerColour",
         "type": "\"string\""
        },
        {
         "metadata": "{}",
         "name": "FruitingPattern",
         "type": "\"string\""
        },
        {
         "metadata": "{}",
         "name": "FruitColour",
         "type": "\"string\""
        },
        {
         "metadata": "{}",
         "name": "IntensityofColour13",
         "type": "\"string\""
        },
        {
         "metadata": "{}",
         "name": "Stripes",
         "type": "\"string\""
        },
        {
         "metadata": "{}",
         "name": "StripesDensity",
         "type": "\"string\""
        },
        {
         "metadata": "{}",
         "name": "FruitPatches",
         "type": "\"string\""
        },
        {
         "metadata": "{}",
         "name": "SpinesInCalyx",
         "type": "\"string\""
        },
        {
         "metadata": "{}",
         "name": "DensityOfSpininess",
         "type": "\"string\""
        },
        {
         "metadata": "{}",
         "name": "FruitShape",
         "type": "\"string\""
        },
        {
         "metadata": "{}",
         "name": "surrogate_key",
         "type": "\"integer\""
        },
        {
         "metadata": "{\"__detected_date_formats\":\"yyyy-M-d\"}",
         "name": "effective_date",
         "type": "\"date\""
        },
        {
         "metadata": "{\"__detected_date_formats\":\"yyyy-M-d\"}",
         "name": "end_date",
         "type": "\"date\""
        },
        {
         "metadata": "{}",
         "name": "active_flag",
         "type": "\"boolean\""
        }
       ],
       "type": "table"
      }
     },
     "output_type": "display_data"
    }
   ],
   "source": [
    "display(active_target_df)"
   ]
  },
  {
   "cell_type": "code",
   "execution_count": 0,
   "metadata": {
    "application/vnd.databricks.v1+cell": {
     "cellMetadata": {
      "byteLimit": 2048000,
      "rowLimit": 10000
     },
     "inputWidgets": {},
     "nuid": "5e20d6b3-aba5-4e25-83f1-8f6b35164af0",
     "showTitle": false,
     "title": ""
    }
   },
   "outputs": [
    {
     "output_type": "display_data",
     "data": {
      "text/html": [
       "<style scoped>\n",
       "  .table-result-container {\n",
       "    max-height: 300px;\n",
       "    overflow: auto;\n",
       "  }\n",
       "  table, th, td {\n",
       "    border: 1px solid black;\n",
       "    border-collapse: collapse;\n",
       "  }\n",
       "  th, td {\n",
       "    padding: 5px;\n",
       "  }\n",
       "  th {\n",
       "    text-align: left;\n",
       "  }\n",
       "</style><div class='table-result-container'><table class='table-result'><thead style='background-color: white'><tr><th>GenotypeName</th><th>StemAnthocyanin</th><th>AnthocyaninIntensity</th><th>StemPubescence</th><th>StemPubescenceIntensity</th><th>LeafBladeColour</th><th>LeafBladeColourIntensity</th><th>ColourOfVein</th><th>IntensityOfColour8</th><th>SpineonLeaf</th><th>FlowerColour</th><th>FruitingPattern</th><th>FruitColour</th><th>IntensityofColour13</th><th>Stripes</th><th>StripesDensity</th><th>FruitPatches</th><th>SpinesInCalyx</th><th>DensityOfSpininess</th><th>FruitShape</th><th>surrogate_key</th><th>effective_date</th><th>end_date</th><th>active_flag</th><th>StemAnthocyanin</th><th>AnthocyaninIntensity</th><th>StemPubescence</th><th>StemPubescenceIntensity</th><th>LeafBladeColour</th><th>LeafBladeColourIntensity</th><th>ColourOfVein</th><th>IntensityOfColour8</th><th>SpineonLeaf</th><th>FlowerColour</th><th>FruitingPattern</th><th>FruitColour</th><th>IntensityofColour13</th><th>Stripes</th><th>StripesDensity</th><th>FruitPatches</th><th>SpinesInCalyx</th><th>DensityOfSpininess</th><th>FruitShape</th></tr></thead><tbody><tr><td>101</td><td>Absent</td><td>Absent</td><td>Present</td><td>Medium</td><td>Green</td><td>Dark</td><td>Green</td><td>Medium</td><td>Absent</td><td>Purple</td><td>Cluster</td><td>Purple</td><td>Medium</td><td>Present</td><td>Sparse</td><td>Present</td><td>Absent</td><td>Absent</td><td>Obovate</td><td>1</td><td>2024-08-13</td><td>9999-12-31</td><td>true</td><td>Absent</td><td>Absent</td><td>Present</td><td>Medium</td><td>Green</td><td>Dark</td><td>Green</td><td>Medium</td><td>Absent</td><td>Purple</td><td>Cluster</td><td>Purple</td><td>Medium</td><td>Present</td><td>Sparse</td><td>Present</td><td>Absent</td><td>Absent</td><td>Globular</td></tr><tr><td>102</td><td>Present</td><td>Medium</td><td>Present</td><td>Medium</td><td>Green</td><td>Medium</td><td>Purple</td><td>Medium</td><td>Absent</td><td>Purple</td><td>Solitary</td><td>Purple</td><td>Dark</td><td>Present</td><td>Sparse</td><td>Absent</td><td>Absent</td><td>Absent</td><td>Globular</td><td>2</td><td>2024-08-13</td><td>9999-12-31</td><td>true</td><td>Present</td><td>Medium</td><td>Present</td><td>Medium</td><td>Green</td><td>Medium</td><td>Purple</td><td>Medium</td><td>Absent</td><td>Purple</td><td>Solitary</td><td>Purple</td><td>Dark</td><td>Present</td><td>Sparse</td><td>Absent</td><td>Absent</td><td>Absent</td><td>Globular</td></tr><tr><td>103</td><td>Absent</td><td>Absent</td><td>Present</td><td>Medium</td><td>Green</td><td>Medium</td><td>Green</td><td>Medium</td><td>Absent</td><td>Light_Purple</td><td>Cluster</td><td>Green</td><td>Medium</td><td>Present</td><td>Sparse</td><td>Present</td><td>Absent</td><td>Absent</td><td>Obovate</td><td>3</td><td>2024-08-13</td><td>9999-12-31</td><td>true</td><td>null</td><td>null</td><td>null</td><td>null</td><td>null</td><td>null</td><td>null</td><td>null</td><td>null</td><td>null</td><td>null</td><td>null</td><td>null</td><td>null</td><td>null</td><td>null</td><td>null</td><td>null</td><td>null</td></tr><tr><td>104</td><td>Absent</td><td>Absent</td><td>Present</td><td>Medium</td><td>Green</td><td>Dark</td><td>Green</td><td>Medium</td><td>Absent</td><td>Greenish_White</td><td>Solitary</td><td>Green</td><td>Med ium</td><td>Absent</td><td>Absent</td><td>Absent</td><td>Present</td><td>Absent</td><td>Club</td><td>4</td><td>2024-08-13</td><td>9999-12-31</td><td>true</td><td>Absent</td><td>Absent</td><td>Present</td><td>Medium</td><td>Green</td><td>Dark</td><td>Green</td><td>Medium</td><td>Absent</td><td>Greenish_White</td><td>Solitary</td><td>Green</td><td>Med ium</td><td>Absent</td><td>Absent</td><td>Absent</td><td>Present</td><td>Absent</td><td>Club</td></tr><tr><td>105</td><td>Present</td><td>Weak</td><td>Present</td><td>Medium</td><td>Green</td><td>Medium</td><td>Purple</td><td>Light</td><td>Absent</td><td>Light_Purple</td><td>Solitary</td><td>Purple</td><td>Dark</td><td>Absent</td><td>Absent</td><td>Absent</td><td>Absent</td><td>Absent</td><td>Obovate</td><td>5</td><td>2024-08-13</td><td>9999-12-31</td><td>true</td><td>Present</td><td>Weak</td><td>Present</td><td>Medium</td><td>Green</td><td>Medium</td><td>Purple</td><td>Light</td><td>Absent</td><td>Light_Purple</td><td>Solitary</td><td>Purple</td><td>Dark</td><td>Absent</td><td>Absent</td><td>Absent</td><td>Absent</td><td>Absent</td><td>Obovate</td></tr><tr><td>106</td><td>Present</td><td>Medium</td><td>Present</td><td>Weak</td><td>Green</td><td>Medium</td><td>Green</td><td>Medium</td><td>Absent</td><td>Light_Purple</td><td>Cluster</td><td>Green</td><td>Medium</td><td>Absent</td><td>Absent</td><td>Absent</td><td>Present</td><td>Medium</td><td>Club</td><td>6</td><td>2024-08-13</td><td>9999-12-31</td><td>true</td><td>Present</td><td>Medium</td><td>Present</td><td>Weak</td><td>Green</td><td>Medium</td><td>Green</td><td>Medium</td><td>Absent</td><td>Light_Purple</td><td>Cluster</td><td>Green</td><td>Medium</td><td>Absent</td><td>Absent</td><td>Absent</td><td>Present</td><td>Medium</td><td>Club</td></tr><tr><td>107</td><td>Present</td><td>Weak</td><td>Present</td><td>Medium</td><td>Green</td><td>Medium</td><td>Green</td><td>Medium</td><td>Absent</td><td>Purple</td><td>Solitary</td><td>Purple</td><td>Medium</td><td>Present</td><td>Strong</td><td>Absent</td><td>Present</td><td>Medium</td><td>Ovoid</td><td>7</td><td>2024-08-13</td><td>9999-12-31</td><td>true</td><td>null</td><td>null</td><td>null</td><td>null</td><td>null</td><td>null</td><td>null</td><td>null</td><td>null</td><td>null</td><td>null</td><td>null</td><td>null</td><td>null</td><td>null</td><td>null</td><td>null</td><td>null</td><td>null</td></tr><tr><td>108</td><td>Present</td><td>Strong</td><td>Present</td><td>Medium</td><td>Green</td><td>Light</td><td>Purple</td><td>Medium</td><td>Absent</td><td>Light_Purple</td><td>Solitary</td><td>Purple</td><td>Dark</td><td>Absent</td><td>Absent</td><td>Present</td><td>Present</td><td>Medium</td><td>Ovoid</td><td>8</td><td>2024-08-13</td><td>9999-12-31</td><td>true</td><td>Present</td><td>Strong</td><td>Present</td><td>Medium</td><td>Green</td><td>Light</td><td>Purple</td><td>Medium</td><td>Absent</td><td>Light_Purple</td><td>Solitary</td><td>Purple</td><td>Dark</td><td>Absent</td><td>Absent</td><td>Present</td><td>Present</td><td>Medium</td><td>Club</td></tr><tr><td>109</td><td>Present</td><td>Medium</td><td>Present</td><td>Medium</td><td>Green</td><td>Dark</td><td>Purple</td><td>Medium</td><td>Absent</td><td>Light_Purple</td><td>Solitary</td><td>Purple</td><td>Dark</td><td>Absent</td><td>Absent</td><td>Absent</td><td>Absent</td><td>Absent</td><td>Obovate</td><td>9</td><td>2024-08-13</td><td>9999-12-31</td><td>true</td><td>Present</td><td>Medium</td><td>Present</td><td>Medium</td><td>Green</td><td>Dark</td><td>Purple</td><td>Medium</td><td>Absent</td><td>Light_Purple</td><td>Solitary</td><td>Purple</td><td>Dark</td><td>Absent</td><td>Absent</td><td>Absent</td><td>Absent</td><td>Absent</td><td>Obovate</td></tr><tr><td>110</td><td>Absent</td><td>Absent</td><td>Present</td><td>Strong</td><td>Green</td><td>Medium</td><td>Green</td><td>Medium</td><td>Absent</td><td>Purple</td><td>Solitary</td><td>Green</td><td>Medium</td><td>Absent</td><td>Absent</td><td>Present</td><td>Absent</td><td>Absent</td><td>Globular</td><td>10</td><td>2024-08-13</td><td>9999-12-31</td><td>true</td><td>Absent</td><td>Absent</td><td>Present</td><td>Strong</td><td>Green</td><td>Medium</td><td>Green</td><td>Medium</td><td>Absent</td><td>Purple</td><td>Solitary</td><td>Green</td><td>Medium</td><td>Absent</td><td>Absent</td><td>Present</td><td>Absent</td><td>Absent</td><td>Globular</td></tr><tr><td>111</td><td>null</td><td>null</td><td>null</td><td>null</td><td>null</td><td>null</td><td>null</td><td>null</td><td>null</td><td>null</td><td>null</td><td>null</td><td>null</td><td>null</td><td>null</td><td>null</td><td>null</td><td>null</td><td>null</td><td>null</td><td>null</td><td>null</td><td>null</td><td>Present</td><td>Weak</td><td>Present</td><td>Medium</td><td>Green</td><td>Medium</td><td>Green</td><td>Medium</td><td>Absent</td><td>Purple</td><td>Solitary</td><td>Purple</td><td>Medium</td><td>Present</td><td>Strong</td><td>Absent</td><td>Present</td><td>Medium</td><td>Ovoid</td></tr><tr><td>112</td><td>null</td><td>null</td><td>null</td><td>null</td><td>null</td><td>null</td><td>null</td><td>null</td><td>null</td><td>null</td><td>null</td><td>null</td><td>null</td><td>null</td><td>null</td><td>null</td><td>null</td><td>null</td><td>null</td><td>null</td><td>null</td><td>null</td><td>null</td><td>Absent</td><td>Absent</td><td>Present</td><td>Medium</td><td>Green</td><td>Medium</td><td>Green</td><td>Medium</td><td>Absent</td><td>Light_Purple</td><td>Cluster</td><td>Green</td><td>Medium</td><td>Present</td><td>Sparse</td><td>Present</td><td>Absent</td><td>Absent</td><td>Obovate</td></tr></tbody></table></div>"
      ]
     },
     "metadata": {
      "application/vnd.databricks.v1+output": {
       "addedWidgets": {},
       "aggData": [],
       "aggError": "",
       "aggOverflow": false,
       "aggSchema": [],
       "aggSeriesLimitReached": false,
       "aggType": "",
       "arguments": {},
       "columnCustomDisplayInfos": {},
       "data": [
        [
         101,
         "Absent",
         "Absent",
         "Present",
         "Medium",
         "Green",
         "Dark",
         "Green",
         "Medium",
         "Absent",
         "Purple",
         "Cluster",
         "Purple",
         "Medium",
         "Present",
         "Sparse",
         "Present",
         "Absent",
         "Absent",
         "Obovate",
         1,
         "2024-08-13",
         "9999-12-31",
         true,
         "Absent",
         "Absent",
         "Present",
         "Medium",
         "Green",
         "Dark",
         "Green",
         "Medium",
         "Absent",
         "Purple",
         "Cluster",
         "Purple",
         "Medium",
         "Present",
         "Sparse",
         "Present",
         "Absent",
         "Absent",
         "Globular"
        ],
        [
         102,
         "Present",
         "Medium",
         "Present",
         "Medium",
         "Green",
         "Medium",
         "Purple",
         "Medium",
         "Absent",
         "Purple",
         "Solitary",
         "Purple",
         "Dark",
         "Present",
         "Sparse",
         "Absent",
         "Absent",
         "Absent",
         "Globular",
         2,
         "2024-08-13",
         "9999-12-31",
         true,
         "Present",
         "Medium",
         "Present",
         "Medium",
         "Green",
         "Medium",
         "Purple",
         "Medium",
         "Absent",
         "Purple",
         "Solitary",
         "Purple",
         "Dark",
         "Present",
         "Sparse",
         "Absent",
         "Absent",
         "Absent",
         "Globular"
        ],
        [
         103,
         "Absent",
         "Absent",
         "Present",
         "Medium",
         "Green",
         "Medium",
         "Green",
         "Medium",
         "Absent",
         "Light_Purple",
         "Cluster",
         "Green",
         "Medium",
         "Present",
         "Sparse",
         "Present",
         "Absent",
         "Absent",
         "Obovate",
         3,
         "2024-08-13",
         "9999-12-31",
         true,
         null,
         null,
         null,
         null,
         null,
         null,
         null,
         null,
         null,
         null,
         null,
         null,
         null,
         null,
         null,
         null,
         null,
         null,
         null
        ],
        [
         104,
         "Absent",
         "Absent",
         "Present",
         "Medium",
         "Green",
         "Dark",
         "Green",
         "Medium",
         "Absent",
         "Greenish_White",
         "Solitary",
         "Green",
         "Med ium",
         "Absent",
         "Absent",
         "Absent",
         "Present",
         "Absent",
         "Club",
         4,
         "2024-08-13",
         "9999-12-31",
         true,
         "Absent",
         "Absent",
         "Present",
         "Medium",
         "Green",
         "Dark",
         "Green",
         "Medium",
         "Absent",
         "Greenish_White",
         "Solitary",
         "Green",
         "Med ium",
         "Absent",
         "Absent",
         "Absent",
         "Present",
         "Absent",
         "Club"
        ],
        [
         105,
         "Present",
         "Weak",
         "Present",
         "Medium",
         "Green",
         "Medium",
         "Purple",
         "Light",
         "Absent",
         "Light_Purple",
         "Solitary",
         "Purple",
         "Dark",
         "Absent",
         "Absent",
         "Absent",
         "Absent",
         "Absent",
         "Obovate",
         5,
         "2024-08-13",
         "9999-12-31",
         true,
         "Present",
         "Weak",
         "Present",
         "Medium",
         "Green",
         "Medium",
         "Purple",
         "Light",
         "Absent",
         "Light_Purple",
         "Solitary",
         "Purple",
         "Dark",
         "Absent",
         "Absent",
         "Absent",
         "Absent",
         "Absent",
         "Obovate"
        ],
        [
         106,
         "Present",
         "Medium",
         "Present",
         "Weak",
         "Green",
         "Medium",
         "Green",
         "Medium",
         "Absent",
         "Light_Purple",
         "Cluster",
         "Green",
         "Medium",
         "Absent",
         "Absent",
         "Absent",
         "Present",
         "Medium",
         "Club",
         6,
         "2024-08-13",
         "9999-12-31",
         true,
         "Present",
         "Medium",
         "Present",
         "Weak",
         "Green",
         "Medium",
         "Green",
         "Medium",
         "Absent",
         "Light_Purple",
         "Cluster",
         "Green",
         "Medium",
         "Absent",
         "Absent",
         "Absent",
         "Present",
         "Medium",
         "Club"
        ],
        [
         107,
         "Present",
         "Weak",
         "Present",
         "Medium",
         "Green",
         "Medium",
         "Green",
         "Medium",
         "Absent",
         "Purple",
         "Solitary",
         "Purple",
         "Medium",
         "Present",
         "Strong",
         "Absent",
         "Present",
         "Medium",
         "Ovoid",
         7,
         "2024-08-13",
         "9999-12-31",
         true,
         null,
         null,
         null,
         null,
         null,
         null,
         null,
         null,
         null,
         null,
         null,
         null,
         null,
         null,
         null,
         null,
         null,
         null,
         null
        ],
        [
         108,
         "Present",
         "Strong",
         "Present",
         "Medium",
         "Green",
         "Light",
         "Purple",
         "Medium",
         "Absent",
         "Light_Purple",
         "Solitary",
         "Purple",
         "Dark",
         "Absent",
         "Absent",
         "Present",
         "Present",
         "Medium",
         "Ovoid",
         8,
         "2024-08-13",
         "9999-12-31",
         true,
         "Present",
         "Strong",
         "Present",
         "Medium",
         "Green",
         "Light",
         "Purple",
         "Medium",
         "Absent",
         "Light_Purple",
         "Solitary",
         "Purple",
         "Dark",
         "Absent",
         "Absent",
         "Present",
         "Present",
         "Medium",
         "Club"
        ],
        [
         109,
         "Present",
         "Medium",
         "Present",
         "Medium",
         "Green",
         "Dark",
         "Purple",
         "Medium",
         "Absent",
         "Light_Purple",
         "Solitary",
         "Purple",
         "Dark",
         "Absent",
         "Absent",
         "Absent",
         "Absent",
         "Absent",
         "Obovate",
         9,
         "2024-08-13",
         "9999-12-31",
         true,
         "Present",
         "Medium",
         "Present",
         "Medium",
         "Green",
         "Dark",
         "Purple",
         "Medium",
         "Absent",
         "Light_Purple",
         "Solitary",
         "Purple",
         "Dark",
         "Absent",
         "Absent",
         "Absent",
         "Absent",
         "Absent",
         "Obovate"
        ],
        [
         110,
         "Absent",
         "Absent",
         "Present",
         "Strong",
         "Green",
         "Medium",
         "Green",
         "Medium",
         "Absent",
         "Purple",
         "Solitary",
         "Green",
         "Medium",
         "Absent",
         "Absent",
         "Present",
         "Absent",
         "Absent",
         "Globular",
         10,
         "2024-08-13",
         "9999-12-31",
         true,
         "Absent",
         "Absent",
         "Present",
         "Strong",
         "Green",
         "Medium",
         "Green",
         "Medium",
         "Absent",
         "Purple",
         "Solitary",
         "Green",
         "Medium",
         "Absent",
         "Absent",
         "Present",
         "Absent",
         "Absent",
         "Globular"
        ],
        [
         111,
         null,
         null,
         null,
         null,
         null,
         null,
         null,
         null,
         null,
         null,
         null,
         null,
         null,
         null,
         null,
         null,
         null,
         null,
         null,
         null,
         null,
         null,
         null,
         "Present",
         "Weak",
         "Present",
         "Medium",
         "Green",
         "Medium",
         "Green",
         "Medium",
         "Absent",
         "Purple",
         "Solitary",
         "Purple",
         "Medium",
         "Present",
         "Strong",
         "Absent",
         "Present",
         "Medium",
         "Ovoid"
        ],
        [
         112,
         null,
         null,
         null,
         null,
         null,
         null,
         null,
         null,
         null,
         null,
         null,
         null,
         null,
         null,
         null,
         null,
         null,
         null,
         null,
         null,
         null,
         null,
         null,
         "Absent",
         "Absent",
         "Present",
         "Medium",
         "Green",
         "Medium",
         "Green",
         "Medium",
         "Absent",
         "Light_Purple",
         "Cluster",
         "Green",
         "Medium",
         "Present",
         "Sparse",
         "Present",
         "Absent",
         "Absent",
         "Obovate"
        ]
       ],
       "datasetInfos": [],
       "dbfsResultPath": null,
       "isJsonSchema": true,
       "metadata": {},
       "overflow": false,
       "plotOptions": {
        "customPlotOptions": {},
        "displayType": "table",
        "pivotAggregation": null,
        "pivotColumns": null,
        "xColumns": null,
        "yColumns": null
       },
       "removedWidgets": [],
       "schema": [
        {
         "metadata": "{}",
         "name": "GenotypeName",
         "type": "\"integer\""
        },
        {
         "metadata": "{}",
         "name": "StemAnthocyanin",
         "type": "\"string\""
        },
        {
         "metadata": "{}",
         "name": "AnthocyaninIntensity",
         "type": "\"string\""
        },
        {
         "metadata": "{}",
         "name": "StemPubescence",
         "type": "\"string\""
        },
        {
         "metadata": "{}",
         "name": "StemPubescenceIntensity",
         "type": "\"string\""
        },
        {
         "metadata": "{}",
         "name": "LeafBladeColour",
         "type": "\"string\""
        },
        {
         "metadata": "{}",
         "name": "LeafBladeColourIntensity",
         "type": "\"string\""
        },
        {
         "metadata": "{}",
         "name": "ColourOfVein",
         "type": "\"string\""
        },
        {
         "metadata": "{}",
         "name": "IntensityOfColour8",
         "type": "\"string\""
        },
        {
         "metadata": "{}",
         "name": "SpineonLeaf",
         "type": "\"string\""
        },
        {
         "metadata": "{}",
         "name": "FlowerColour",
         "type": "\"string\""
        },
        {
         "metadata": "{}",
         "name": "FruitingPattern",
         "type": "\"string\""
        },
        {
         "metadata": "{}",
         "name": "FruitColour",
         "type": "\"string\""
        },
        {
         "metadata": "{}",
         "name": "IntensityofColour13",
         "type": "\"string\""
        },
        {
         "metadata": "{}",
         "name": "Stripes",
         "type": "\"string\""
        },
        {
         "metadata": "{}",
         "name": "StripesDensity",
         "type": "\"string\""
        },
        {
         "metadata": "{}",
         "name": "FruitPatches",
         "type": "\"string\""
        },
        {
         "metadata": "{}",
         "name": "SpinesInCalyx",
         "type": "\"string\""
        },
        {
         "metadata": "{}",
         "name": "DensityOfSpininess",
         "type": "\"string\""
        },
        {
         "metadata": "{}",
         "name": "FruitShape",
         "type": "\"string\""
        },
        {
         "metadata": "{}",
         "name": "surrogate_key",
         "type": "\"integer\""
        },
        {
         "metadata": "{\"__detected_date_formats\":\"yyyy-M-d\"}",
         "name": "effective_date",
         "type": "\"date\""
        },
        {
         "metadata": "{\"__detected_date_formats\":\"yyyy-M-d\"}",
         "name": "end_date",
         "type": "\"date\""
        },
        {
         "metadata": "{}",
         "name": "active_flag",
         "type": "\"boolean\""
        },
        {
         "metadata": "{}",
         "name": "StemAnthocyanin",
         "type": "\"string\""
        },
        {
         "metadata": "{}",
         "name": "AnthocyaninIntensity",
         "type": "\"string\""
        },
        {
         "metadata": "{}",
         "name": "StemPubescence",
         "type": "\"string\""
        },
        {
         "metadata": "{}",
         "name": "StemPubescenceIntensity",
         "type": "\"string\""
        },
        {
         "metadata": "{}",
         "name": "LeafBladeColour",
         "type": "\"string\""
        },
        {
         "metadata": "{}",
         "name": "LeafBladeColourIntensity",
         "type": "\"string\""
        },
        {
         "metadata": "{}",
         "name": "ColourOfVein",
         "type": "\"string\""
        },
        {
         "metadata": "{}",
         "name": "IntensityOfColour8",
         "type": "\"string\""
        },
        {
         "metadata": "{}",
         "name": "SpineonLeaf",
         "type": "\"string\""
        },
        {
         "metadata": "{}",
         "name": "FlowerColour",
         "type": "\"string\""
        },
        {
         "metadata": "{}",
         "name": "FruitingPattern",
         "type": "\"string\""
        },
        {
         "metadata": "{}",
         "name": "FruitColour",
         "type": "\"string\""
        },
        {
         "metadata": "{}",
         "name": "IntensityofColour13",
         "type": "\"string\""
        },
        {
         "metadata": "{}",
         "name": "Stripes",
         "type": "\"string\""
        },
        {
         "metadata": "{}",
         "name": "StripesDensity",
         "type": "\"string\""
        },
        {
         "metadata": "{}",
         "name": "FruitPatches",
         "type": "\"string\""
        },
        {
         "metadata": "{}",
         "name": "SpinesInCalyx",
         "type": "\"string\""
        },
        {
         "metadata": "{}",
         "name": "DensityOfSpininess",
         "type": "\"string\""
        },
        {
         "metadata": "{}",
         "name": "FruitShape",
         "type": "\"string\""
        }
       ],
       "type": "table"
      }
     },
     "output_type": "display_data"
    }
   ],
   "source": [
    "display(active_target_df.join(source_df, 'GenotypeName', 'full_outer'))"
   ]
  },
  {
   "cell_type": "code",
   "execution_count": 0,
   "metadata": {
    "application/vnd.databricks.v1+cell": {
     "cellMetadata": {
      "byteLimit": 2048000,
      "rowLimit": 10000
     },
     "inputWidgets": {},
     "nuid": "40c7d52d-eafb-4ab0-a82f-79e8ba506958",
     "showTitle": false,
     "title": ""
    }
   },
   "outputs": [],
   "source": [
    "def column_renamer(df, suffix, append):\n",
    "   \n",
    "    if append:\n",
    "        new_column_names = list(map(lambda x: x+suffix, df.columns))\n",
    "        \n",
    "    else:\n",
    "        new_column_names = list(map(lambda x: x.replace(suffix,\"\"), df.columns))\n",
    "        \n",
    "    return df.toDF(*new_column_names)\n",
    "\n",
    "def get_hash(df, keys_list):\n",
    " \n",
    "    columns = [col(column) for column in keys_list]\n",
    "    \n",
    "    if columns:\n",
    "        return df.withColumn(\"hash_md5\", md5(concat_ws(\"\", *columns)))\n",
    "    else:\n",
    "        return df.withColumn(\"hash_md5\", md5(lit(1)))"
   ]
  },
  {
   "cell_type": "code",
   "execution_count": 0,
   "metadata": {
    "application/vnd.databricks.v1+cell": {
     "cellMetadata": {
      "byteLimit": 2048000,
      "rowLimit": 10000
     },
     "inputWidgets": {},
     "nuid": "1514f489-4543-4d03-bf56-36de7d7d4207",
     "showTitle": false,
     "title": ""
    }
   },
   "outputs": [],
   "source": [
    "active_target_df_hash = column_renamer(get_hash(active_target_df, slowly_changing_cols), suffix=\"_target\", append=True)\n",
    "source_df_hash = column_renamer(get_hash(source_df, slowly_changing_cols), suffix=\"_source\", append=True)\n"
   ]
  },
  {
   "cell_type": "code",
   "execution_count": 0,
   "metadata": {
    "application/vnd.databricks.v1+cell": {
     "cellMetadata": {
      "byteLimit": 2048000,
      "rowLimit": 10000
     },
     "inputWidgets": {},
     "nuid": "5ae96981-d1ee-4c34-8596-b787ca0e358f",
     "showTitle": false,
     "title": ""
    }
   },
   "outputs": [
    {
     "output_type": "display_data",
     "data": {
      "text/html": [
       "<style scoped>\n",
       "  .table-result-container {\n",
       "    max-height: 300px;\n",
       "    overflow: auto;\n",
       "  }\n",
       "  table, th, td {\n",
       "    border: 1px solid black;\n",
       "    border-collapse: collapse;\n",
       "  }\n",
       "  th, td {\n",
       "    padding: 5px;\n",
       "  }\n",
       "  th {\n",
       "    text-align: left;\n",
       "  }\n",
       "</style><div class='table-result-container'><table class='table-result'><thead style='background-color: white'><tr><th>GenotypeName_target</th><th>StemAnthocyanin_target</th><th>AnthocyaninIntensity_target</th><th>StemPubescence_target</th><th>StemPubescenceIntensity_target</th><th>LeafBladeColour_target</th><th>LeafBladeColourIntensity_target</th><th>ColourOfVein_target</th><th>IntensityOfColour8_target</th><th>SpineonLeaf_target</th><th>FlowerColour_target</th><th>FruitingPattern_target</th><th>FruitColour_target</th><th>IntensityofColour13_target</th><th>Stripes_target</th><th>StripesDensity_target</th><th>FruitPatches_target</th><th>SpinesInCalyx_target</th><th>DensityOfSpininess_target</th><th>FruitShape_target</th><th>surrogate_key_target</th><th>effective_date_target</th><th>end_date_target</th><th>active_flag_target</th><th>hash_md5_target</th></tr></thead><tbody><tr><td>101</td><td>Absent</td><td>Absent</td><td>Present</td><td>Medium</td><td>Green</td><td>Dark</td><td>Green</td><td>Medium</td><td>Absent</td><td>Purple</td><td>Cluster</td><td>Purple</td><td>Medium</td><td>Present</td><td>Sparse</td><td>Present</td><td>Absent</td><td>Absent</td><td>Obovate</td><td>1</td><td>2024-08-13</td><td>9999-12-31</td><td>true</td><td>d0b11a8e90cd207c0e1ba79f546668db</td></tr><tr><td>102</td><td>Present</td><td>Medium</td><td>Present</td><td>Medium</td><td>Green</td><td>Medium</td><td>Purple</td><td>Medium</td><td>Absent</td><td>Purple</td><td>Solitary</td><td>Purple</td><td>Dark</td><td>Present</td><td>Sparse</td><td>Absent</td><td>Absent</td><td>Absent</td><td>Globular</td><td>2</td><td>2024-08-13</td><td>9999-12-31</td><td>true</td><td>e15d870145693ffae88c2c44549cf920</td></tr><tr><td>103</td><td>Absent</td><td>Absent</td><td>Present</td><td>Medium</td><td>Green</td><td>Medium</td><td>Green</td><td>Medium</td><td>Absent</td><td>Light_Purple</td><td>Cluster</td><td>Green</td><td>Medium</td><td>Present</td><td>Sparse</td><td>Present</td><td>Absent</td><td>Absent</td><td>Obovate</td><td>3</td><td>2024-08-13</td><td>9999-12-31</td><td>true</td><td>d0b11a8e90cd207c0e1ba79f546668db</td></tr><tr><td>104</td><td>Absent</td><td>Absent</td><td>Present</td><td>Medium</td><td>Green</td><td>Dark</td><td>Green</td><td>Medium</td><td>Absent</td><td>Greenish_White</td><td>Solitary</td><td>Green</td><td>Med ium</td><td>Absent</td><td>Absent</td><td>Absent</td><td>Present</td><td>Absent</td><td>Club</td><td>4</td><td>2024-08-13</td><td>9999-12-31</td><td>true</td><td>58b417afa44eb2f7dc4f87715166adff</td></tr><tr><td>105</td><td>Present</td><td>Weak</td><td>Present</td><td>Medium</td><td>Green</td><td>Medium</td><td>Purple</td><td>Light</td><td>Absent</td><td>Light_Purple</td><td>Solitary</td><td>Purple</td><td>Dark</td><td>Absent</td><td>Absent</td><td>Absent</td><td>Absent</td><td>Absent</td><td>Obovate</td><td>5</td><td>2024-08-13</td><td>9999-12-31</td><td>true</td><td>a77aecffaaa9d9fe4a8bfa414846d51a</td></tr><tr><td>106</td><td>Present</td><td>Medium</td><td>Present</td><td>Weak</td><td>Green</td><td>Medium</td><td>Green</td><td>Medium</td><td>Absent</td><td>Light_Purple</td><td>Cluster</td><td>Green</td><td>Medium</td><td>Absent</td><td>Absent</td><td>Absent</td><td>Present</td><td>Medium</td><td>Club</td><td>6</td><td>2024-08-13</td><td>9999-12-31</td><td>true</td><td>d8021c4a568a96fdb891c62a5ffe9614</td></tr><tr><td>107</td><td>Present</td><td>Weak</td><td>Present</td><td>Medium</td><td>Green</td><td>Medium</td><td>Green</td><td>Medium</td><td>Absent</td><td>Purple</td><td>Solitary</td><td>Purple</td><td>Medium</td><td>Present</td><td>Strong</td><td>Absent</td><td>Present</td><td>Medium</td><td>Ovoid</td><td>7</td><td>2024-08-13</td><td>9999-12-31</td><td>true</td><td>8ced0877b07422df726d13d072463f22</td></tr><tr><td>108</td><td>Present</td><td>Strong</td><td>Present</td><td>Medium</td><td>Green</td><td>Light</td><td>Purple</td><td>Medium</td><td>Absent</td><td>Light_Purple</td><td>Solitary</td><td>Purple</td><td>Dark</td><td>Absent</td><td>Absent</td><td>Present</td><td>Present</td><td>Medium</td><td>Ovoid</td><td>8</td><td>2024-08-13</td><td>9999-12-31</td><td>true</td><td>8ced0877b07422df726d13d072463f22</td></tr><tr><td>109</td><td>Present</td><td>Medium</td><td>Present</td><td>Medium</td><td>Green</td><td>Dark</td><td>Purple</td><td>Medium</td><td>Absent</td><td>Light_Purple</td><td>Solitary</td><td>Purple</td><td>Dark</td><td>Absent</td><td>Absent</td><td>Absent</td><td>Absent</td><td>Absent</td><td>Obovate</td><td>9</td><td>2024-08-13</td><td>9999-12-31</td><td>true</td><td>a77aecffaaa9d9fe4a8bfa414846d51a</td></tr><tr><td>110</td><td>Absent</td><td>Absent</td><td>Present</td><td>Strong</td><td>Green</td><td>Medium</td><td>Green</td><td>Medium</td><td>Absent</td><td>Purple</td><td>Solitary</td><td>Green</td><td>Medium</td><td>Absent</td><td>Absent</td><td>Present</td><td>Absent</td><td>Absent</td><td>Globular</td><td>10</td><td>2024-08-13</td><td>9999-12-31</td><td>true</td><td>de6de38ae45ec97976ca46c89ab29fa5</td></tr></tbody></table></div>"
      ]
     },
     "metadata": {
      "application/vnd.databricks.v1+output": {
       "addedWidgets": {},
       "aggData": [],
       "aggError": "",
       "aggOverflow": false,
       "aggSchema": [],
       "aggSeriesLimitReached": false,
       "aggType": "",
       "arguments": {},
       "columnCustomDisplayInfos": {},
       "data": [
        [
         101,
         "Absent",
         "Absent",
         "Present",
         "Medium",
         "Green",
         "Dark",
         "Green",
         "Medium",
         "Absent",
         "Purple",
         "Cluster",
         "Purple",
         "Medium",
         "Present",
         "Sparse",
         "Present",
         "Absent",
         "Absent",
         "Obovate",
         1,
         "2024-08-13",
         "9999-12-31",
         true,
         "d0b11a8e90cd207c0e1ba79f546668db"
        ],
        [
         102,
         "Present",
         "Medium",
         "Present",
         "Medium",
         "Green",
         "Medium",
         "Purple",
         "Medium",
         "Absent",
         "Purple",
         "Solitary",
         "Purple",
         "Dark",
         "Present",
         "Sparse",
         "Absent",
         "Absent",
         "Absent",
         "Globular",
         2,
         "2024-08-13",
         "9999-12-31",
         true,
         "e15d870145693ffae88c2c44549cf920"
        ],
        [
         103,
         "Absent",
         "Absent",
         "Present",
         "Medium",
         "Green",
         "Medium",
         "Green",
         "Medium",
         "Absent",
         "Light_Purple",
         "Cluster",
         "Green",
         "Medium",
         "Present",
         "Sparse",
         "Present",
         "Absent",
         "Absent",
         "Obovate",
         3,
         "2024-08-13",
         "9999-12-31",
         true,
         "d0b11a8e90cd207c0e1ba79f546668db"
        ],
        [
         104,
         "Absent",
         "Absent",
         "Present",
         "Medium",
         "Green",
         "Dark",
         "Green",
         "Medium",
         "Absent",
         "Greenish_White",
         "Solitary",
         "Green",
         "Med ium",
         "Absent",
         "Absent",
         "Absent",
         "Present",
         "Absent",
         "Club",
         4,
         "2024-08-13",
         "9999-12-31",
         true,
         "58b417afa44eb2f7dc4f87715166adff"
        ],
        [
         105,
         "Present",
         "Weak",
         "Present",
         "Medium",
         "Green",
         "Medium",
         "Purple",
         "Light",
         "Absent",
         "Light_Purple",
         "Solitary",
         "Purple",
         "Dark",
         "Absent",
         "Absent",
         "Absent",
         "Absent",
         "Absent",
         "Obovate",
         5,
         "2024-08-13",
         "9999-12-31",
         true,
         "a77aecffaaa9d9fe4a8bfa414846d51a"
        ],
        [
         106,
         "Present",
         "Medium",
         "Present",
         "Weak",
         "Green",
         "Medium",
         "Green",
         "Medium",
         "Absent",
         "Light_Purple",
         "Cluster",
         "Green",
         "Medium",
         "Absent",
         "Absent",
         "Absent",
         "Present",
         "Medium",
         "Club",
         6,
         "2024-08-13",
         "9999-12-31",
         true,
         "d8021c4a568a96fdb891c62a5ffe9614"
        ],
        [
         107,
         "Present",
         "Weak",
         "Present",
         "Medium",
         "Green",
         "Medium",
         "Green",
         "Medium",
         "Absent",
         "Purple",
         "Solitary",
         "Purple",
         "Medium",
         "Present",
         "Strong",
         "Absent",
         "Present",
         "Medium",
         "Ovoid",
         7,
         "2024-08-13",
         "9999-12-31",
         true,
         "8ced0877b07422df726d13d072463f22"
        ],
        [
         108,
         "Present",
         "Strong",
         "Present",
         "Medium",
         "Green",
         "Light",
         "Purple",
         "Medium",
         "Absent",
         "Light_Purple",
         "Solitary",
         "Purple",
         "Dark",
         "Absent",
         "Absent",
         "Present",
         "Present",
         "Medium",
         "Ovoid",
         8,
         "2024-08-13",
         "9999-12-31",
         true,
         "8ced0877b07422df726d13d072463f22"
        ],
        [
         109,
         "Present",
         "Medium",
         "Present",
         "Medium",
         "Green",
         "Dark",
         "Purple",
         "Medium",
         "Absent",
         "Light_Purple",
         "Solitary",
         "Purple",
         "Dark",
         "Absent",
         "Absent",
         "Absent",
         "Absent",
         "Absent",
         "Obovate",
         9,
         "2024-08-13",
         "9999-12-31",
         true,
         "a77aecffaaa9d9fe4a8bfa414846d51a"
        ],
        [
         110,
         "Absent",
         "Absent",
         "Present",
         "Strong",
         "Green",
         "Medium",
         "Green",
         "Medium",
         "Absent",
         "Purple",
         "Solitary",
         "Green",
         "Medium",
         "Absent",
         "Absent",
         "Present",
         "Absent",
         "Absent",
         "Globular",
         10,
         "2024-08-13",
         "9999-12-31",
         true,
         "de6de38ae45ec97976ca46c89ab29fa5"
        ]
       ],
       "datasetInfos": [],
       "dbfsResultPath": null,
       "isJsonSchema": true,
       "metadata": {},
       "overflow": false,
       "plotOptions": {
        "customPlotOptions": {},
        "displayType": "table",
        "pivotAggregation": null,
        "pivotColumns": null,
        "xColumns": null,
        "yColumns": null
       },
       "removedWidgets": [],
       "schema": [
        {
         "metadata": "{}",
         "name": "GenotypeName_target",
         "type": "\"integer\""
        },
        {
         "metadata": "{}",
         "name": "StemAnthocyanin_target",
         "type": "\"string\""
        },
        {
         "metadata": "{}",
         "name": "AnthocyaninIntensity_target",
         "type": "\"string\""
        },
        {
         "metadata": "{}",
         "name": "StemPubescence_target",
         "type": "\"string\""
        },
        {
         "metadata": "{}",
         "name": "StemPubescenceIntensity_target",
         "type": "\"string\""
        },
        {
         "metadata": "{}",
         "name": "LeafBladeColour_target",
         "type": "\"string\""
        },
        {
         "metadata": "{}",
         "name": "LeafBladeColourIntensity_target",
         "type": "\"string\""
        },
        {
         "metadata": "{}",
         "name": "ColourOfVein_target",
         "type": "\"string\""
        },
        {
         "metadata": "{}",
         "name": "IntensityOfColour8_target",
         "type": "\"string\""
        },
        {
         "metadata": "{}",
         "name": "SpineonLeaf_target",
         "type": "\"string\""
        },
        {
         "metadata": "{}",
         "name": "FlowerColour_target",
         "type": "\"string\""
        },
        {
         "metadata": "{}",
         "name": "FruitingPattern_target",
         "type": "\"string\""
        },
        {
         "metadata": "{}",
         "name": "FruitColour_target",
         "type": "\"string\""
        },
        {
         "metadata": "{}",
         "name": "IntensityofColour13_target",
         "type": "\"string\""
        },
        {
         "metadata": "{}",
         "name": "Stripes_target",
         "type": "\"string\""
        },
        {
         "metadata": "{}",
         "name": "StripesDensity_target",
         "type": "\"string\""
        },
        {
         "metadata": "{}",
         "name": "FruitPatches_target",
         "type": "\"string\""
        },
        {
         "metadata": "{}",
         "name": "SpinesInCalyx_target",
         "type": "\"string\""
        },
        {
         "metadata": "{}",
         "name": "DensityOfSpininess_target",
         "type": "\"string\""
        },
        {
         "metadata": "{}",
         "name": "FruitShape_target",
         "type": "\"string\""
        },
        {
         "metadata": "{}",
         "name": "surrogate_key_target",
         "type": "\"integer\""
        },
        {
         "metadata": "{\"__detected_date_formats\":\"yyyy-M-d\"}",
         "name": "effective_date_target",
         "type": "\"date\""
        },
        {
         "metadata": "{\"__detected_date_formats\":\"yyyy-M-d\"}",
         "name": "end_date_target",
         "type": "\"date\""
        },
        {
         "metadata": "{}",
         "name": "active_flag_target",
         "type": "\"boolean\""
        },
        {
         "metadata": "{}",
         "name": "hash_md5_target",
         "type": "\"string\""
        }
       ],
       "type": "table"
      }
     },
     "output_type": "display_data"
    },
    {
     "output_type": "display_data",
     "data": {
      "text/html": [
       "<style scoped>\n",
       "  .table-result-container {\n",
       "    max-height: 300px;\n",
       "    overflow: auto;\n",
       "  }\n",
       "  table, th, td {\n",
       "    border: 1px solid black;\n",
       "    border-collapse: collapse;\n",
       "  }\n",
       "  th, td {\n",
       "    padding: 5px;\n",
       "  }\n",
       "  th {\n",
       "    text-align: left;\n",
       "  }\n",
       "</style><div class='table-result-container'><table class='table-result'><thead style='background-color: white'><tr><th>GenotypeName_source</th><th>StemAnthocyanin_source</th><th>AnthocyaninIntensity_source</th><th>StemPubescence_source</th><th>StemPubescenceIntensity_source</th><th>LeafBladeColour_source</th><th>LeafBladeColourIntensity_source</th><th>ColourOfVein_source</th><th>IntensityOfColour8_source</th><th>SpineonLeaf_source</th><th>FlowerColour_source</th><th>FruitingPattern_source</th><th>FruitColour_source</th><th>IntensityofColour13_source</th><th>Stripes_source</th><th>StripesDensity_source</th><th>FruitPatches_source</th><th>SpinesInCalyx_source</th><th>DensityOfSpininess_source</th><th>FruitShape_source</th><th>hash_md5_source</th></tr></thead><tbody><tr><td>101</td><td>Absent</td><td>Absent</td><td>Present</td><td>Medium</td><td>Green</td><td>Dark</td><td>Green</td><td>Medium</td><td>Absent</td><td>Purple</td><td>Cluster</td><td>Purple</td><td>Medium</td><td>Present</td><td>Sparse</td><td>Present</td><td>Absent</td><td>Absent</td><td>Globular</td><td>de6de38ae45ec97976ca46c89ab29fa5</td></tr><tr><td>102</td><td>Present</td><td>Medium</td><td>Present</td><td>Medium</td><td>Green</td><td>Medium</td><td>Purple</td><td>Medium</td><td>Absent</td><td>Purple</td><td>Solitary</td><td>Purple</td><td>Dark</td><td>Present</td><td>Sparse</td><td>Absent</td><td>Absent</td><td>Absent</td><td>Globular</td><td>e15d870145693ffae88c2c44549cf920</td></tr><tr><td>104</td><td>Absent</td><td>Absent</td><td>Present</td><td>Medium</td><td>Green</td><td>Dark</td><td>Green</td><td>Medium</td><td>Absent</td><td>Greenish_White</td><td>Solitary</td><td>Green</td><td>Med ium</td><td>Absent</td><td>Absent</td><td>Absent</td><td>Present</td><td>Absent</td><td>Club</td><td>58b417afa44eb2f7dc4f87715166adff</td></tr><tr><td>105</td><td>Present</td><td>Weak</td><td>Present</td><td>Medium</td><td>Green</td><td>Medium</td><td>Purple</td><td>Light</td><td>Absent</td><td>Light_Purple</td><td>Solitary</td><td>Purple</td><td>Dark</td><td>Absent</td><td>Absent</td><td>Absent</td><td>Absent</td><td>Absent</td><td>Obovate</td><td>a77aecffaaa9d9fe4a8bfa414846d51a</td></tr><tr><td>106</td><td>Present</td><td>Medium</td><td>Present</td><td>Weak</td><td>Green</td><td>Medium</td><td>Green</td><td>Medium</td><td>Absent</td><td>Light_Purple</td><td>Cluster</td><td>Green</td><td>Medium</td><td>Absent</td><td>Absent</td><td>Absent</td><td>Present</td><td>Medium</td><td>Club</td><td>d8021c4a568a96fdb891c62a5ffe9614</td></tr><tr><td>108</td><td>Present</td><td>Strong</td><td>Present</td><td>Medium</td><td>Green</td><td>Light</td><td>Purple</td><td>Medium</td><td>Absent</td><td>Light_Purple</td><td>Solitary</td><td>Purple</td><td>Dark</td><td>Absent</td><td>Absent</td><td>Present</td><td>Present</td><td>Medium</td><td>Club</td><td>d8021c4a568a96fdb891c62a5ffe9614</td></tr><tr><td>109</td><td>Present</td><td>Medium</td><td>Present</td><td>Medium</td><td>Green</td><td>Dark</td><td>Purple</td><td>Medium</td><td>Absent</td><td>Light_Purple</td><td>Solitary</td><td>Purple</td><td>Dark</td><td>Absent</td><td>Absent</td><td>Absent</td><td>Absent</td><td>Absent</td><td>Obovate</td><td>a77aecffaaa9d9fe4a8bfa414846d51a</td></tr><tr><td>110</td><td>Absent</td><td>Absent</td><td>Present</td><td>Strong</td><td>Green</td><td>Medium</td><td>Green</td><td>Medium</td><td>Absent</td><td>Purple</td><td>Solitary</td><td>Green</td><td>Medium</td><td>Absent</td><td>Absent</td><td>Present</td><td>Absent</td><td>Absent</td><td>Globular</td><td>de6de38ae45ec97976ca46c89ab29fa5</td></tr><tr><td>111</td><td>Present</td><td>Weak</td><td>Present</td><td>Medium</td><td>Green</td><td>Medium</td><td>Green</td><td>Medium</td><td>Absent</td><td>Purple</td><td>Solitary</td><td>Purple</td><td>Medium</td><td>Present</td><td>Strong</td><td>Absent</td><td>Present</td><td>Medium</td><td>Ovoid</td><td>8ced0877b07422df726d13d072463f22</td></tr><tr><td>112</td><td>Absent</td><td>Absent</td><td>Present</td><td>Medium</td><td>Green</td><td>Medium</td><td>Green</td><td>Medium</td><td>Absent</td><td>Light_Purple</td><td>Cluster</td><td>Green</td><td>Medium</td><td>Present</td><td>Sparse</td><td>Present</td><td>Absent</td><td>Absent</td><td>Obovate</td><td>d0b11a8e90cd207c0e1ba79f546668db</td></tr></tbody></table></div>"
      ]
     },
     "metadata": {
      "application/vnd.databricks.v1+output": {
       "addedWidgets": {},
       "aggData": [],
       "aggError": "",
       "aggOverflow": false,
       "aggSchema": [],
       "aggSeriesLimitReached": false,
       "aggType": "",
       "arguments": {},
       "columnCustomDisplayInfos": {},
       "data": [
        [
         101,
         "Absent",
         "Absent",
         "Present",
         "Medium",
         "Green",
         "Dark",
         "Green",
         "Medium",
         "Absent",
         "Purple",
         "Cluster",
         "Purple",
         "Medium",
         "Present",
         "Sparse",
         "Present",
         "Absent",
         "Absent",
         "Globular",
         "de6de38ae45ec97976ca46c89ab29fa5"
        ],
        [
         102,
         "Present",
         "Medium",
         "Present",
         "Medium",
         "Green",
         "Medium",
         "Purple",
         "Medium",
         "Absent",
         "Purple",
         "Solitary",
         "Purple",
         "Dark",
         "Present",
         "Sparse",
         "Absent",
         "Absent",
         "Absent",
         "Globular",
         "e15d870145693ffae88c2c44549cf920"
        ],
        [
         104,
         "Absent",
         "Absent",
         "Present",
         "Medium",
         "Green",
         "Dark",
         "Green",
         "Medium",
         "Absent",
         "Greenish_White",
         "Solitary",
         "Green",
         "Med ium",
         "Absent",
         "Absent",
         "Absent",
         "Present",
         "Absent",
         "Club",
         "58b417afa44eb2f7dc4f87715166adff"
        ],
        [
         105,
         "Present",
         "Weak",
         "Present",
         "Medium",
         "Green",
         "Medium",
         "Purple",
         "Light",
         "Absent",
         "Light_Purple",
         "Solitary",
         "Purple",
         "Dark",
         "Absent",
         "Absent",
         "Absent",
         "Absent",
         "Absent",
         "Obovate",
         "a77aecffaaa9d9fe4a8bfa414846d51a"
        ],
        [
         106,
         "Present",
         "Medium",
         "Present",
         "Weak",
         "Green",
         "Medium",
         "Green",
         "Medium",
         "Absent",
         "Light_Purple",
         "Cluster",
         "Green",
         "Medium",
         "Absent",
         "Absent",
         "Absent",
         "Present",
         "Medium",
         "Club",
         "d8021c4a568a96fdb891c62a5ffe9614"
        ],
        [
         108,
         "Present",
         "Strong",
         "Present",
         "Medium",
         "Green",
         "Light",
         "Purple",
         "Medium",
         "Absent",
         "Light_Purple",
         "Solitary",
         "Purple",
         "Dark",
         "Absent",
         "Absent",
         "Present",
         "Present",
         "Medium",
         "Club",
         "d8021c4a568a96fdb891c62a5ffe9614"
        ],
        [
         109,
         "Present",
         "Medium",
         "Present",
         "Medium",
         "Green",
         "Dark",
         "Purple",
         "Medium",
         "Absent",
         "Light_Purple",
         "Solitary",
         "Purple",
         "Dark",
         "Absent",
         "Absent",
         "Absent",
         "Absent",
         "Absent",
         "Obovate",
         "a77aecffaaa9d9fe4a8bfa414846d51a"
        ],
        [
         110,
         "Absent",
         "Absent",
         "Present",
         "Strong",
         "Green",
         "Medium",
         "Green",
         "Medium",
         "Absent",
         "Purple",
         "Solitary",
         "Green",
         "Medium",
         "Absent",
         "Absent",
         "Present",
         "Absent",
         "Absent",
         "Globular",
         "de6de38ae45ec97976ca46c89ab29fa5"
        ],
        [
         111,
         "Present",
         "Weak",
         "Present",
         "Medium",
         "Green",
         "Medium",
         "Green",
         "Medium",
         "Absent",
         "Purple",
         "Solitary",
         "Purple",
         "Medium",
         "Present",
         "Strong",
         "Absent",
         "Present",
         "Medium",
         "Ovoid",
         "8ced0877b07422df726d13d072463f22"
        ],
        [
         112,
         "Absent",
         "Absent",
         "Present",
         "Medium",
         "Green",
         "Medium",
         "Green",
         "Medium",
         "Absent",
         "Light_Purple",
         "Cluster",
         "Green",
         "Medium",
         "Present",
         "Sparse",
         "Present",
         "Absent",
         "Absent",
         "Obovate",
         "d0b11a8e90cd207c0e1ba79f546668db"
        ]
       ],
       "datasetInfos": [],
       "dbfsResultPath": null,
       "isJsonSchema": true,
       "metadata": {},
       "overflow": false,
       "plotOptions": {
        "customPlotOptions": {},
        "displayType": "table",
        "pivotAggregation": null,
        "pivotColumns": null,
        "xColumns": null,
        "yColumns": null
       },
       "removedWidgets": [],
       "schema": [
        {
         "metadata": "{}",
         "name": "GenotypeName_source",
         "type": "\"integer\""
        },
        {
         "metadata": "{}",
         "name": "StemAnthocyanin_source",
         "type": "\"string\""
        },
        {
         "metadata": "{}",
         "name": "AnthocyaninIntensity_source",
         "type": "\"string\""
        },
        {
         "metadata": "{}",
         "name": "StemPubescence_source",
         "type": "\"string\""
        },
        {
         "metadata": "{}",
         "name": "StemPubescenceIntensity_source",
         "type": "\"string\""
        },
        {
         "metadata": "{}",
         "name": "LeafBladeColour_source",
         "type": "\"string\""
        },
        {
         "metadata": "{}",
         "name": "LeafBladeColourIntensity_source",
         "type": "\"string\""
        },
        {
         "metadata": "{}",
         "name": "ColourOfVein_source",
         "type": "\"string\""
        },
        {
         "metadata": "{}",
         "name": "IntensityOfColour8_source",
         "type": "\"string\""
        },
        {
         "metadata": "{}",
         "name": "SpineonLeaf_source",
         "type": "\"string\""
        },
        {
         "metadata": "{}",
         "name": "FlowerColour_source",
         "type": "\"string\""
        },
        {
         "metadata": "{}",
         "name": "FruitingPattern_source",
         "type": "\"string\""
        },
        {
         "metadata": "{}",
         "name": "FruitColour_source",
         "type": "\"string\""
        },
        {
         "metadata": "{}",
         "name": "IntensityofColour13_source",
         "type": "\"string\""
        },
        {
         "metadata": "{}",
         "name": "Stripes_source",
         "type": "\"string\""
        },
        {
         "metadata": "{}",
         "name": "StripesDensity_source",
         "type": "\"string\""
        },
        {
         "metadata": "{}",
         "name": "FruitPatches_source",
         "type": "\"string\""
        },
        {
         "metadata": "{}",
         "name": "SpinesInCalyx_source",
         "type": "\"string\""
        },
        {
         "metadata": "{}",
         "name": "DensityOfSpininess_source",
         "type": "\"string\""
        },
        {
         "metadata": "{}",
         "name": "FruitShape_source",
         "type": "\"string\""
        },
        {
         "metadata": "{}",
         "name": "hash_md5_source",
         "type": "\"string\""
        }
       ],
       "type": "table"
      }
     },
     "output_type": "display_data"
    }
   ],
   "source": [
    "active_target_rename_df = column_renamer(get_hash(active_target_df, slowly_changing_cols), suffix=\"_target\", append=True)\n",
    "source_df_rename_df  = column_renamer(get_hash(source_df, slowly_changing_cols), suffix=\"_source\", append=True)\n",
    "display(active_target_rename_df)\n",
    "display(source_df_rename_df)"
   ]
  },
  {
   "cell_type": "code",
   "execution_count": 0,
   "metadata": {
    "application/vnd.databricks.v1+cell": {
     "cellMetadata": {
      "byteLimit": 2048000,
      "rowLimit": 10000
     },
     "inputWidgets": {},
     "nuid": "9d8f6fba-a96c-4bb1-b91c-bbc922123e6e",
     "showTitle": false,
     "title": ""
    }
   },
   "outputs": [
    {
     "output_type": "display_data",
     "data": {
      "text/html": [
       "<style scoped>\n",
       "  .table-result-container {\n",
       "    max-height: 300px;\n",
       "    overflow: auto;\n",
       "  }\n",
       "  table, th, td {\n",
       "    border: 1px solid black;\n",
       "    border-collapse: collapse;\n",
       "  }\n",
       "  th, td {\n",
       "    padding: 5px;\n",
       "  }\n",
       "  th {\n",
       "    text-align: left;\n",
       "  }\n",
       "</style><div class='table-result-container'><table class='table-result'><thead style='background-color: white'><tr><th>GenotypeName_target</th><th>StemAnthocyanin_target</th><th>AnthocyaninIntensity_target</th><th>StemPubescence_target</th><th>StemPubescenceIntensity_target</th><th>LeafBladeColour_target</th><th>LeafBladeColourIntensity_target</th><th>ColourOfVein_target</th><th>IntensityOfColour8_target</th><th>SpineonLeaf_target</th><th>FlowerColour_target</th><th>FruitingPattern_target</th><th>FruitColour_target</th><th>IntensityofColour13_target</th><th>Stripes_target</th><th>StripesDensity_target</th><th>FruitPatches_target</th><th>SpinesInCalyx_target</th><th>DensityOfSpininess_target</th><th>FruitShape_target</th><th>surrogate_key_target</th><th>effective_date_target</th><th>end_date_target</th><th>active_flag_target</th><th>hash_md5_target</th><th>GenotypeName_source</th><th>StemAnthocyanin_source</th><th>AnthocyaninIntensity_source</th><th>StemPubescence_source</th><th>StemPubescenceIntensity_source</th><th>LeafBladeColour_source</th><th>LeafBladeColourIntensity_source</th><th>ColourOfVein_source</th><th>IntensityOfColour8_source</th><th>SpineonLeaf_source</th><th>FlowerColour_source</th><th>FruitingPattern_source</th><th>FruitColour_source</th><th>IntensityofColour13_source</th><th>Stripes_source</th><th>StripesDensity_source</th><th>FruitPatches_source</th><th>SpinesInCalyx_source</th><th>DensityOfSpininess_source</th><th>FruitShape_source</th><th>hash_md5_source</th><th>Action</th></tr></thead><tbody><tr><td>101</td><td>Absent</td><td>Absent</td><td>Present</td><td>Medium</td><td>Green</td><td>Dark</td><td>Green</td><td>Medium</td><td>Absent</td><td>Purple</td><td>Cluster</td><td>Purple</td><td>Medium</td><td>Present</td><td>Sparse</td><td>Present</td><td>Absent</td><td>Absent</td><td>Obovate</td><td>1</td><td>2024-08-13</td><td>9999-12-31</td><td>true</td><td>d0b11a8e90cd207c0e1ba79f546668db</td><td>101</td><td>Absent</td><td>Absent</td><td>Present</td><td>Medium</td><td>Green</td><td>Dark</td><td>Green</td><td>Medium</td><td>Absent</td><td>Purple</td><td>Cluster</td><td>Purple</td><td>Medium</td><td>Present</td><td>Sparse</td><td>Present</td><td>Absent</td><td>Absent</td><td>Globular</td><td>de6de38ae45ec97976ca46c89ab29fa5</td><td>UPDATE</td></tr><tr><td>102</td><td>Present</td><td>Medium</td><td>Present</td><td>Medium</td><td>Green</td><td>Medium</td><td>Purple</td><td>Medium</td><td>Absent</td><td>Purple</td><td>Solitary</td><td>Purple</td><td>Dark</td><td>Present</td><td>Sparse</td><td>Absent</td><td>Absent</td><td>Absent</td><td>Globular</td><td>2</td><td>2024-08-13</td><td>9999-12-31</td><td>true</td><td>e15d870145693ffae88c2c44549cf920</td><td>102</td><td>Present</td><td>Medium</td><td>Present</td><td>Medium</td><td>Green</td><td>Medium</td><td>Purple</td><td>Medium</td><td>Absent</td><td>Purple</td><td>Solitary</td><td>Purple</td><td>Dark</td><td>Present</td><td>Sparse</td><td>Absent</td><td>Absent</td><td>Absent</td><td>Globular</td><td>e15d870145693ffae88c2c44549cf920</td><td>NOCHANGE</td></tr><tr><td>103</td><td>Absent</td><td>Absent</td><td>Present</td><td>Medium</td><td>Green</td><td>Medium</td><td>Green</td><td>Medium</td><td>Absent</td><td>Light_Purple</td><td>Cluster</td><td>Green</td><td>Medium</td><td>Present</td><td>Sparse</td><td>Present</td><td>Absent</td><td>Absent</td><td>Obovate</td><td>3</td><td>2024-08-13</td><td>9999-12-31</td><td>true</td><td>d0b11a8e90cd207c0e1ba79f546668db</td><td>null</td><td>null</td><td>null</td><td>null</td><td>null</td><td>null</td><td>null</td><td>null</td><td>null</td><td>null</td><td>null</td><td>null</td><td>null</td><td>null</td><td>null</td><td>null</td><td>null</td><td>null</td><td>null</td><td>null</td><td>null</td><td>DELETE</td></tr><tr><td>104</td><td>Absent</td><td>Absent</td><td>Present</td><td>Medium</td><td>Green</td><td>Dark</td><td>Green</td><td>Medium</td><td>Absent</td><td>Greenish_White</td><td>Solitary</td><td>Green</td><td>Med ium</td><td>Absent</td><td>Absent</td><td>Absent</td><td>Present</td><td>Absent</td><td>Club</td><td>4</td><td>2024-08-13</td><td>9999-12-31</td><td>true</td><td>58b417afa44eb2f7dc4f87715166adff</td><td>104</td><td>Absent</td><td>Absent</td><td>Present</td><td>Medium</td><td>Green</td><td>Dark</td><td>Green</td><td>Medium</td><td>Absent</td><td>Greenish_White</td><td>Solitary</td><td>Green</td><td>Med ium</td><td>Absent</td><td>Absent</td><td>Absent</td><td>Present</td><td>Absent</td><td>Club</td><td>58b417afa44eb2f7dc4f87715166adff</td><td>NOCHANGE</td></tr><tr><td>105</td><td>Present</td><td>Weak</td><td>Present</td><td>Medium</td><td>Green</td><td>Medium</td><td>Purple</td><td>Light</td><td>Absent</td><td>Light_Purple</td><td>Solitary</td><td>Purple</td><td>Dark</td><td>Absent</td><td>Absent</td><td>Absent</td><td>Absent</td><td>Absent</td><td>Obovate</td><td>5</td><td>2024-08-13</td><td>9999-12-31</td><td>true</td><td>a77aecffaaa9d9fe4a8bfa414846d51a</td><td>105</td><td>Present</td><td>Weak</td><td>Present</td><td>Medium</td><td>Green</td><td>Medium</td><td>Purple</td><td>Light</td><td>Absent</td><td>Light_Purple</td><td>Solitary</td><td>Purple</td><td>Dark</td><td>Absent</td><td>Absent</td><td>Absent</td><td>Absent</td><td>Absent</td><td>Obovate</td><td>a77aecffaaa9d9fe4a8bfa414846d51a</td><td>NOCHANGE</td></tr><tr><td>106</td><td>Present</td><td>Medium</td><td>Present</td><td>Weak</td><td>Green</td><td>Medium</td><td>Green</td><td>Medium</td><td>Absent</td><td>Light_Purple</td><td>Cluster</td><td>Green</td><td>Medium</td><td>Absent</td><td>Absent</td><td>Absent</td><td>Present</td><td>Medium</td><td>Club</td><td>6</td><td>2024-08-13</td><td>9999-12-31</td><td>true</td><td>d8021c4a568a96fdb891c62a5ffe9614</td><td>106</td><td>Present</td><td>Medium</td><td>Present</td><td>Weak</td><td>Green</td><td>Medium</td><td>Green</td><td>Medium</td><td>Absent</td><td>Light_Purple</td><td>Cluster</td><td>Green</td><td>Medium</td><td>Absent</td><td>Absent</td><td>Absent</td><td>Present</td><td>Medium</td><td>Club</td><td>d8021c4a568a96fdb891c62a5ffe9614</td><td>NOCHANGE</td></tr><tr><td>107</td><td>Present</td><td>Weak</td><td>Present</td><td>Medium</td><td>Green</td><td>Medium</td><td>Green</td><td>Medium</td><td>Absent</td><td>Purple</td><td>Solitary</td><td>Purple</td><td>Medium</td><td>Present</td><td>Strong</td><td>Absent</td><td>Present</td><td>Medium</td><td>Ovoid</td><td>7</td><td>2024-08-13</td><td>9999-12-31</td><td>true</td><td>8ced0877b07422df726d13d072463f22</td><td>null</td><td>null</td><td>null</td><td>null</td><td>null</td><td>null</td><td>null</td><td>null</td><td>null</td><td>null</td><td>null</td><td>null</td><td>null</td><td>null</td><td>null</td><td>null</td><td>null</td><td>null</td><td>null</td><td>null</td><td>null</td><td>DELETE</td></tr><tr><td>108</td><td>Present</td><td>Strong</td><td>Present</td><td>Medium</td><td>Green</td><td>Light</td><td>Purple</td><td>Medium</td><td>Absent</td><td>Light_Purple</td><td>Solitary</td><td>Purple</td><td>Dark</td><td>Absent</td><td>Absent</td><td>Present</td><td>Present</td><td>Medium</td><td>Ovoid</td><td>8</td><td>2024-08-13</td><td>9999-12-31</td><td>true</td><td>8ced0877b07422df726d13d072463f22</td><td>108</td><td>Present</td><td>Strong</td><td>Present</td><td>Medium</td><td>Green</td><td>Light</td><td>Purple</td><td>Medium</td><td>Absent</td><td>Light_Purple</td><td>Solitary</td><td>Purple</td><td>Dark</td><td>Absent</td><td>Absent</td><td>Present</td><td>Present</td><td>Medium</td><td>Club</td><td>d8021c4a568a96fdb891c62a5ffe9614</td><td>UPDATE</td></tr><tr><td>109</td><td>Present</td><td>Medium</td><td>Present</td><td>Medium</td><td>Green</td><td>Dark</td><td>Purple</td><td>Medium</td><td>Absent</td><td>Light_Purple</td><td>Solitary</td><td>Purple</td><td>Dark</td><td>Absent</td><td>Absent</td><td>Absent</td><td>Absent</td><td>Absent</td><td>Obovate</td><td>9</td><td>2024-08-13</td><td>9999-12-31</td><td>true</td><td>a77aecffaaa9d9fe4a8bfa414846d51a</td><td>109</td><td>Present</td><td>Medium</td><td>Present</td><td>Medium</td><td>Green</td><td>Dark</td><td>Purple</td><td>Medium</td><td>Absent</td><td>Light_Purple</td><td>Solitary</td><td>Purple</td><td>Dark</td><td>Absent</td><td>Absent</td><td>Absent</td><td>Absent</td><td>Absent</td><td>Obovate</td><td>a77aecffaaa9d9fe4a8bfa414846d51a</td><td>NOCHANGE</td></tr><tr><td>110</td><td>Absent</td><td>Absent</td><td>Present</td><td>Strong</td><td>Green</td><td>Medium</td><td>Green</td><td>Medium</td><td>Absent</td><td>Purple</td><td>Solitary</td><td>Green</td><td>Medium</td><td>Absent</td><td>Absent</td><td>Present</td><td>Absent</td><td>Absent</td><td>Globular</td><td>10</td><td>2024-08-13</td><td>9999-12-31</td><td>true</td><td>de6de38ae45ec97976ca46c89ab29fa5</td><td>110</td><td>Absent</td><td>Absent</td><td>Present</td><td>Strong</td><td>Green</td><td>Medium</td><td>Green</td><td>Medium</td><td>Absent</td><td>Purple</td><td>Solitary</td><td>Green</td><td>Medium</td><td>Absent</td><td>Absent</td><td>Present</td><td>Absent</td><td>Absent</td><td>Globular</td><td>de6de38ae45ec97976ca46c89ab29fa5</td><td>NOCHANGE</td></tr><tr><td>null</td><td>null</td><td>null</td><td>null</td><td>null</td><td>null</td><td>null</td><td>null</td><td>null</td><td>null</td><td>null</td><td>null</td><td>null</td><td>null</td><td>null</td><td>null</td><td>null</td><td>null</td><td>null</td><td>null</td><td>null</td><td>null</td><td>null</td><td>null</td><td>null</td><td>111</td><td>Present</td><td>Weak</td><td>Present</td><td>Medium</td><td>Green</td><td>Medium</td><td>Green</td><td>Medium</td><td>Absent</td><td>Purple</td><td>Solitary</td><td>Purple</td><td>Medium</td><td>Present</td><td>Strong</td><td>Absent</td><td>Present</td><td>Medium</td><td>Ovoid</td><td>8ced0877b07422df726d13d072463f22</td><td>INSERT</td></tr><tr><td>null</td><td>null</td><td>null</td><td>null</td><td>null</td><td>null</td><td>null</td><td>null</td><td>null</td><td>null</td><td>null</td><td>null</td><td>null</td><td>null</td><td>null</td><td>null</td><td>null</td><td>null</td><td>null</td><td>null</td><td>null</td><td>null</td><td>null</td><td>null</td><td>null</td><td>112</td><td>Absent</td><td>Absent</td><td>Present</td><td>Medium</td><td>Green</td><td>Medium</td><td>Green</td><td>Medium</td><td>Absent</td><td>Light_Purple</td><td>Cluster</td><td>Green</td><td>Medium</td><td>Present</td><td>Sparse</td><td>Present</td><td>Absent</td><td>Absent</td><td>Obovate</td><td>d0b11a8e90cd207c0e1ba79f546668db</td><td>INSERT</td></tr></tbody></table></div>"
      ]
     },
     "metadata": {
      "application/vnd.databricks.v1+output": {
       "addedWidgets": {},
       "aggData": [],
       "aggError": "",
       "aggOverflow": false,
       "aggSchema": [],
       "aggSeriesLimitReached": false,
       "aggType": "",
       "arguments": {},
       "columnCustomDisplayInfos": {},
       "data": [
        [
         101,
         "Absent",
         "Absent",
         "Present",
         "Medium",
         "Green",
         "Dark",
         "Green",
         "Medium",
         "Absent",
         "Purple",
         "Cluster",
         "Purple",
         "Medium",
         "Present",
         "Sparse",
         "Present",
         "Absent",
         "Absent",
         "Obovate",
         1,
         "2024-08-13",
         "9999-12-31",
         true,
         "d0b11a8e90cd207c0e1ba79f546668db",
         101,
         "Absent",
         "Absent",
         "Present",
         "Medium",
         "Green",
         "Dark",
         "Green",
         "Medium",
         "Absent",
         "Purple",
         "Cluster",
         "Purple",
         "Medium",
         "Present",
         "Sparse",
         "Present",
         "Absent",
         "Absent",
         "Globular",
         "de6de38ae45ec97976ca46c89ab29fa5",
         "UPDATE"
        ],
        [
         102,
         "Present",
         "Medium",
         "Present",
         "Medium",
         "Green",
         "Medium",
         "Purple",
         "Medium",
         "Absent",
         "Purple",
         "Solitary",
         "Purple",
         "Dark",
         "Present",
         "Sparse",
         "Absent",
         "Absent",
         "Absent",
         "Globular",
         2,
         "2024-08-13",
         "9999-12-31",
         true,
         "e15d870145693ffae88c2c44549cf920",
         102,
         "Present",
         "Medium",
         "Present",
         "Medium",
         "Green",
         "Medium",
         "Purple",
         "Medium",
         "Absent",
         "Purple",
         "Solitary",
         "Purple",
         "Dark",
         "Present",
         "Sparse",
         "Absent",
         "Absent",
         "Absent",
         "Globular",
         "e15d870145693ffae88c2c44549cf920",
         "NOCHANGE"
        ],
        [
         103,
         "Absent",
         "Absent",
         "Present",
         "Medium",
         "Green",
         "Medium",
         "Green",
         "Medium",
         "Absent",
         "Light_Purple",
         "Cluster",
         "Green",
         "Medium",
         "Present",
         "Sparse",
         "Present",
         "Absent",
         "Absent",
         "Obovate",
         3,
         "2024-08-13",
         "9999-12-31",
         true,
         "d0b11a8e90cd207c0e1ba79f546668db",
         null,
         null,
         null,
         null,
         null,
         null,
         null,
         null,
         null,
         null,
         null,
         null,
         null,
         null,
         null,
         null,
         null,
         null,
         null,
         null,
         null,
         "DELETE"
        ],
        [
         104,
         "Absent",
         "Absent",
         "Present",
         "Medium",
         "Green",
         "Dark",
         "Green",
         "Medium",
         "Absent",
         "Greenish_White",
         "Solitary",
         "Green",
         "Med ium",
         "Absent",
         "Absent",
         "Absent",
         "Present",
         "Absent",
         "Club",
         4,
         "2024-08-13",
         "9999-12-31",
         true,
         "58b417afa44eb2f7dc4f87715166adff",
         104,
         "Absent",
         "Absent",
         "Present",
         "Medium",
         "Green",
         "Dark",
         "Green",
         "Medium",
         "Absent",
         "Greenish_White",
         "Solitary",
         "Green",
         "Med ium",
         "Absent",
         "Absent",
         "Absent",
         "Present",
         "Absent",
         "Club",
         "58b417afa44eb2f7dc4f87715166adff",
         "NOCHANGE"
        ],
        [
         105,
         "Present",
         "Weak",
         "Present",
         "Medium",
         "Green",
         "Medium",
         "Purple",
         "Light",
         "Absent",
         "Light_Purple",
         "Solitary",
         "Purple",
         "Dark",
         "Absent",
         "Absent",
         "Absent",
         "Absent",
         "Absent",
         "Obovate",
         5,
         "2024-08-13",
         "9999-12-31",
         true,
         "a77aecffaaa9d9fe4a8bfa414846d51a",
         105,
         "Present",
         "Weak",
         "Present",
         "Medium",
         "Green",
         "Medium",
         "Purple",
         "Light",
         "Absent",
         "Light_Purple",
         "Solitary",
         "Purple",
         "Dark",
         "Absent",
         "Absent",
         "Absent",
         "Absent",
         "Absent",
         "Obovate",
         "a77aecffaaa9d9fe4a8bfa414846d51a",
         "NOCHANGE"
        ],
        [
         106,
         "Present",
         "Medium",
         "Present",
         "Weak",
         "Green",
         "Medium",
         "Green",
         "Medium",
         "Absent",
         "Light_Purple",
         "Cluster",
         "Green",
         "Medium",
         "Absent",
         "Absent",
         "Absent",
         "Present",
         "Medium",
         "Club",
         6,
         "2024-08-13",
         "9999-12-31",
         true,
         "d8021c4a568a96fdb891c62a5ffe9614",
         106,
         "Present",
         "Medium",
         "Present",
         "Weak",
         "Green",
         "Medium",
         "Green",
         "Medium",
         "Absent",
         "Light_Purple",
         "Cluster",
         "Green",
         "Medium",
         "Absent",
         "Absent",
         "Absent",
         "Present",
         "Medium",
         "Club",
         "d8021c4a568a96fdb891c62a5ffe9614",
         "NOCHANGE"
        ],
        [
         107,
         "Present",
         "Weak",
         "Present",
         "Medium",
         "Green",
         "Medium",
         "Green",
         "Medium",
         "Absent",
         "Purple",
         "Solitary",
         "Purple",
         "Medium",
         "Present",
         "Strong",
         "Absent",
         "Present",
         "Medium",
         "Ovoid",
         7,
         "2024-08-13",
         "9999-12-31",
         true,
         "8ced0877b07422df726d13d072463f22",
         null,
         null,
         null,
         null,
         null,
         null,
         null,
         null,
         null,
         null,
         null,
         null,
         null,
         null,
         null,
         null,
         null,
         null,
         null,
         null,
         null,
         "DELETE"
        ],
        [
         108,
         "Present",
         "Strong",
         "Present",
         "Medium",
         "Green",
         "Light",
         "Purple",
         "Medium",
         "Absent",
         "Light_Purple",
         "Solitary",
         "Purple",
         "Dark",
         "Absent",
         "Absent",
         "Present",
         "Present",
         "Medium",
         "Ovoid",
         8,
         "2024-08-13",
         "9999-12-31",
         true,
         "8ced0877b07422df726d13d072463f22",
         108,
         "Present",
         "Strong",
         "Present",
         "Medium",
         "Green",
         "Light",
         "Purple",
         "Medium",
         "Absent",
         "Light_Purple",
         "Solitary",
         "Purple",
         "Dark",
         "Absent",
         "Absent",
         "Present",
         "Present",
         "Medium",
         "Club",
         "d8021c4a568a96fdb891c62a5ffe9614",
         "UPDATE"
        ],
        [
         109,
         "Present",
         "Medium",
         "Present",
         "Medium",
         "Green",
         "Dark",
         "Purple",
         "Medium",
         "Absent",
         "Light_Purple",
         "Solitary",
         "Purple",
         "Dark",
         "Absent",
         "Absent",
         "Absent",
         "Absent",
         "Absent",
         "Obovate",
         9,
         "2024-08-13",
         "9999-12-31",
         true,
         "a77aecffaaa9d9fe4a8bfa414846d51a",
         109,
         "Present",
         "Medium",
         "Present",
         "Medium",
         "Green",
         "Dark",
         "Purple",
         "Medium",
         "Absent",
         "Light_Purple",
         "Solitary",
         "Purple",
         "Dark",
         "Absent",
         "Absent",
         "Absent",
         "Absent",
         "Absent",
         "Obovate",
         "a77aecffaaa9d9fe4a8bfa414846d51a",
         "NOCHANGE"
        ],
        [
         110,
         "Absent",
         "Absent",
         "Present",
         "Strong",
         "Green",
         "Medium",
         "Green",
         "Medium",
         "Absent",
         "Purple",
         "Solitary",
         "Green",
         "Medium",
         "Absent",
         "Absent",
         "Present",
         "Absent",
         "Absent",
         "Globular",
         10,
         "2024-08-13",
         "9999-12-31",
         true,
         "de6de38ae45ec97976ca46c89ab29fa5",
         110,
         "Absent",
         "Absent",
         "Present",
         "Strong",
         "Green",
         "Medium",
         "Green",
         "Medium",
         "Absent",
         "Purple",
         "Solitary",
         "Green",
         "Medium",
         "Absent",
         "Absent",
         "Present",
         "Absent",
         "Absent",
         "Globular",
         "de6de38ae45ec97976ca46c89ab29fa5",
         "NOCHANGE"
        ],
        [
         null,
         null,
         null,
         null,
         null,
         null,
         null,
         null,
         null,
         null,
         null,
         null,
         null,
         null,
         null,
         null,
         null,
         null,
         null,
         null,
         null,
         null,
         null,
         null,
         null,
         111,
         "Present",
         "Weak",
         "Present",
         "Medium",
         "Green",
         "Medium",
         "Green",
         "Medium",
         "Absent",
         "Purple",
         "Solitary",
         "Purple",
         "Medium",
         "Present",
         "Strong",
         "Absent",
         "Present",
         "Medium",
         "Ovoid",
         "8ced0877b07422df726d13d072463f22",
         "INSERT"
        ],
        [
         null,
         null,
         null,
         null,
         null,
         null,
         null,
         null,
         null,
         null,
         null,
         null,
         null,
         null,
         null,
         null,
         null,
         null,
         null,
         null,
         null,
         null,
         null,
         null,
         null,
         112,
         "Absent",
         "Absent",
         "Present",
         "Medium",
         "Green",
         "Medium",
         "Green",
         "Medium",
         "Absent",
         "Light_Purple",
         "Cluster",
         "Green",
         "Medium",
         "Present",
         "Sparse",
         "Present",
         "Absent",
         "Absent",
         "Obovate",
         "d0b11a8e90cd207c0e1ba79f546668db",
         "INSERT"
        ]
       ],
       "datasetInfos": [],
       "dbfsResultPath": null,
       "isJsonSchema": true,
       "metadata": {},
       "overflow": false,
       "plotOptions": {
        "customPlotOptions": {},
        "displayType": "table",
        "pivotAggregation": null,
        "pivotColumns": null,
        "xColumns": null,
        "yColumns": null
       },
       "removedWidgets": [],
       "schema": [
        {
         "metadata": "{}",
         "name": "GenotypeName_target",
         "type": "\"integer\""
        },
        {
         "metadata": "{}",
         "name": "StemAnthocyanin_target",
         "type": "\"string\""
        },
        {
         "metadata": "{}",
         "name": "AnthocyaninIntensity_target",
         "type": "\"string\""
        },
        {
         "metadata": "{}",
         "name": "StemPubescence_target",
         "type": "\"string\""
        },
        {
         "metadata": "{}",
         "name": "StemPubescenceIntensity_target",
         "type": "\"string\""
        },
        {
         "metadata": "{}",
         "name": "LeafBladeColour_target",
         "type": "\"string\""
        },
        {
         "metadata": "{}",
         "name": "LeafBladeColourIntensity_target",
         "type": "\"string\""
        },
        {
         "metadata": "{}",
         "name": "ColourOfVein_target",
         "type": "\"string\""
        },
        {
         "metadata": "{}",
         "name": "IntensityOfColour8_target",
         "type": "\"string\""
        },
        {
         "metadata": "{}",
         "name": "SpineonLeaf_target",
         "type": "\"string\""
        },
        {
         "metadata": "{}",
         "name": "FlowerColour_target",
         "type": "\"string\""
        },
        {
         "metadata": "{}",
         "name": "FruitingPattern_target",
         "type": "\"string\""
        },
        {
         "metadata": "{}",
         "name": "FruitColour_target",
         "type": "\"string\""
        },
        {
         "metadata": "{}",
         "name": "IntensityofColour13_target",
         "type": "\"string\""
        },
        {
         "metadata": "{}",
         "name": "Stripes_target",
         "type": "\"string\""
        },
        {
         "metadata": "{}",
         "name": "StripesDensity_target",
         "type": "\"string\""
        },
        {
         "metadata": "{}",
         "name": "FruitPatches_target",
         "type": "\"string\""
        },
        {
         "metadata": "{}",
         "name": "SpinesInCalyx_target",
         "type": "\"string\""
        },
        {
         "metadata": "{}",
         "name": "DensityOfSpininess_target",
         "type": "\"string\""
        },
        {
         "metadata": "{}",
         "name": "FruitShape_target",
         "type": "\"string\""
        },
        {
         "metadata": "{}",
         "name": "surrogate_key_target",
         "type": "\"integer\""
        },
        {
         "metadata": "{\"__detected_date_formats\":\"yyyy-M-d\"}",
         "name": "effective_date_target",
         "type": "\"date\""
        },
        {
         "metadata": "{\"__detected_date_formats\":\"yyyy-M-d\"}",
         "name": "end_date_target",
         "type": "\"date\""
        },
        {
         "metadata": "{}",
         "name": "active_flag_target",
         "type": "\"boolean\""
        },
        {
         "metadata": "{}",
         "name": "hash_md5_target",
         "type": "\"string\""
        },
        {
         "metadata": "{}",
         "name": "GenotypeName_source",
         "type": "\"integer\""
        },
        {
         "metadata": "{}",
         "name": "StemAnthocyanin_source",
         "type": "\"string\""
        },
        {
         "metadata": "{}",
         "name": "AnthocyaninIntensity_source",
         "type": "\"string\""
        },
        {
         "metadata": "{}",
         "name": "StemPubescence_source",
         "type": "\"string\""
        },
        {
         "metadata": "{}",
         "name": "StemPubescenceIntensity_source",
         "type": "\"string\""
        },
        {
         "metadata": "{}",
         "name": "LeafBladeColour_source",
         "type": "\"string\""
        },
        {
         "metadata": "{}",
         "name": "LeafBladeColourIntensity_source",
         "type": "\"string\""
        },
        {
         "metadata": "{}",
         "name": "ColourOfVein_source",
         "type": "\"string\""
        },
        {
         "metadata": "{}",
         "name": "IntensityOfColour8_source",
         "type": "\"string\""
        },
        {
         "metadata": "{}",
         "name": "SpineonLeaf_source",
         "type": "\"string\""
        },
        {
         "metadata": "{}",
         "name": "FlowerColour_source",
         "type": "\"string\""
        },
        {
         "metadata": "{}",
         "name": "FruitingPattern_source",
         "type": "\"string\""
        },
        {
         "metadata": "{}",
         "name": "FruitColour_source",
         "type": "\"string\""
        },
        {
         "metadata": "{}",
         "name": "IntensityofColour13_source",
         "type": "\"string\""
        },
        {
         "metadata": "{}",
         "name": "Stripes_source",
         "type": "\"string\""
        },
        {
         "metadata": "{}",
         "name": "StripesDensity_source",
         "type": "\"string\""
        },
        {
         "metadata": "{}",
         "name": "FruitPatches_source",
         "type": "\"string\""
        },
        {
         "metadata": "{}",
         "name": "SpinesInCalyx_source",
         "type": "\"string\""
        },
        {
         "metadata": "{}",
         "name": "DensityOfSpininess_source",
         "type": "\"string\""
        },
        {
         "metadata": "{}",
         "name": "FruitShape_source",
         "type": "\"string\""
        },
        {
         "metadata": "{}",
         "name": "hash_md5_source",
         "type": "\"string\""
        },
        {
         "metadata": "{}",
         "name": "Action",
         "type": "\"string\""
        }
       ],
       "type": "table"
      }
     },
     "output_type": "display_data"
    }
   ],
   "source": [
    "merged_df = active_target_rename_df.join(source_df_rename_df, col(\"GenotypeName_source\") ==  col(\"GenotypeName_target\") , \"full_outer\") \\\n",
    ".withColumn(\"Action\", when(col(\"hash_md5_source\") == col(\"hash_md5_target\")  , 'NOCHANGE')\\\n",
    ".when(col(\"GenotypeName_source\").isNull(), 'DELETE')\\\n",
    ".when(col(\"GenotypeName_target\").isNull(), 'INSERT')\\\n",
    ".otherwise('UPDATE'))\n",
    "display(merged_df)"
   ]
  },
  {
   "cell_type": "code",
   "execution_count": 0,
   "metadata": {
    "application/vnd.databricks.v1+cell": {
     "cellMetadata": {
      "byteLimit": 2048000,
      "rowLimit": 10000
     },
     "inputWidgets": {},
     "nuid": "66889f6a-e7c0-4f48-b654-d7dbfa25430e",
     "showTitle": false,
     "title": ""
    }
   },
   "outputs": [],
   "source": [
    "unchanged_records = column_renamer(merged_df.filter(col(\"action\") == 'NOCHANGE'), suffix=\"_target\", append=False)"
   ]
  },
  {
   "cell_type": "code",
   "execution_count": 0,
   "metadata": {
    "application/vnd.databricks.v1+cell": {
     "cellMetadata": {
      "byteLimit": 2048000,
      "rowLimit": 10000
     },
     "inputWidgets": {},
     "nuid": "6b002c58-9750-4249-a3dc-feb8e5887d2d",
     "showTitle": false,
     "title": ""
    }
   },
   "outputs": [
    {
     "output_type": "stream",
     "name": "stdout",
     "output_type": "stream",
     "text": [
      "['GenotypeName', 'StemAnthocyanin', 'AnthocyaninIntensity', 'StemPubescence', 'StemPubescenceIntensity', 'LeafBladeColour', 'LeafBladeColourIntensity', 'ColourOfVein', 'IntensityOfColour8', 'SpineonLeaf', 'FlowerColour', 'FruitingPattern', 'FruitColour', 'IntensityofColour13', 'Stripes', 'StripesDensity', 'FruitPatches', 'SpinesInCalyx', 'DensityOfSpininess', 'FruitShape', 'surrogate_key', 'effective_date', 'end_date', 'active_flag', 'hash_md5', 'GenotypeName_source', 'StemAnthocyanin_source', 'AnthocyaninIntensity_source', 'StemPubescence_source', 'StemPubescenceIntensity_source', 'LeafBladeColour_source', 'LeafBladeColourIntensity_source', 'ColourOfVein_source', 'IntensityOfColour8_source', 'SpineonLeaf_source', 'FlowerColour_source', 'FruitingPattern_source', 'FruitColour_source', 'IntensityofColour13_source', 'Stripes_source', 'StripesDensity_source', 'FruitPatches_source', 'SpinesInCalyx_source', 'DensityOfSpininess_source', 'FruitShape_source', 'hash_md5_source', 'Action']\n"
     ]
    }
   ],
   "source": [
    "print(unchanged_records.columns)"
   ]
  },
  {
   "cell_type": "code",
   "execution_count": 0,
   "metadata": {
    "application/vnd.databricks.v1+cell": {
     "cellMetadata": {
      "byteLimit": 2048000,
      "rowLimit": 10000
     },
     "inputWidgets": {},
     "nuid": "cb74327f-f21e-4882-9cac-19bf447aca7c",
     "showTitle": false,
     "title": ""
    }
   },
   "outputs": [
    {
     "output_type": "display_data",
     "data": {
      "text/html": [
       "<style scoped>\n",
       "  .table-result-container {\n",
       "    max-height: 300px;\n",
       "    overflow: auto;\n",
       "  }\n",
       "  table, th, td {\n",
       "    border: 1px solid black;\n",
       "    border-collapse: collapse;\n",
       "  }\n",
       "  th, td {\n",
       "    padding: 5px;\n",
       "  }\n",
       "  th {\n",
       "    text-align: left;\n",
       "  }\n",
       "</style><div class='table-result-container'><table class='table-result'><thead style='background-color: white'><tr><th>GenotypeName</th><th>StemAnthocyanin</th><th>AnthocyaninIntensity</th><th>StemPubescence</th><th>StemPubescenceIntensity</th><th>LeafBladeColour</th><th>LeafBladeColourIntensity</th><th>ColourOfVein</th><th>IntensityOfColour8</th><th>SpineonLeaf</th><th>FlowerColour</th><th>FruitingPattern</th><th>FruitColour</th><th>IntensityofColour13</th><th>Stripes</th><th>StripesDensity</th><th>FruitPatches</th><th>SpinesInCalyx</th><th>DensityOfSpininess</th><th>FruitShape</th><th>surrogate_key</th><th>effective_date</th><th>end_date</th><th>active_flag</th><th>Action</th></tr></thead><tbody><tr><td>102</td><td>Present</td><td>Medium</td><td>Present</td><td>Medium</td><td>Green</td><td>Medium</td><td>Purple</td><td>Medium</td><td>Absent</td><td>Purple</td><td>Solitary</td><td>Purple</td><td>Dark</td><td>Present</td><td>Sparse</td><td>Absent</td><td>Absent</td><td>Absent</td><td>Globular</td><td>2</td><td>2024-08-13</td><td>9999-12-31</td><td>true</td><td>NOCHANGE</td></tr><tr><td>104</td><td>Absent</td><td>Absent</td><td>Present</td><td>Medium</td><td>Green</td><td>Dark</td><td>Green</td><td>Medium</td><td>Absent</td><td>Greenish_White</td><td>Solitary</td><td>Green</td><td>Med ium</td><td>Absent</td><td>Absent</td><td>Absent</td><td>Present</td><td>Absent</td><td>Club</td><td>4</td><td>2024-08-13</td><td>9999-12-31</td><td>true</td><td>NOCHANGE</td></tr><tr><td>105</td><td>Present</td><td>Weak</td><td>Present</td><td>Medium</td><td>Green</td><td>Medium</td><td>Purple</td><td>Light</td><td>Absent</td><td>Light_Purple</td><td>Solitary</td><td>Purple</td><td>Dark</td><td>Absent</td><td>Absent</td><td>Absent</td><td>Absent</td><td>Absent</td><td>Obovate</td><td>5</td><td>2024-08-13</td><td>9999-12-31</td><td>true</td><td>NOCHANGE</td></tr><tr><td>106</td><td>Present</td><td>Medium</td><td>Present</td><td>Weak</td><td>Green</td><td>Medium</td><td>Green</td><td>Medium</td><td>Absent</td><td>Light_Purple</td><td>Cluster</td><td>Green</td><td>Medium</td><td>Absent</td><td>Absent</td><td>Absent</td><td>Present</td><td>Medium</td><td>Club</td><td>6</td><td>2024-08-13</td><td>9999-12-31</td><td>true</td><td>NOCHANGE</td></tr><tr><td>109</td><td>Present</td><td>Medium</td><td>Present</td><td>Medium</td><td>Green</td><td>Dark</td><td>Purple</td><td>Medium</td><td>Absent</td><td>Light_Purple</td><td>Solitary</td><td>Purple</td><td>Dark</td><td>Absent</td><td>Absent</td><td>Absent</td><td>Absent</td><td>Absent</td><td>Obovate</td><td>9</td><td>2024-08-13</td><td>9999-12-31</td><td>true</td><td>NOCHANGE</td></tr><tr><td>110</td><td>Absent</td><td>Absent</td><td>Present</td><td>Strong</td><td>Green</td><td>Medium</td><td>Green</td><td>Medium</td><td>Absent</td><td>Purple</td><td>Solitary</td><td>Green</td><td>Medium</td><td>Absent</td><td>Absent</td><td>Present</td><td>Absent</td><td>Absent</td><td>Globular</td><td>10</td><td>2024-08-13</td><td>9999-12-31</td><td>true</td><td>NOCHANGE</td></tr></tbody></table></div>"
      ]
     },
     "metadata": {
      "application/vnd.databricks.v1+output": {
       "addedWidgets": {},
       "aggData": [],
       "aggError": "",
       "aggOverflow": false,
       "aggSchema": [],
       "aggSeriesLimitReached": false,
       "aggType": "",
       "arguments": {},
       "columnCustomDisplayInfos": {},
       "data": [
        [
         102,
         "Present",
         "Medium",
         "Present",
         "Medium",
         "Green",
         "Medium",
         "Purple",
         "Medium",
         "Absent",
         "Purple",
         "Solitary",
         "Purple",
         "Dark",
         "Present",
         "Sparse",
         "Absent",
         "Absent",
         "Absent",
         "Globular",
         2,
         "2024-08-13",
         "9999-12-31",
         true,
         "NOCHANGE"
        ],
        [
         104,
         "Absent",
         "Absent",
         "Present",
         "Medium",
         "Green",
         "Dark",
         "Green",
         "Medium",
         "Absent",
         "Greenish_White",
         "Solitary",
         "Green",
         "Med ium",
         "Absent",
         "Absent",
         "Absent",
         "Present",
         "Absent",
         "Club",
         4,
         "2024-08-13",
         "9999-12-31",
         true,
         "NOCHANGE"
        ],
        [
         105,
         "Present",
         "Weak",
         "Present",
         "Medium",
         "Green",
         "Medium",
         "Purple",
         "Light",
         "Absent",
         "Light_Purple",
         "Solitary",
         "Purple",
         "Dark",
         "Absent",
         "Absent",
         "Absent",
         "Absent",
         "Absent",
         "Obovate",
         5,
         "2024-08-13",
         "9999-12-31",
         true,
         "NOCHANGE"
        ],
        [
         106,
         "Present",
         "Medium",
         "Present",
         "Weak",
         "Green",
         "Medium",
         "Green",
         "Medium",
         "Absent",
         "Light_Purple",
         "Cluster",
         "Green",
         "Medium",
         "Absent",
         "Absent",
         "Absent",
         "Present",
         "Medium",
         "Club",
         6,
         "2024-08-13",
         "9999-12-31",
         true,
         "NOCHANGE"
        ],
        [
         109,
         "Present",
         "Medium",
         "Present",
         "Medium",
         "Green",
         "Dark",
         "Purple",
         "Medium",
         "Absent",
         "Light_Purple",
         "Solitary",
         "Purple",
         "Dark",
         "Absent",
         "Absent",
         "Absent",
         "Absent",
         "Absent",
         "Obovate",
         9,
         "2024-08-13",
         "9999-12-31",
         true,
         "NOCHANGE"
        ],
        [
         110,
         "Absent",
         "Absent",
         "Present",
         "Strong",
         "Green",
         "Medium",
         "Green",
         "Medium",
         "Absent",
         "Purple",
         "Solitary",
         "Green",
         "Medium",
         "Absent",
         "Absent",
         "Present",
         "Absent",
         "Absent",
         "Globular",
         10,
         "2024-08-13",
         "9999-12-31",
         true,
         "NOCHANGE"
        ]
       ],
       "datasetInfos": [],
       "dbfsResultPath": null,
       "isJsonSchema": true,
       "metadata": {},
       "overflow": false,
       "plotOptions": {
        "customPlotOptions": {},
        "displayType": "table",
        "pivotAggregation": null,
        "pivotColumns": null,
        "xColumns": null,
        "yColumns": null
       },
       "removedWidgets": [],
       "schema": [
        {
         "metadata": "{}",
         "name": "GenotypeName",
         "type": "\"integer\""
        },
        {
         "metadata": "{}",
         "name": "StemAnthocyanin",
         "type": "\"string\""
        },
        {
         "metadata": "{}",
         "name": "AnthocyaninIntensity",
         "type": "\"string\""
        },
        {
         "metadata": "{}",
         "name": "StemPubescence",
         "type": "\"string\""
        },
        {
         "metadata": "{}",
         "name": "StemPubescenceIntensity",
         "type": "\"string\""
        },
        {
         "metadata": "{}",
         "name": "LeafBladeColour",
         "type": "\"string\""
        },
        {
         "metadata": "{}",
         "name": "LeafBladeColourIntensity",
         "type": "\"string\""
        },
        {
         "metadata": "{}",
         "name": "ColourOfVein",
         "type": "\"string\""
        },
        {
         "metadata": "{}",
         "name": "IntensityOfColour8",
         "type": "\"string\""
        },
        {
         "metadata": "{}",
         "name": "SpineonLeaf",
         "type": "\"string\""
        },
        {
         "metadata": "{}",
         "name": "FlowerColour",
         "type": "\"string\""
        },
        {
         "metadata": "{}",
         "name": "FruitingPattern",
         "type": "\"string\""
        },
        {
         "metadata": "{}",
         "name": "FruitColour",
         "type": "\"string\""
        },
        {
         "metadata": "{}",
         "name": "IntensityofColour13",
         "type": "\"string\""
        },
        {
         "metadata": "{}",
         "name": "Stripes",
         "type": "\"string\""
        },
        {
         "metadata": "{}",
         "name": "StripesDensity",
         "type": "\"string\""
        },
        {
         "metadata": "{}",
         "name": "FruitPatches",
         "type": "\"string\""
        },
        {
         "metadata": "{}",
         "name": "SpinesInCalyx",
         "type": "\"string\""
        },
        {
         "metadata": "{}",
         "name": "DensityOfSpininess",
         "type": "\"string\""
        },
        {
         "metadata": "{}",
         "name": "FruitShape",
         "type": "\"string\""
        },
        {
         "metadata": "{}",
         "name": "surrogate_key",
         "type": "\"integer\""
        },
        {
         "metadata": "{\"__detected_date_formats\":\"yyyy-M-d\"}",
         "name": "effective_date",
         "type": "\"date\""
        },
        {
         "metadata": "{\"__detected_date_formats\":\"yyyy-M-d\"}",
         "name": "end_date",
         "type": "\"date\""
        },
        {
         "metadata": "{}",
         "name": "active_flag",
         "type": "\"boolean\""
        },
        {
         "metadata": "{}",
         "name": "Action",
         "type": "\"string\""
        }
       ],
       "type": "table"
      }
     },
     "output_type": "display_data"
    }
   ],
   "source": [
    "final_unchanged_data_records = unchanged_records.select(\n",
    "    'GenotypeName', 'StemAnthocyanin', 'AnthocyaninIntensity', \n",
    "    'StemPubescence', 'StemPubescenceIntensity', 'LeafBladeColour', \n",
    "    'LeafBladeColourIntensity', 'ColourOfVein', 'IntensityOfColour8', \n",
    "    'SpineonLeaf', 'FlowerColour', 'FruitingPattern', \n",
    "    'FruitColour', 'IntensityofColour13', 'Stripes', \n",
    "    'StripesDensity', 'FruitPatches', 'SpinesInCalyx', \n",
    "    'DensityOfSpininess', 'FruitShape', 'surrogate_key', \n",
    "    'effective_date', 'end_date', 'active_flag', 'hash_md5','Action'\n",
    ").drop('hash_md5')\n",
    "display(final_unchanged_data_records)"
   ]
  },
  {
   "cell_type": "code",
   "execution_count": 0,
   "metadata": {
    "application/vnd.databricks.v1+cell": {
     "cellMetadata": {
      "byteLimit": 2048000,
      "rowLimit": 10000
     },
     "inputWidgets": {},
     "nuid": "60954f83-03a9-43d8-bf32-b09fcae146be",
     "showTitle": false,
     "title": ""
    }
   },
   "outputs": [
    {
     "output_type": "display_data",
     "data": {
      "text/html": [
       "<style scoped>\n",
       "  .table-result-container {\n",
       "    max-height: 300px;\n",
       "    overflow: auto;\n",
       "  }\n",
       "  table, th, td {\n",
       "    border: 1px solid black;\n",
       "    border-collapse: collapse;\n",
       "  }\n",
       "  th, td {\n",
       "    padding: 5px;\n",
       "  }\n",
       "  th {\n",
       "    text-align: left;\n",
       "  }\n",
       "</style><div class='table-result-container'><table class='table-result'><thead style='background-color: white'><tr><th>GenotypeName</th><th>StemAnthocyanin</th><th>AnthocyaninIntensity</th><th>StemPubescence</th><th>StemPubescenceIntensity</th><th>LeafBladeColour</th><th>LeafBladeColourIntensity</th><th>ColourOfVein</th><th>IntensityOfColour8</th><th>SpineonLeaf</th><th>FlowerColour</th><th>FruitingPattern</th><th>FruitColour</th><th>IntensityofColour13</th><th>Stripes</th><th>StripesDensity</th><th>FruitPatches</th><th>SpinesInCalyx</th><th>DensityOfSpininess</th><th>FruitShape</th><th>Action</th></tr></thead><tbody><tr><td>111</td><td>Present</td><td>Weak</td><td>Present</td><td>Medium</td><td>Green</td><td>Medium</td><td>Green</td><td>Medium</td><td>Absent</td><td>Purple</td><td>Solitary</td><td>Purple</td><td>Medium</td><td>Present</td><td>Strong</td><td>Absent</td><td>Present</td><td>Medium</td><td>Ovoid</td><td>INSERT</td></tr><tr><td>112</td><td>Absent</td><td>Absent</td><td>Present</td><td>Medium</td><td>Green</td><td>Medium</td><td>Green</td><td>Medium</td><td>Absent</td><td>Light_Purple</td><td>Cluster</td><td>Green</td><td>Medium</td><td>Present</td><td>Sparse</td><td>Present</td><td>Absent</td><td>Absent</td><td>Obovate</td><td>INSERT</td></tr></tbody></table></div>"
      ]
     },
     "metadata": {
      "application/vnd.databricks.v1+output": {
       "addedWidgets": {},
       "aggData": [],
       "aggError": "",
       "aggOverflow": false,
       "aggSchema": [],
       "aggSeriesLimitReached": false,
       "aggType": "",
       "arguments": {},
       "columnCustomDisplayInfos": {},
       "data": [
        [
         111,
         "Present",
         "Weak",
         "Present",
         "Medium",
         "Green",
         "Medium",
         "Green",
         "Medium",
         "Absent",
         "Purple",
         "Solitary",
         "Purple",
         "Medium",
         "Present",
         "Strong",
         "Absent",
         "Present",
         "Medium",
         "Ovoid",
         "INSERT"
        ],
        [
         112,
         "Absent",
         "Absent",
         "Present",
         "Medium",
         "Green",
         "Medium",
         "Green",
         "Medium",
         "Absent",
         "Light_Purple",
         "Cluster",
         "Green",
         "Medium",
         "Present",
         "Sparse",
         "Present",
         "Absent",
         "Absent",
         "Obovate",
         "INSERT"
        ]
       ],
       "datasetInfos": [],
       "dbfsResultPath": null,
       "isJsonSchema": true,
       "metadata": {},
       "overflow": false,
       "plotOptions": {
        "customPlotOptions": {},
        "displayType": "table",
        "pivotAggregation": null,
        "pivotColumns": null,
        "xColumns": null,
        "yColumns": null
       },
       "removedWidgets": [],
       "schema": [
        {
         "metadata": "{}",
         "name": "GenotypeName",
         "type": "\"integer\""
        },
        {
         "metadata": "{}",
         "name": "StemAnthocyanin",
         "type": "\"string\""
        },
        {
         "metadata": "{}",
         "name": "AnthocyaninIntensity",
         "type": "\"string\""
        },
        {
         "metadata": "{}",
         "name": "StemPubescence",
         "type": "\"string\""
        },
        {
         "metadata": "{}",
         "name": "StemPubescenceIntensity",
         "type": "\"string\""
        },
        {
         "metadata": "{}",
         "name": "LeafBladeColour",
         "type": "\"string\""
        },
        {
         "metadata": "{}",
         "name": "LeafBladeColourIntensity",
         "type": "\"string\""
        },
        {
         "metadata": "{}",
         "name": "ColourOfVein",
         "type": "\"string\""
        },
        {
         "metadata": "{}",
         "name": "IntensityOfColour8",
         "type": "\"string\""
        },
        {
         "metadata": "{}",
         "name": "SpineonLeaf",
         "type": "\"string\""
        },
        {
         "metadata": "{}",
         "name": "FlowerColour",
         "type": "\"string\""
        },
        {
         "metadata": "{}",
         "name": "FruitingPattern",
         "type": "\"string\""
        },
        {
         "metadata": "{}",
         "name": "FruitColour",
         "type": "\"string\""
        },
        {
         "metadata": "{}",
         "name": "IntensityofColour13",
         "type": "\"string\""
        },
        {
         "metadata": "{}",
         "name": "Stripes",
         "type": "\"string\""
        },
        {
         "metadata": "{}",
         "name": "StripesDensity",
         "type": "\"string\""
        },
        {
         "metadata": "{}",
         "name": "FruitPatches",
         "type": "\"string\""
        },
        {
         "metadata": "{}",
         "name": "SpinesInCalyx",
         "type": "\"string\""
        },
        {
         "metadata": "{}",
         "name": "DensityOfSpininess",
         "type": "\"string\""
        },
        {
         "metadata": "{}",
         "name": "FruitShape",
         "type": "\"string\""
        },
        {
         "metadata": "{}",
         "name": "Action",
         "type": "\"string\""
        }
       ],
       "type": "table"
      }
     },
     "output_type": "display_data"
    }
   ],
   "source": [
    "Inserted_records = column_renamer(merged_df.filter(col(\"action\") == 'INSERT'), suffix=\"_source\", append=False).select('GenotypeName', 'StemAnthocyanin', 'AnthocyaninIntensity', 'StemPubescence', 'StemPubescenceIntensity', 'LeafBladeColour', 'LeafBladeColourIntensity', 'ColourOfVein', 'IntensityOfColour8', 'SpineonLeaf', 'FlowerColour', 'FruitingPattern', 'FruitColour', 'IntensityofColour13', 'Stripes', 'StripesDensity', 'FruitPatches', 'SpinesInCalyx', 'DensityOfSpininess', 'FruitShape','Action')\n",
    "display(Inserted_records)"
   ]
  },
  {
   "cell_type": "code",
   "execution_count": 0,
   "metadata": {
    "application/vnd.databricks.v1+cell": {
     "cellMetadata": {
      "byteLimit": 2048000,
      "rowLimit": 10000
     },
     "inputWidgets": {},
     "nuid": "58baa02a-baa1-4f6c-b0c0-6a0a7c954102",
     "showTitle": false,
     "title": ""
    }
   },
   "outputs": [
    {
     "output_type": "stream",
     "name": "stdout",
     "output_type": "stream",
     "text": [
      "10\n"
     ]
    }
   ],
   "source": [
    "max_sk = active_target_rename_df.agg({\"surrogate_key_target\": \"max\"}).collect()[0][0]\n",
    "print(max_sk)"
   ]
  },
  {
   "cell_type": "code",
   "execution_count": 0,
   "metadata": {
    "application/vnd.databricks.v1+cell": {
     "cellMetadata": {
      "byteLimit": 2048000,
      "rowLimit": 10000
     },
     "inputWidgets": {},
     "nuid": "058e64c1-561c-4932-8848-45377def6b1b",
     "showTitle": false,
     "title": ""
    }
   },
   "outputs": [
    {
     "output_type": "display_data",
     "data": {
      "text/html": [
       "<style scoped>\n",
       "  .table-result-container {\n",
       "    max-height: 300px;\n",
       "    overflow: auto;\n",
       "  }\n",
       "  table, th, td {\n",
       "    border: 1px solid black;\n",
       "    border-collapse: collapse;\n",
       "  }\n",
       "  th, td {\n",
       "    padding: 5px;\n",
       "  }\n",
       "  th {\n",
       "    text-align: left;\n",
       "  }\n",
       "</style><div class='table-result-container'><table class='table-result'><thead style='background-color: white'><tr><th>GenotypeName</th><th>StemAnthocyanin</th><th>AnthocyaninIntensity</th><th>StemPubescence</th><th>StemPubescenceIntensity</th><th>LeafBladeColour</th><th>LeafBladeColourIntensity</th><th>ColourOfVein</th><th>IntensityOfColour8</th><th>SpineonLeaf</th><th>FlowerColour</th><th>FruitingPattern</th><th>FruitColour</th><th>IntensityofColour13</th><th>Stripes</th><th>StripesDensity</th><th>FruitPatches</th><th>SpinesInCalyx</th><th>DensityOfSpininess</th><th>FruitShape</th><th>Action</th><th>surrogate_key</th><th>effective_date</th><th>end_date</th><th>active_flag</th></tr></thead><tbody><tr><td>111</td><td>Present</td><td>Weak</td><td>Present</td><td>Medium</td><td>Green</td><td>Medium</td><td>Green</td><td>Medium</td><td>Absent</td><td>Purple</td><td>Solitary</td><td>Purple</td><td>Medium</td><td>Present</td><td>Strong</td><td>Absent</td><td>Present</td><td>Medium</td><td>Ovoid</td><td>INSERT</td><td>11</td><td>2024-08-13</td><td>9999-12-31</td><td>true</td></tr><tr><td>112</td><td>Absent</td><td>Absent</td><td>Present</td><td>Medium</td><td>Green</td><td>Medium</td><td>Green</td><td>Medium</td><td>Absent</td><td>Light_Purple</td><td>Cluster</td><td>Green</td><td>Medium</td><td>Present</td><td>Sparse</td><td>Present</td><td>Absent</td><td>Absent</td><td>Obovate</td><td>INSERT</td><td>12</td><td>2024-08-13</td><td>9999-12-31</td><td>true</td></tr></tbody></table></div>"
      ]
     },
     "metadata": {
      "application/vnd.databricks.v1+output": {
       "addedWidgets": {},
       "aggData": [],
       "aggError": "",
       "aggOverflow": false,
       "aggSchema": [],
       "aggSeriesLimitReached": false,
       "aggType": "",
       "arguments": {},
       "columnCustomDisplayInfos": {},
       "data": [
        [
         111,
         "Present",
         "Weak",
         "Present",
         "Medium",
         "Green",
         "Medium",
         "Green",
         "Medium",
         "Absent",
         "Purple",
         "Solitary",
         "Purple",
         "Medium",
         "Present",
         "Strong",
         "Absent",
         "Present",
         "Medium",
         "Ovoid",
         "INSERT",
         11,
         "2024-08-13",
         "9999-12-31",
         true
        ],
        [
         112,
         "Absent",
         "Absent",
         "Present",
         "Medium",
         "Green",
         "Medium",
         "Green",
         "Medium",
         "Absent",
         "Light_Purple",
         "Cluster",
         "Green",
         "Medium",
         "Present",
         "Sparse",
         "Present",
         "Absent",
         "Absent",
         "Obovate",
         "INSERT",
         12,
         "2024-08-13",
         "9999-12-31",
         true
        ]
       ],
       "datasetInfos": [],
       "dbfsResultPath": null,
       "isJsonSchema": true,
       "metadata": {},
       "overflow": false,
       "plotOptions": {
        "customPlotOptions": {},
        "displayType": "table",
        "pivotAggregation": null,
        "pivotColumns": null,
        "xColumns": null,
        "yColumns": null
       },
       "removedWidgets": [],
       "schema": [
        {
         "metadata": "{}",
         "name": "GenotypeName",
         "type": "\"integer\""
        },
        {
         "metadata": "{}",
         "name": "StemAnthocyanin",
         "type": "\"string\""
        },
        {
         "metadata": "{}",
         "name": "AnthocyaninIntensity",
         "type": "\"string\""
        },
        {
         "metadata": "{}",
         "name": "StemPubescence",
         "type": "\"string\""
        },
        {
         "metadata": "{}",
         "name": "StemPubescenceIntensity",
         "type": "\"string\""
        },
        {
         "metadata": "{}",
         "name": "LeafBladeColour",
         "type": "\"string\""
        },
        {
         "metadata": "{}",
         "name": "LeafBladeColourIntensity",
         "type": "\"string\""
        },
        {
         "metadata": "{}",
         "name": "ColourOfVein",
         "type": "\"string\""
        },
        {
         "metadata": "{}",
         "name": "IntensityOfColour8",
         "type": "\"string\""
        },
        {
         "metadata": "{}",
         "name": "SpineonLeaf",
         "type": "\"string\""
        },
        {
         "metadata": "{}",
         "name": "FlowerColour",
         "type": "\"string\""
        },
        {
         "metadata": "{}",
         "name": "FruitingPattern",
         "type": "\"string\""
        },
        {
         "metadata": "{}",
         "name": "FruitColour",
         "type": "\"string\""
        },
        {
         "metadata": "{}",
         "name": "IntensityofColour13",
         "type": "\"string\""
        },
        {
         "metadata": "{}",
         "name": "Stripes",
         "type": "\"string\""
        },
        {
         "metadata": "{}",
         "name": "StripesDensity",
         "type": "\"string\""
        },
        {
         "metadata": "{}",
         "name": "FruitPatches",
         "type": "\"string\""
        },
        {
         "metadata": "{}",
         "name": "SpinesInCalyx",
         "type": "\"string\""
        },
        {
         "metadata": "{}",
         "name": "DensityOfSpininess",
         "type": "\"string\""
        },
        {
         "metadata": "{}",
         "name": "FruitShape",
         "type": "\"string\""
        },
        {
         "metadata": "{}",
         "name": "Action",
         "type": "\"string\""
        },
        {
         "metadata": "{}",
         "name": "surrogate_key",
         "type": "\"integer\""
        },
        {
         "metadata": "{}",
         "name": "effective_date",
         "type": "\"string\""
        },
        {
         "metadata": "{}",
         "name": "end_date",
         "type": "\"string\""
        },
        {
         "metadata": "{}",
         "name": "active_flag",
         "type": "\"boolean\""
        }
       ],
       "type": "table"
      }
     },
     "output_type": "display_data"
    }
   ],
   "source": [
    "from pyspark.sql.functions import row_number, col, lit, date_format, current_date\n",
    "from pyspark.sql.window import Window\n",
    "\n",
    "window_spec = Window.orderBy(\"GenotypeName\")\n",
    "\n",
    "insert_records = Inserted_records.withColumn(\"row_number\", row_number().over(window_spec))\\\n",
    " .withColumn(\"surrogate_key\", col(\"row_number\") + max_sk)\\\n",
    " .withColumn(\"effective_date\", date_format(current_date(), DATE_FORMAT))\\\n",
    " .withColumn(\"end_date\", date_format(lit(future_date), DATE_FORMAT))\\\n",
    " .withColumn(\"active_flag\", lit(True))\\\n",
    " .drop(\"row_number\")\n",
    "\n",
    "display(insert_records)"
   ]
  },
  {
   "cell_type": "code",
   "execution_count": 0,
   "metadata": {
    "application/vnd.databricks.v1+cell": {
     "cellMetadata": {
      "byteLimit": 2048000,
      "rowLimit": 10000
     },
     "inputWidgets": {},
     "nuid": "ba20204e-c510-4d7f-9e6e-da774ff609ca",
     "showTitle": false,
     "title": ""
    }
   },
   "outputs": [
    {
     "output_type": "display_data",
     "data": {
      "text/html": [
       "<style scoped>\n",
       "  .table-result-container {\n",
       "    max-height: 300px;\n",
       "    overflow: auto;\n",
       "  }\n",
       "  table, th, td {\n",
       "    border: 1px solid black;\n",
       "    border-collapse: collapse;\n",
       "  }\n",
       "  th, td {\n",
       "    padding: 5px;\n",
       "  }\n",
       "  th {\n",
       "    text-align: left;\n",
       "  }\n",
       "</style><div class='table-result-container'><table class='table-result'><thead style='background-color: white'><tr><th>GenotypeName</th><th>StemAnthocyanin</th><th>AnthocyaninIntensity</th><th>StemPubescence</th><th>StemPubescenceIntensity</th><th>LeafBladeColour</th><th>LeafBladeColourIntensity</th><th>ColourOfVein</th><th>IntensityOfColour8</th><th>SpineonLeaf</th><th>FlowerColour</th><th>FruitingPattern</th><th>FruitColour</th><th>IntensityofColour13</th><th>Stripes</th><th>StripesDensity</th><th>FruitPatches</th><th>SpinesInCalyx</th><th>DensityOfSpininess</th><th>FruitShape</th><th>surrogate_key</th><th>effective_date</th><th>Action</th><th>end_date</th><th>active_flag</th></tr></thead><tbody><tr><td>103</td><td>Absent</td><td>Absent</td><td>Present</td><td>Medium</td><td>Green</td><td>Medium</td><td>Green</td><td>Medium</td><td>Absent</td><td>Light_Purple</td><td>Cluster</td><td>Green</td><td>Medium</td><td>Present</td><td>Sparse</td><td>Present</td><td>Absent</td><td>Absent</td><td>Obovate</td><td>3</td><td>2024-08-13</td><td>DELETE</td><td>2024-08-13</td><td>false</td></tr><tr><td>107</td><td>Present</td><td>Weak</td><td>Present</td><td>Medium</td><td>Green</td><td>Medium</td><td>Green</td><td>Medium</td><td>Absent</td><td>Purple</td><td>Solitary</td><td>Purple</td><td>Medium</td><td>Present</td><td>Strong</td><td>Absent</td><td>Present</td><td>Medium</td><td>Ovoid</td><td>7</td><td>2024-08-13</td><td>DELETE</td><td>2024-08-13</td><td>false</td></tr></tbody></table></div>"
      ]
     },
     "metadata": {
      "application/vnd.databricks.v1+output": {
       "addedWidgets": {},
       "aggData": [],
       "aggError": "",
       "aggOverflow": false,
       "aggSchema": [],
       "aggSeriesLimitReached": false,
       "aggType": "",
       "arguments": {},
       "columnCustomDisplayInfos": {},
       "data": [
        [
         103,
         "Absent",
         "Absent",
         "Present",
         "Medium",
         "Green",
         "Medium",
         "Green",
         "Medium",
         "Absent",
         "Light_Purple",
         "Cluster",
         "Green",
         "Medium",
         "Present",
         "Sparse",
         "Present",
         "Absent",
         "Absent",
         "Obovate",
         3,
         "2024-08-13",
         "DELETE",
         "2024-08-13",
         false
        ],
        [
         107,
         "Present",
         "Weak",
         "Present",
         "Medium",
         "Green",
         "Medium",
         "Green",
         "Medium",
         "Absent",
         "Purple",
         "Solitary",
         "Purple",
         "Medium",
         "Present",
         "Strong",
         "Absent",
         "Present",
         "Medium",
         "Ovoid",
         7,
         "2024-08-13",
         "DELETE",
         "2024-08-13",
         false
        ]
       ],
       "datasetInfos": [],
       "dbfsResultPath": null,
       "isJsonSchema": true,
       "metadata": {},
       "overflow": false,
       "plotOptions": {
        "customPlotOptions": {},
        "displayType": "table",
        "pivotAggregation": null,
        "pivotColumns": null,
        "xColumns": null,
        "yColumns": null
       },
       "removedWidgets": [],
       "schema": [
        {
         "metadata": "{}",
         "name": "GenotypeName",
         "type": "\"integer\""
        },
        {
         "metadata": "{}",
         "name": "StemAnthocyanin",
         "type": "\"string\""
        },
        {
         "metadata": "{}",
         "name": "AnthocyaninIntensity",
         "type": "\"string\""
        },
        {
         "metadata": "{}",
         "name": "StemPubescence",
         "type": "\"string\""
        },
        {
         "metadata": "{}",
         "name": "StemPubescenceIntensity",
         "type": "\"string\""
        },
        {
         "metadata": "{}",
         "name": "LeafBladeColour",
         "type": "\"string\""
        },
        {
         "metadata": "{}",
         "name": "LeafBladeColourIntensity",
         "type": "\"string\""
        },
        {
         "metadata": "{}",
         "name": "ColourOfVein",
         "type": "\"string\""
        },
        {
         "metadata": "{}",
         "name": "IntensityOfColour8",
         "type": "\"string\""
        },
        {
         "metadata": "{}",
         "name": "SpineonLeaf",
         "type": "\"string\""
        },
        {
         "metadata": "{}",
         "name": "FlowerColour",
         "type": "\"string\""
        },
        {
         "metadata": "{}",
         "name": "FruitingPattern",
         "type": "\"string\""
        },
        {
         "metadata": "{}",
         "name": "FruitColour",
         "type": "\"string\""
        },
        {
         "metadata": "{}",
         "name": "IntensityofColour13",
         "type": "\"string\""
        },
        {
         "metadata": "{}",
         "name": "Stripes",
         "type": "\"string\""
        },
        {
         "metadata": "{}",
         "name": "StripesDensity",
         "type": "\"string\""
        },
        {
         "metadata": "{}",
         "name": "FruitPatches",
         "type": "\"string\""
        },
        {
         "metadata": "{}",
         "name": "SpinesInCalyx",
         "type": "\"string\""
        },
        {
         "metadata": "{}",
         "name": "DensityOfSpininess",
         "type": "\"string\""
        },
        {
         "metadata": "{}",
         "name": "FruitShape",
         "type": "\"string\""
        },
        {
         "metadata": "{}",
         "name": "surrogate_key",
         "type": "\"integer\""
        },
        {
         "metadata": "{\"__detected_date_formats\":\"yyyy-M-d\"}",
         "name": "effective_date",
         "type": "\"date\""
        },
        {
         "metadata": "{}",
         "name": "Action",
         "type": "\"string\""
        },
        {
         "metadata": "{}",
         "name": "end_date",
         "type": "\"string\""
        },
        {
         "metadata": "{}",
         "name": "active_flag",
         "type": "\"boolean\""
        }
       ],
       "type": "table"
      }
     },
     "output_type": "display_data"
    }
   ],
   "source": [
    "delete_records = column_renamer(merged_df.filter(col(\"action\") == 'DELETE'), suffix=\"_target\", append=False).select('GenotypeName', 'StemAnthocyanin', 'AnthocyaninIntensity', 'StemPubescence', 'StemPubescenceIntensity', 'LeafBladeColour', 'LeafBladeColourIntensity', 'ColourOfVein', 'IntensityOfColour8', 'SpineonLeaf', 'FlowerColour', 'FruitingPattern', 'FruitColour', 'IntensityofColour13', 'Stripes', 'StripesDensity', 'FruitPatches', 'SpinesInCalyx', 'DensityOfSpininess', 'FruitShape','surrogate_key','effective_date','Action').withColumn(\"end_date\", date_format(current_date(),DATE_FORMAT)).withColumn(\"active_flag\", lit(False))\n",
    "display(delete_records)"
   ]
  },
  {
   "cell_type": "code",
   "execution_count": 0,
   "metadata": {
    "application/vnd.databricks.v1+cell": {
     "cellMetadata": {
      "byteLimit": 2048000,
      "rowLimit": 10000
     },
     "inputWidgets": {},
     "nuid": "902d6957-2e07-492d-b01b-8af220346532",
     "showTitle": false,
     "title": ""
    }
   },
   "outputs": [
    {
     "output_type": "stream",
     "name": "stdout",
     "output_type": "stream",
     "text": [
      "['GenotypeName_target', 'StemAnthocyanin_target', 'AnthocyaninIntensity_target', 'StemPubescence_target', 'StemPubescenceIntensity_target', 'LeafBladeColour_target', 'LeafBladeColourIntensity_target', 'ColourOfVein_target', 'IntensityOfColour8_target', 'SpineonLeaf_target', 'FlowerColour_target', 'FruitingPattern_target', 'FruitColour_target', 'IntensityofColour13_target', 'Stripes_target', 'StripesDensity_target', 'FruitPatches_target', 'SpinesInCalyx_target', 'DensityOfSpininess_target', 'FruitShape_target', 'surrogate_key_target', 'effective_date_target', 'end_date_target', 'active_flag_target', 'hash_md5_target', 'GenotypeName_source', 'StemAnthocyanin_source', 'AnthocyaninIntensity_source', 'StemPubescence_source', 'StemPubescenceIntensity_source', 'LeafBladeColour_source', 'LeafBladeColourIntensity_source', 'ColourOfVein_source', 'IntensityOfColour8_source', 'SpineonLeaf_source', 'FlowerColour_source', 'FruitingPattern_source', 'FruitColour_source', 'IntensityofColour13_source', 'Stripes_source', 'StripesDensity_source', 'FruitPatches_source', 'SpinesInCalyx_source', 'DensityOfSpininess_source', 'FruitShape_source', 'hash_md5_source', 'Action']\n"
     ]
    }
   ],
   "source": [
    "print(merged_df.columns)"
   ]
  },
  {
   "cell_type": "code",
   "execution_count": 0,
   "metadata": {
    "application/vnd.databricks.v1+cell": {
     "cellMetadata": {
      "byteLimit": 2048000,
      "rowLimit": 10000
     },
     "inputWidgets": {},
     "nuid": "f7938c1c-ea33-483d-a388-98bb4ccaf8d2",
     "showTitle": false,
     "title": ""
    }
   },
   "outputs": [
    {
     "output_type": "display_data",
     "data": {
      "text/html": [
       "<style scoped>\n",
       "  .table-result-container {\n",
       "    max-height: 300px;\n",
       "    overflow: auto;\n",
       "  }\n",
       "  table, th, td {\n",
       "    border: 1px solid black;\n",
       "    border-collapse: collapse;\n",
       "  }\n",
       "  th, td {\n",
       "    padding: 5px;\n",
       "  }\n",
       "  th {\n",
       "    text-align: left;\n",
       "  }\n",
       "</style><div class='table-result-container'><table class='table-result'><thead style='background-color: white'><tr><th>GenotypeName</th><th>StemAnthocyanin</th><th>AnthocyaninIntensity</th><th>StemPubescence</th><th>StemPubescenceIntensity</th><th>LeafBladeColour</th><th>LeafBladeColourIntensity</th><th>ColourOfVein</th><th>IntensityOfColour8</th><th>SpineonLeaf</th><th>FlowerColour</th><th>FruitingPattern</th><th>FruitColour</th><th>IntensityofColour13</th><th>Stripes</th><th>StripesDensity</th><th>FruitPatches</th><th>SpinesInCalyx</th><th>DensityOfSpininess</th><th>FruitShape</th><th>surrogate_key</th><th>effective_date</th><th>Action</th><th>end_date</th><th>active_flag</th></tr></thead><tbody><tr><td>101</td><td>Absent</td><td>Absent</td><td>Present</td><td>Medium</td><td>Green</td><td>Dark</td><td>Green</td><td>Medium</td><td>Absent</td><td>Purple</td><td>Cluster</td><td>Purple</td><td>Medium</td><td>Present</td><td>Sparse</td><td>Present</td><td>Absent</td><td>Absent</td><td>Obovate</td><td>1</td><td>2024-08-13</td><td>UPDATE</td><td>2024-08-13</td><td>false</td></tr><tr><td>108</td><td>Present</td><td>Strong</td><td>Present</td><td>Medium</td><td>Green</td><td>Light</td><td>Purple</td><td>Medium</td><td>Absent</td><td>Light_Purple</td><td>Solitary</td><td>Purple</td><td>Dark</td><td>Absent</td><td>Absent</td><td>Present</td><td>Present</td><td>Medium</td><td>Ovoid</td><td>8</td><td>2024-08-13</td><td>UPDATE</td><td>2024-08-13</td><td>false</td></tr><tr><td>101</td><td>Absent</td><td>Absent</td><td>Present</td><td>Medium</td><td>Green</td><td>Dark</td><td>Green</td><td>Medium</td><td>Absent</td><td>Purple</td><td>Cluster</td><td>Purple</td><td>Medium</td><td>Present</td><td>Sparse</td><td>Present</td><td>Absent</td><td>Absent</td><td>Globular</td><td>11</td><td>2024-08-13</td><td>UPDATE</td><td>9999-12-31</td><td>true</td></tr><tr><td>108</td><td>Present</td><td>Strong</td><td>Present</td><td>Medium</td><td>Green</td><td>Light</td><td>Purple</td><td>Medium</td><td>Absent</td><td>Light_Purple</td><td>Solitary</td><td>Purple</td><td>Dark</td><td>Absent</td><td>Absent</td><td>Present</td><td>Present</td><td>Medium</td><td>Club</td><td>12</td><td>2024-08-13</td><td>UPDATE</td><td>9999-12-31</td><td>true</td></tr></tbody></table></div>"
      ]
     },
     "metadata": {
      "application/vnd.databricks.v1+output": {
       "addedWidgets": {},
       "aggData": [],
       "aggError": "",
       "aggOverflow": false,
       "aggSchema": [],
       "aggSeriesLimitReached": false,
       "aggType": "",
       "arguments": {},
       "columnCustomDisplayInfos": {},
       "data": [
        [
         101,
         "Absent",
         "Absent",
         "Present",
         "Medium",
         "Green",
         "Dark",
         "Green",
         "Medium",
         "Absent",
         "Purple",
         "Cluster",
         "Purple",
         "Medium",
         "Present",
         "Sparse",
         "Present",
         "Absent",
         "Absent",
         "Obovate",
         1,
         "2024-08-13",
         "UPDATE",
         "2024-08-13",
         false
        ],
        [
         108,
         "Present",
         "Strong",
         "Present",
         "Medium",
         "Green",
         "Light",
         "Purple",
         "Medium",
         "Absent",
         "Light_Purple",
         "Solitary",
         "Purple",
         "Dark",
         "Absent",
         "Absent",
         "Present",
         "Present",
         "Medium",
         "Ovoid",
         8,
         "2024-08-13",
         "UPDATE",
         "2024-08-13",
         false
        ],
        [
         101,
         "Absent",
         "Absent",
         "Present",
         "Medium",
         "Green",
         "Dark",
         "Green",
         "Medium",
         "Absent",
         "Purple",
         "Cluster",
         "Purple",
         "Medium",
         "Present",
         "Sparse",
         "Present",
         "Absent",
         "Absent",
         "Globular",
         11,
         "2024-08-13",
         "UPDATE",
         "9999-12-31",
         true
        ],
        [
         108,
         "Present",
         "Strong",
         "Present",
         "Medium",
         "Green",
         "Light",
         "Purple",
         "Medium",
         "Absent",
         "Light_Purple",
         "Solitary",
         "Purple",
         "Dark",
         "Absent",
         "Absent",
         "Present",
         "Present",
         "Medium",
         "Club",
         12,
         "2024-08-13",
         "UPDATE",
         "9999-12-31",
         true
        ]
       ],
       "datasetInfos": [],
       "dbfsResultPath": null,
       "isJsonSchema": true,
       "metadata": {},
       "overflow": false,
       "plotOptions": {
        "customPlotOptions": {},
        "displayType": "table",
        "pivotAggregation": null,
        "pivotColumns": null,
        "xColumns": null,
        "yColumns": null
       },
       "removedWidgets": [],
       "schema": [
        {
         "metadata": "{}",
         "name": "GenotypeName",
         "type": "\"integer\""
        },
        {
         "metadata": "{}",
         "name": "StemAnthocyanin",
         "type": "\"string\""
        },
        {
         "metadata": "{}",
         "name": "AnthocyaninIntensity",
         "type": "\"string\""
        },
        {
         "metadata": "{}",
         "name": "StemPubescence",
         "type": "\"string\""
        },
        {
         "metadata": "{}",
         "name": "StemPubescenceIntensity",
         "type": "\"string\""
        },
        {
         "metadata": "{}",
         "name": "LeafBladeColour",
         "type": "\"string\""
        },
        {
         "metadata": "{}",
         "name": "LeafBladeColourIntensity",
         "type": "\"string\""
        },
        {
         "metadata": "{}",
         "name": "ColourOfVein",
         "type": "\"string\""
        },
        {
         "metadata": "{}",
         "name": "IntensityOfColour8",
         "type": "\"string\""
        },
        {
         "metadata": "{}",
         "name": "SpineonLeaf",
         "type": "\"string\""
        },
        {
         "metadata": "{}",
         "name": "FlowerColour",
         "type": "\"string\""
        },
        {
         "metadata": "{}",
         "name": "FruitingPattern",
         "type": "\"string\""
        },
        {
         "metadata": "{}",
         "name": "FruitColour",
         "type": "\"string\""
        },
        {
         "metadata": "{}",
         "name": "IntensityofColour13",
         "type": "\"string\""
        },
        {
         "metadata": "{}",
         "name": "Stripes",
         "type": "\"string\""
        },
        {
         "metadata": "{}",
         "name": "StripesDensity",
         "type": "\"string\""
        },
        {
         "metadata": "{}",
         "name": "FruitPatches",
         "type": "\"string\""
        },
        {
         "metadata": "{}",
         "name": "SpinesInCalyx",
         "type": "\"string\""
        },
        {
         "metadata": "{}",
         "name": "DensityOfSpininess",
         "type": "\"string\""
        },
        {
         "metadata": "{}",
         "name": "FruitShape",
         "type": "\"string\""
        },
        {
         "metadata": "{}",
         "name": "surrogate_key",
         "type": "\"integer\""
        },
        {
         "metadata": "{}",
         "name": "effective_date",
         "type": "\"string\""
        },
        {
         "metadata": "{}",
         "name": "Action",
         "type": "\"string\""
        },
        {
         "metadata": "{}",
         "name": "end_date",
         "type": "\"string\""
        },
        {
         "metadata": "{}",
         "name": "active_flag",
         "type": "\"boolean\""
        }
       ],
       "type": "table"
      }
     },
     "output_type": "display_data"
    }
   ],
   "source": [
    "update_records = column_renamer(merged_df.filter(col(\"action\") == 'UPDATE'), suffix=\"_target\", append=False).select('GenotypeName', 'StemAnthocyanin', 'AnthocyaninIntensity', 'StemPubescence', 'StemPubescenceIntensity', 'LeafBladeColour', 'LeafBladeColourIntensity', 'ColourOfVein', 'IntensityOfColour8', 'SpineonLeaf', 'FlowerColour', 'FruitingPattern', 'FruitColour', 'IntensityofColour13', 'Stripes', 'StripesDensity', 'FruitPatches', 'SpinesInCalyx', 'DensityOfSpininess', 'FruitShape','surrogate_key', 'effective_date','Action') \\\n",
    "    .withColumn(\"end_date\", date_format(current_date(),DATE_FORMAT)).withColumn(\"active_flag\", lit(False)) \\\n",
    "    .unionByName(\n",
    "            column_renamer(merged_df.filter(col(\"action\") == 'UPDATE'), suffix=\"_source\", append=False)\\\n",
    "                .select('GenotypeName', 'StemAnthocyanin', 'AnthocyaninIntensity', 'StemPubescence', 'StemPubescenceIntensity', 'LeafBladeColour', 'LeafBladeColourIntensity', 'ColourOfVein', 'IntensityOfColour8', 'SpineonLeaf', 'FlowerColour', 'FruitingPattern', 'FruitColour', 'IntensityofColour13', 'Stripes', 'StripesDensity', 'FruitPatches', 'SpinesInCalyx', 'DensityOfSpininess', 'FruitShape','Action')\\\n",
    "                .withColumn(\"effective_date\",date_format(current_date(),DATE_FORMAT))\\\n",
    "                .withColumn(\"end_date\",date_format(lit(future_date),DATE_FORMAT))\\\n",
    "                .withColumn(\"row_number\",row_number().over(window_spec))\\\n",
    "                .withColumn(\"surrogate_key\",col(\"row_number\")+ max_sk)\\\n",
    "                .withColumn(\"active_flag\", lit(True))\\\n",
    "                .drop(\"row_number\")\n",
    "                )\n",
    "display(update_records)"
   ]
  },
  {
   "cell_type": "code",
   "execution_count": 0,
   "metadata": {
    "application/vnd.databricks.v1+cell": {
     "cellMetadata": {
      "byteLimit": 2048000,
      "rowLimit": 10000
     },
     "inputWidgets": {},
     "nuid": "45d782b1-7b2b-437b-9912-48e20fdc6c5f",
     "showTitle": false,
     "title": ""
    }
   },
   "outputs": [
    {
     "output_type": "display_data",
     "data": {
      "text/html": [
       "<style scoped>\n",
       "  .table-result-container {\n",
       "    max-height: 300px;\n",
       "    overflow: auto;\n",
       "  }\n",
       "  table, th, td {\n",
       "    border: 1px solid black;\n",
       "    border-collapse: collapse;\n",
       "  }\n",
       "  th, td {\n",
       "    padding: 5px;\n",
       "  }\n",
       "  th {\n",
       "    text-align: left;\n",
       "  }\n",
       "</style><div class='table-result-container'><table class='table-result'><thead style='background-color: white'><tr><th>GenotypeName</th><th>StemAnthocyanin</th><th>AnthocyaninIntensity</th><th>StemPubescence</th><th>StemPubescenceIntensity</th><th>LeafBladeColour</th><th>LeafBladeColourIntensity</th><th>ColourOfVein</th><th>IntensityOfColour8</th><th>SpineonLeaf</th><th>FlowerColour</th><th>FruitingPattern</th><th>FruitColour</th><th>IntensityofColour13</th><th>Stripes</th><th>StripesDensity</th><th>FruitPatches</th><th>SpinesInCalyx</th><th>DensityOfSpininess</th><th>FruitShape</th><th>surrogate_key</th><th>effective_date</th><th>end_date</th><th>active_flag</th><th>Action</th></tr></thead><tbody><tr><td>102</td><td>Present</td><td>Medium</td><td>Present</td><td>Medium</td><td>Green</td><td>Medium</td><td>Purple</td><td>Medium</td><td>Absent</td><td>Purple</td><td>Solitary</td><td>Purple</td><td>Dark</td><td>Present</td><td>Sparse</td><td>Absent</td><td>Absent</td><td>Absent</td><td>Globular</td><td>2</td><td>2024-08-13</td><td>9999-12-31</td><td>true</td><td>NOCHANGE</td></tr><tr><td>104</td><td>Absent</td><td>Absent</td><td>Present</td><td>Medium</td><td>Green</td><td>Dark</td><td>Green</td><td>Medium</td><td>Absent</td><td>Greenish_White</td><td>Solitary</td><td>Green</td><td>Med ium</td><td>Absent</td><td>Absent</td><td>Absent</td><td>Present</td><td>Absent</td><td>Club</td><td>4</td><td>2024-08-13</td><td>9999-12-31</td><td>true</td><td>NOCHANGE</td></tr><tr><td>105</td><td>Present</td><td>Weak</td><td>Present</td><td>Medium</td><td>Green</td><td>Medium</td><td>Purple</td><td>Light</td><td>Absent</td><td>Light_Purple</td><td>Solitary</td><td>Purple</td><td>Dark</td><td>Absent</td><td>Absent</td><td>Absent</td><td>Absent</td><td>Absent</td><td>Obovate</td><td>5</td><td>2024-08-13</td><td>9999-12-31</td><td>true</td><td>NOCHANGE</td></tr><tr><td>106</td><td>Present</td><td>Medium</td><td>Present</td><td>Weak</td><td>Green</td><td>Medium</td><td>Green</td><td>Medium</td><td>Absent</td><td>Light_Purple</td><td>Cluster</td><td>Green</td><td>Medium</td><td>Absent</td><td>Absent</td><td>Absent</td><td>Present</td><td>Medium</td><td>Club</td><td>6</td><td>2024-08-13</td><td>9999-12-31</td><td>true</td><td>NOCHANGE</td></tr><tr><td>109</td><td>Present</td><td>Medium</td><td>Present</td><td>Medium</td><td>Green</td><td>Dark</td><td>Purple</td><td>Medium</td><td>Absent</td><td>Light_Purple</td><td>Solitary</td><td>Purple</td><td>Dark</td><td>Absent</td><td>Absent</td><td>Absent</td><td>Absent</td><td>Absent</td><td>Obovate</td><td>9</td><td>2024-08-13</td><td>9999-12-31</td><td>true</td><td>NOCHANGE</td></tr><tr><td>110</td><td>Absent</td><td>Absent</td><td>Present</td><td>Strong</td><td>Green</td><td>Medium</td><td>Green</td><td>Medium</td><td>Absent</td><td>Purple</td><td>Solitary</td><td>Green</td><td>Medium</td><td>Absent</td><td>Absent</td><td>Present</td><td>Absent</td><td>Absent</td><td>Globular</td><td>10</td><td>2024-08-13</td><td>9999-12-31</td><td>true</td><td>NOCHANGE</td></tr><tr><td>111</td><td>Present</td><td>Weak</td><td>Present</td><td>Medium</td><td>Green</td><td>Medium</td><td>Green</td><td>Medium</td><td>Absent</td><td>Purple</td><td>Solitary</td><td>Purple</td><td>Medium</td><td>Present</td><td>Strong</td><td>Absent</td><td>Present</td><td>Medium</td><td>Ovoid</td><td>11</td><td>2024-08-13</td><td>9999-12-31</td><td>true</td><td>INSERT</td></tr><tr><td>112</td><td>Absent</td><td>Absent</td><td>Present</td><td>Medium</td><td>Green</td><td>Medium</td><td>Green</td><td>Medium</td><td>Absent</td><td>Light_Purple</td><td>Cluster</td><td>Green</td><td>Medium</td><td>Present</td><td>Sparse</td><td>Present</td><td>Absent</td><td>Absent</td><td>Obovate</td><td>12</td><td>2024-08-13</td><td>9999-12-31</td><td>true</td><td>INSERT</td></tr><tr><td>101</td><td>Absent</td><td>Absent</td><td>Present</td><td>Medium</td><td>Green</td><td>Dark</td><td>Green</td><td>Medium</td><td>Absent</td><td>Purple</td><td>Cluster</td><td>Purple</td><td>Medium</td><td>Present</td><td>Sparse</td><td>Present</td><td>Absent</td><td>Absent</td><td>Obovate</td><td>1</td><td>2024-08-13</td><td>2024-08-13</td><td>false</td><td>UPDATE</td></tr><tr><td>108</td><td>Present</td><td>Strong</td><td>Present</td><td>Medium</td><td>Green</td><td>Light</td><td>Purple</td><td>Medium</td><td>Absent</td><td>Light_Purple</td><td>Solitary</td><td>Purple</td><td>Dark</td><td>Absent</td><td>Absent</td><td>Present</td><td>Present</td><td>Medium</td><td>Ovoid</td><td>8</td><td>2024-08-13</td><td>2024-08-13</td><td>false</td><td>UPDATE</td></tr><tr><td>101</td><td>Absent</td><td>Absent</td><td>Present</td><td>Medium</td><td>Green</td><td>Dark</td><td>Green</td><td>Medium</td><td>Absent</td><td>Purple</td><td>Cluster</td><td>Purple</td><td>Medium</td><td>Present</td><td>Sparse</td><td>Present</td><td>Absent</td><td>Absent</td><td>Globular</td><td>11</td><td>2024-08-13</td><td>9999-12-31</td><td>true</td><td>UPDATE</td></tr><tr><td>108</td><td>Present</td><td>Strong</td><td>Present</td><td>Medium</td><td>Green</td><td>Light</td><td>Purple</td><td>Medium</td><td>Absent</td><td>Light_Purple</td><td>Solitary</td><td>Purple</td><td>Dark</td><td>Absent</td><td>Absent</td><td>Present</td><td>Present</td><td>Medium</td><td>Club</td><td>12</td><td>2024-08-13</td><td>9999-12-31</td><td>true</td><td>UPDATE</td></tr><tr><td>103</td><td>Absent</td><td>Absent</td><td>Present</td><td>Medium</td><td>Green</td><td>Medium</td><td>Green</td><td>Medium</td><td>Absent</td><td>Light_Purple</td><td>Cluster</td><td>Green</td><td>Medium</td><td>Present</td><td>Sparse</td><td>Present</td><td>Absent</td><td>Absent</td><td>Obovate</td><td>3</td><td>2024-08-13</td><td>2024-08-13</td><td>false</td><td>DELETE</td></tr><tr><td>107</td><td>Present</td><td>Weak</td><td>Present</td><td>Medium</td><td>Green</td><td>Medium</td><td>Green</td><td>Medium</td><td>Absent</td><td>Purple</td><td>Solitary</td><td>Purple</td><td>Medium</td><td>Present</td><td>Strong</td><td>Absent</td><td>Present</td><td>Medium</td><td>Ovoid</td><td>7</td><td>2024-08-13</td><td>2024-08-13</td><td>false</td><td>DELETE</td></tr></tbody></table></div>"
      ]
     },
     "metadata": {
      "application/vnd.databricks.v1+output": {
       "addedWidgets": {},
       "aggData": [],
       "aggError": "",
       "aggOverflow": false,
       "aggSchema": [],
       "aggSeriesLimitReached": false,
       "aggType": "",
       "arguments": {},
       "columnCustomDisplayInfos": {},
       "data": [
        [
         102,
         "Present",
         "Medium",
         "Present",
         "Medium",
         "Green",
         "Medium",
         "Purple",
         "Medium",
         "Absent",
         "Purple",
         "Solitary",
         "Purple",
         "Dark",
         "Present",
         "Sparse",
         "Absent",
         "Absent",
         "Absent",
         "Globular",
         2,
         "2024-08-13",
         "9999-12-31",
         true,
         "NOCHANGE"
        ],
        [
         104,
         "Absent",
         "Absent",
         "Present",
         "Medium",
         "Green",
         "Dark",
         "Green",
         "Medium",
         "Absent",
         "Greenish_White",
         "Solitary",
         "Green",
         "Med ium",
         "Absent",
         "Absent",
         "Absent",
         "Present",
         "Absent",
         "Club",
         4,
         "2024-08-13",
         "9999-12-31",
         true,
         "NOCHANGE"
        ],
        [
         105,
         "Present",
         "Weak",
         "Present",
         "Medium",
         "Green",
         "Medium",
         "Purple",
         "Light",
         "Absent",
         "Light_Purple",
         "Solitary",
         "Purple",
         "Dark",
         "Absent",
         "Absent",
         "Absent",
         "Absent",
         "Absent",
         "Obovate",
         5,
         "2024-08-13",
         "9999-12-31",
         true,
         "NOCHANGE"
        ],
        [
         106,
         "Present",
         "Medium",
         "Present",
         "Weak",
         "Green",
         "Medium",
         "Green",
         "Medium",
         "Absent",
         "Light_Purple",
         "Cluster",
         "Green",
         "Medium",
         "Absent",
         "Absent",
         "Absent",
         "Present",
         "Medium",
         "Club",
         6,
         "2024-08-13",
         "9999-12-31",
         true,
         "NOCHANGE"
        ],
        [
         109,
         "Present",
         "Medium",
         "Present",
         "Medium",
         "Green",
         "Dark",
         "Purple",
         "Medium",
         "Absent",
         "Light_Purple",
         "Solitary",
         "Purple",
         "Dark",
         "Absent",
         "Absent",
         "Absent",
         "Absent",
         "Absent",
         "Obovate",
         9,
         "2024-08-13",
         "9999-12-31",
         true,
         "NOCHANGE"
        ],
        [
         110,
         "Absent",
         "Absent",
         "Present",
         "Strong",
         "Green",
         "Medium",
         "Green",
         "Medium",
         "Absent",
         "Purple",
         "Solitary",
         "Green",
         "Medium",
         "Absent",
         "Absent",
         "Present",
         "Absent",
         "Absent",
         "Globular",
         10,
         "2024-08-13",
         "9999-12-31",
         true,
         "NOCHANGE"
        ],
        [
         111,
         "Present",
         "Weak",
         "Present",
         "Medium",
         "Green",
         "Medium",
         "Green",
         "Medium",
         "Absent",
         "Purple",
         "Solitary",
         "Purple",
         "Medium",
         "Present",
         "Strong",
         "Absent",
         "Present",
         "Medium",
         "Ovoid",
         11,
         "2024-08-13",
         "9999-12-31",
         true,
         "INSERT"
        ],
        [
         112,
         "Absent",
         "Absent",
         "Present",
         "Medium",
         "Green",
         "Medium",
         "Green",
         "Medium",
         "Absent",
         "Light_Purple",
         "Cluster",
         "Green",
         "Medium",
         "Present",
         "Sparse",
         "Present",
         "Absent",
         "Absent",
         "Obovate",
         12,
         "2024-08-13",
         "9999-12-31",
         true,
         "INSERT"
        ],
        [
         101,
         "Absent",
         "Absent",
         "Present",
         "Medium",
         "Green",
         "Dark",
         "Green",
         "Medium",
         "Absent",
         "Purple",
         "Cluster",
         "Purple",
         "Medium",
         "Present",
         "Sparse",
         "Present",
         "Absent",
         "Absent",
         "Obovate",
         1,
         "2024-08-13",
         "2024-08-13",
         false,
         "UPDATE"
        ],
        [
         108,
         "Present",
         "Strong",
         "Present",
         "Medium",
         "Green",
         "Light",
         "Purple",
         "Medium",
         "Absent",
         "Light_Purple",
         "Solitary",
         "Purple",
         "Dark",
         "Absent",
         "Absent",
         "Present",
         "Present",
         "Medium",
         "Ovoid",
         8,
         "2024-08-13",
         "2024-08-13",
         false,
         "UPDATE"
        ],
        [
         101,
         "Absent",
         "Absent",
         "Present",
         "Medium",
         "Green",
         "Dark",
         "Green",
         "Medium",
         "Absent",
         "Purple",
         "Cluster",
         "Purple",
         "Medium",
         "Present",
         "Sparse",
         "Present",
         "Absent",
         "Absent",
         "Globular",
         11,
         "2024-08-13",
         "9999-12-31",
         true,
         "UPDATE"
        ],
        [
         108,
         "Present",
         "Strong",
         "Present",
         "Medium",
         "Green",
         "Light",
         "Purple",
         "Medium",
         "Absent",
         "Light_Purple",
         "Solitary",
         "Purple",
         "Dark",
         "Absent",
         "Absent",
         "Present",
         "Present",
         "Medium",
         "Club",
         12,
         "2024-08-13",
         "9999-12-31",
         true,
         "UPDATE"
        ],
        [
         103,
         "Absent",
         "Absent",
         "Present",
         "Medium",
         "Green",
         "Medium",
         "Green",
         "Medium",
         "Absent",
         "Light_Purple",
         "Cluster",
         "Green",
         "Medium",
         "Present",
         "Sparse",
         "Present",
         "Absent",
         "Absent",
         "Obovate",
         3,
         "2024-08-13",
         "2024-08-13",
         false,
         "DELETE"
        ],
        [
         107,
         "Present",
         "Weak",
         "Present",
         "Medium",
         "Green",
         "Medium",
         "Green",
         "Medium",
         "Absent",
         "Purple",
         "Solitary",
         "Purple",
         "Medium",
         "Present",
         "Strong",
         "Absent",
         "Present",
         "Medium",
         "Ovoid",
         7,
         "2024-08-13",
         "2024-08-13",
         false,
         "DELETE"
        ]
       ],
       "datasetInfos": [],
       "dbfsResultPath": null,
       "isJsonSchema": true,
       "metadata": {},
       "overflow": false,
       "plotOptions": {
        "customPlotOptions": {},
        "displayType": "table",
        "pivotAggregation": null,
        "pivotColumns": null,
        "xColumns": null,
        "yColumns": null
       },
       "removedWidgets": [],
       "schema": [
        {
         "metadata": "{}",
         "name": "GenotypeName",
         "type": "\"integer\""
        },
        {
         "metadata": "{}",
         "name": "StemAnthocyanin",
         "type": "\"string\""
        },
        {
         "metadata": "{}",
         "name": "AnthocyaninIntensity",
         "type": "\"string\""
        },
        {
         "metadata": "{}",
         "name": "StemPubescence",
         "type": "\"string\""
        },
        {
         "metadata": "{}",
         "name": "StemPubescenceIntensity",
         "type": "\"string\""
        },
        {
         "metadata": "{}",
         "name": "LeafBladeColour",
         "type": "\"string\""
        },
        {
         "metadata": "{}",
         "name": "LeafBladeColourIntensity",
         "type": "\"string\""
        },
        {
         "metadata": "{}",
         "name": "ColourOfVein",
         "type": "\"string\""
        },
        {
         "metadata": "{}",
         "name": "IntensityOfColour8",
         "type": "\"string\""
        },
        {
         "metadata": "{}",
         "name": "SpineonLeaf",
         "type": "\"string\""
        },
        {
         "metadata": "{}",
         "name": "FlowerColour",
         "type": "\"string\""
        },
        {
         "metadata": "{}",
         "name": "FruitingPattern",
         "type": "\"string\""
        },
        {
         "metadata": "{}",
         "name": "FruitColour",
         "type": "\"string\""
        },
        {
         "metadata": "{}",
         "name": "IntensityofColour13",
         "type": "\"string\""
        },
        {
         "metadata": "{}",
         "name": "Stripes",
         "type": "\"string\""
        },
        {
         "metadata": "{}",
         "name": "StripesDensity",
         "type": "\"string\""
        },
        {
         "metadata": "{}",
         "name": "FruitPatches",
         "type": "\"string\""
        },
        {
         "metadata": "{}",
         "name": "SpinesInCalyx",
         "type": "\"string\""
        },
        {
         "metadata": "{}",
         "name": "DensityOfSpininess",
         "type": "\"string\""
        },
        {
         "metadata": "{}",
         "name": "FruitShape",
         "type": "\"string\""
        },
        {
         "metadata": "{}",
         "name": "surrogate_key",
         "type": "\"integer\""
        },
        {
         "metadata": "{}",
         "name": "effective_date",
         "type": "\"string\""
        },
        {
         "metadata": "{}",
         "name": "end_date",
         "type": "\"string\""
        },
        {
         "metadata": "{}",
         "name": "active_flag",
         "type": "\"boolean\""
        },
        {
         "metadata": "{}",
         "name": "Action",
         "type": "\"string\""
        }
       ],
       "type": "table"
      }
     },
     "output_type": "display_data"
    }
   ],
   "source": [
    "Finalised_df = final_unchanged_data_records\\\n",
    "    .unionByName(insert_records)\\\n",
    "    .unionByName(update_records)\\\n",
    "    .unionByName(delete_records)\n",
    "\n",
    "display(Finalised_df)"
   ]
  },
  {
   "cell_type": "code",
   "execution_count": 0,
   "metadata": {
    "application/vnd.databricks.v1+cell": {
     "cellMetadata": {},
     "inputWidgets": {},
     "nuid": "8af3a5ff-1090-4104-913a-3bfb2239ad3c",
     "showTitle": false,
     "title": ""
    }
   },
   "outputs": [],
   "source": []
  }
 ],
 "metadata": {
  "application/vnd.databricks.v1+notebook": {
   "dashboards": [],
   "environmentMetadata": null,
   "language": "python",
   "notebookMetadata": {
    "pythonIndentUnit": 4
   },
   "notebookName": "SCD_Types_2",
   "widgets": {}
  }
 },
 "nbformat": 4,
 "nbformat_minor": 0
}
